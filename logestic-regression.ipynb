{
 "cells": [
  {
   "cell_type": "code",
   "execution_count": 1,
   "id": "a6a6fada",
   "metadata": {
    "execution": {
     "iopub.execute_input": "2023-09-26T16:13:45.890067Z",
     "iopub.status.busy": "2023-09-26T16:13:45.889244Z",
     "iopub.status.idle": "2023-09-26T16:13:47.838434Z",
     "shell.execute_reply": "2023-09-26T16:13:47.837342Z"
    },
    "papermill": {
     "duration": 1.97428,
     "end_time": "2023-09-26T16:13:47.841389",
     "exception": false,
     "start_time": "2023-09-26T16:13:45.867109",
     "status": "completed"
    },
    "tags": []
   },
   "outputs": [],
   "source": [
    "import numpy as np\n",
    "import pandas as pd\n",
    "import matplotlib.pyplot as plt\n",
    "import seaborn as sns\n",
    "import warnings\n",
    "warnings.filterwarnings('ignore')\n",
    "pd.options.display.max_rows = 90\n",
    "#pd.options.display.max_rows = 100"
   ]
  },
  {
   "cell_type": "code",
   "execution_count": 2,
   "id": "d2458153",
   "metadata": {
    "execution": {
     "iopub.execute_input": "2023-09-26T16:13:47.882477Z",
     "iopub.status.busy": "2023-09-26T16:13:47.881752Z",
     "iopub.status.idle": "2023-09-26T16:13:47.957770Z",
     "shell.execute_reply": "2023-09-26T16:13:47.956810Z"
    },
    "papermill": {
     "duration": 0.099255,
     "end_time": "2023-09-26T16:13:47.960327",
     "exception": false,
     "start_time": "2023-09-26T16:13:47.861072",
     "status": "completed"
    },
    "tags": []
   },
   "outputs": [
    {
     "data": {
      "text/html": [
       "<div>\n",
       "<style scoped>\n",
       "    .dataframe tbody tr th:only-of-type {\n",
       "        vertical-align: middle;\n",
       "    }\n",
       "\n",
       "    .dataframe tbody tr th {\n",
       "        vertical-align: top;\n",
       "    }\n",
       "\n",
       "    .dataframe thead th {\n",
       "        text-align: right;\n",
       "    }\n",
       "</style>\n",
       "<table border=\"1\" class=\"dataframe\">\n",
       "  <thead>\n",
       "    <tr style=\"text-align: right;\">\n",
       "      <th></th>\n",
       "      <th>Email</th>\n",
       "      <th>Subject</th>\n",
       "      <th>Sender</th>\n",
       "      <th>Recipient</th>\n",
       "      <th>Date</th>\n",
       "      <th>Time</th>\n",
       "      <th>Attachments</th>\n",
       "      <th>Link Count</th>\n",
       "      <th>Word Count</th>\n",
       "      <th>Uppercase Count</th>\n",
       "      <th>Exclamation Count</th>\n",
       "      <th>Question Count</th>\n",
       "      <th>Dollar Count</th>\n",
       "      <th>Punctuation Count</th>\n",
       "      <th>HTML Tags Count</th>\n",
       "      <th>Spam Indicator</th>\n",
       "    </tr>\n",
       "  </thead>\n",
       "  <tbody>\n",
       "    <tr>\n",
       "      <th>0</th>\n",
       "      <td>mikerusso@example.net</td>\n",
       "      <td>Even hotel community church.</td>\n",
       "      <td>emilyscott@example.org</td>\n",
       "      <td>gregorysmith@example.org</td>\n",
       "      <td>13-02-2023</td>\n",
       "      <td>04:13</td>\n",
       "      <td>3</td>\n",
       "      <td>0</td>\n",
       "      <td>191</td>\n",
       "      <td>32</td>\n",
       "      <td>3</td>\n",
       "      <td>3</td>\n",
       "      <td>0</td>\n",
       "      <td>11</td>\n",
       "      <td>1</td>\n",
       "      <td>1</td>\n",
       "    </tr>\n",
       "    <tr>\n",
       "      <th>1</th>\n",
       "      <td>waynebailey@example.org</td>\n",
       "      <td>Try themselves guess fight white agreement thu...</td>\n",
       "      <td>annwhite@example.net</td>\n",
       "      <td>gonzalezdaniel@example.net</td>\n",
       "      <td>09-08-2023</td>\n",
       "      <td>06:15</td>\n",
       "      <td>3</td>\n",
       "      <td>9</td>\n",
       "      <td>45</td>\n",
       "      <td>1</td>\n",
       "      <td>2</td>\n",
       "      <td>1</td>\n",
       "      <td>2</td>\n",
       "      <td>8</td>\n",
       "      <td>2</td>\n",
       "      <td>1</td>\n",
       "    </tr>\n",
       "  </tbody>\n",
       "</table>\n",
       "</div>"
      ],
      "text/plain": [
       "                     Email                                            Subject  \\\n",
       "0    mikerusso@example.net                       Even hotel community church.   \n",
       "1  waynebailey@example.org  Try themselves guess fight white agreement thu...   \n",
       "\n",
       "                   Sender                   Recipient        Date   Time  \\\n",
       "0  emilyscott@example.org    gregorysmith@example.org  13-02-2023  04:13   \n",
       "1    annwhite@example.net  gonzalezdaniel@example.net  09-08-2023  06:15   \n",
       "\n",
       "   Attachments  Link Count  Word Count  Uppercase Count  Exclamation Count  \\\n",
       "0            3           0         191               32                  3   \n",
       "1            3           9          45                1                  2   \n",
       "\n",
       "   Question Count  Dollar Count  Punctuation Count  HTML Tags Count  \\\n",
       "0               3             0                 11                1   \n",
       "1               1             2                  8                2   \n",
       "\n",
       "   Spam Indicator  \n",
       "0               1  \n",
       "1               1  "
      ]
     },
     "execution_count": 2,
     "metadata": {},
     "output_type": "execute_result"
    }
   ],
   "source": [
    "df = pd.read_csv('/kaggle/input/spam-email-dataset/spam_email_dataset.csv')\n",
    "df.head(2)"
   ]
  },
  {
   "cell_type": "code",
   "execution_count": 3,
   "id": "e39fa046",
   "metadata": {
    "execution": {
     "iopub.execute_input": "2023-09-26T16:13:48.002614Z",
     "iopub.status.busy": "2023-09-26T16:13:48.002219Z",
     "iopub.status.idle": "2023-09-26T16:13:48.039885Z",
     "shell.execute_reply": "2023-09-26T16:13:48.038309Z"
    },
    "papermill": {
     "duration": 0.062506,
     "end_time": "2023-09-26T16:13:48.043409",
     "exception": false,
     "start_time": "2023-09-26T16:13:47.980903",
     "status": "completed"
    },
    "tags": []
   },
   "outputs": [
    {
     "name": "stdout",
     "output_type": "stream",
     "text": [
      "<class 'pandas.core.frame.DataFrame'>\n",
      "RangeIndex: 6000 entries, 0 to 5999\n",
      "Data columns (total 16 columns):\n",
      " #   Column             Non-Null Count  Dtype \n",
      "---  ------             --------------  ----- \n",
      " 0   Email              6000 non-null   object\n",
      " 1   Subject            6000 non-null   object\n",
      " 2   Sender             6000 non-null   object\n",
      " 3   Recipient          6000 non-null   object\n",
      " 4   Date               6000 non-null   object\n",
      " 5   Time               6000 non-null   object\n",
      " 6   Attachments        6000 non-null   int64 \n",
      " 7   Link Count         6000 non-null   int64 \n",
      " 8   Word Count         6000 non-null   int64 \n",
      " 9   Uppercase Count    6000 non-null   int64 \n",
      " 10  Exclamation Count  6000 non-null   int64 \n",
      " 11  Question Count     6000 non-null   int64 \n",
      " 12  Dollar Count       6000 non-null   int64 \n",
      " 13  Punctuation Count  6000 non-null   int64 \n",
      " 14  HTML Tags Count    6000 non-null   int64 \n",
      " 15  Spam Indicator     6000 non-null   int64 \n",
      "dtypes: int64(10), object(6)\n",
      "memory usage: 750.1+ KB\n"
     ]
    }
   ],
   "source": [
    "df.info()"
   ]
  },
  {
   "cell_type": "code",
   "execution_count": 4,
   "id": "c2ed5e8f",
   "metadata": {
    "execution": {
     "iopub.execute_input": "2023-09-26T16:13:48.085642Z",
     "iopub.status.busy": "2023-09-26T16:13:48.084986Z",
     "iopub.status.idle": "2023-09-26T16:13:48.124566Z",
     "shell.execute_reply": "2023-09-26T16:13:48.123718Z"
    },
    "papermill": {
     "duration": 0.063264,
     "end_time": "2023-09-26T16:13:48.126789",
     "exception": false,
     "start_time": "2023-09-26T16:13:48.063525",
     "status": "completed"
    },
    "tags": []
   },
   "outputs": [
    {
     "data": {
      "text/html": [
       "<div>\n",
       "<style scoped>\n",
       "    .dataframe tbody tr th:only-of-type {\n",
       "        vertical-align: middle;\n",
       "    }\n",
       "\n",
       "    .dataframe tbody tr th {\n",
       "        vertical-align: top;\n",
       "    }\n",
       "\n",
       "    .dataframe thead th {\n",
       "        text-align: right;\n",
       "    }\n",
       "</style>\n",
       "<table border=\"1\" class=\"dataframe\">\n",
       "  <thead>\n",
       "    <tr style=\"text-align: right;\">\n",
       "      <th></th>\n",
       "      <th>Attachments</th>\n",
       "      <th>Link Count</th>\n",
       "      <th>Word Count</th>\n",
       "      <th>Uppercase Count</th>\n",
       "      <th>Exclamation Count</th>\n",
       "      <th>Question Count</th>\n",
       "      <th>Dollar Count</th>\n",
       "      <th>Punctuation Count</th>\n",
       "      <th>HTML Tags Count</th>\n",
       "      <th>Spam Indicator</th>\n",
       "    </tr>\n",
       "  </thead>\n",
       "  <tbody>\n",
       "    <tr>\n",
       "      <th>count</th>\n",
       "      <td>6000.000000</td>\n",
       "      <td>6000.000000</td>\n",
       "      <td>6000.000000</td>\n",
       "      <td>6000.000000</td>\n",
       "      <td>6000.000000</td>\n",
       "      <td>6000.000000</td>\n",
       "      <td>6000.000000</td>\n",
       "      <td>6000.000000</td>\n",
       "      <td>6000.000000</td>\n",
       "      <td>6000.000000</td>\n",
       "    </tr>\n",
       "    <tr>\n",
       "      <th>mean</th>\n",
       "      <td>1.497833</td>\n",
       "      <td>5.005500</td>\n",
       "      <td>153.269500</td>\n",
       "      <td>75.997667</td>\n",
       "      <td>2.481833</td>\n",
       "      <td>1.486000</td>\n",
       "      <td>0.989500</td>\n",
       "      <td>7.549667</td>\n",
       "      <td>2.528833</td>\n",
       "      <td>0.497000</td>\n",
       "    </tr>\n",
       "    <tr>\n",
       "      <th>std</th>\n",
       "      <td>1.125555</td>\n",
       "      <td>3.166092</td>\n",
       "      <td>83.135747</td>\n",
       "      <td>64.735568</td>\n",
       "      <td>1.717895</td>\n",
       "      <td>1.118785</td>\n",
       "      <td>0.812301</td>\n",
       "      <td>4.624619</td>\n",
       "      <td>1.703522</td>\n",
       "      <td>0.500033</td>\n",
       "    </tr>\n",
       "    <tr>\n",
       "      <th>min</th>\n",
       "      <td>0.000000</td>\n",
       "      <td>0.000000</td>\n",
       "      <td>10.000000</td>\n",
       "      <td>0.000000</td>\n",
       "      <td>0.000000</td>\n",
       "      <td>0.000000</td>\n",
       "      <td>0.000000</td>\n",
       "      <td>0.000000</td>\n",
       "      <td>0.000000</td>\n",
       "      <td>0.000000</td>\n",
       "    </tr>\n",
       "    <tr>\n",
       "      <th>25%</th>\n",
       "      <td>0.000000</td>\n",
       "      <td>2.000000</td>\n",
       "      <td>83.000000</td>\n",
       "      <td>23.000000</td>\n",
       "      <td>1.000000</td>\n",
       "      <td>0.000000</td>\n",
       "      <td>0.000000</td>\n",
       "      <td>4.000000</td>\n",
       "      <td>1.000000</td>\n",
       "      <td>0.000000</td>\n",
       "    </tr>\n",
       "    <tr>\n",
       "      <th>50%</th>\n",
       "      <td>1.000000</td>\n",
       "      <td>5.000000</td>\n",
       "      <td>154.000000</td>\n",
       "      <td>59.000000</td>\n",
       "      <td>2.000000</td>\n",
       "      <td>1.000000</td>\n",
       "      <td>1.000000</td>\n",
       "      <td>8.000000</td>\n",
       "      <td>3.000000</td>\n",
       "      <td>0.000000</td>\n",
       "    </tr>\n",
       "    <tr>\n",
       "      <th>75%</th>\n",
       "      <td>3.000000</td>\n",
       "      <td>8.000000</td>\n",
       "      <td>223.000000</td>\n",
       "      <td>114.000000</td>\n",
       "      <td>4.000000</td>\n",
       "      <td>2.000000</td>\n",
       "      <td>2.000000</td>\n",
       "      <td>12.000000</td>\n",
       "      <td>4.000000</td>\n",
       "      <td>1.000000</td>\n",
       "    </tr>\n",
       "    <tr>\n",
       "      <th>max</th>\n",
       "      <td>3.000000</td>\n",
       "      <td>10.000000</td>\n",
       "      <td>300.000000</td>\n",
       "      <td>300.000000</td>\n",
       "      <td>5.000000</td>\n",
       "      <td>3.000000</td>\n",
       "      <td>2.000000</td>\n",
       "      <td>15.000000</td>\n",
       "      <td>5.000000</td>\n",
       "      <td>1.000000</td>\n",
       "    </tr>\n",
       "  </tbody>\n",
       "</table>\n",
       "</div>"
      ],
      "text/plain": [
       "       Attachments   Link Count   Word Count  Uppercase Count  \\\n",
       "count  6000.000000  6000.000000  6000.000000      6000.000000   \n",
       "mean      1.497833     5.005500   153.269500        75.997667   \n",
       "std       1.125555     3.166092    83.135747        64.735568   \n",
       "min       0.000000     0.000000    10.000000         0.000000   \n",
       "25%       0.000000     2.000000    83.000000        23.000000   \n",
       "50%       1.000000     5.000000   154.000000        59.000000   \n",
       "75%       3.000000     8.000000   223.000000       114.000000   \n",
       "max       3.000000    10.000000   300.000000       300.000000   \n",
       "\n",
       "       Exclamation Count  Question Count  Dollar Count  Punctuation Count  \\\n",
       "count        6000.000000     6000.000000   6000.000000        6000.000000   \n",
       "mean            2.481833        1.486000      0.989500           7.549667   \n",
       "std             1.717895        1.118785      0.812301           4.624619   \n",
       "min             0.000000        0.000000      0.000000           0.000000   \n",
       "25%             1.000000        0.000000      0.000000           4.000000   \n",
       "50%             2.000000        1.000000      1.000000           8.000000   \n",
       "75%             4.000000        2.000000      2.000000          12.000000   \n",
       "max             5.000000        3.000000      2.000000          15.000000   \n",
       "\n",
       "       HTML Tags Count  Spam Indicator  \n",
       "count      6000.000000     6000.000000  \n",
       "mean          2.528833        0.497000  \n",
       "std           1.703522        0.500033  \n",
       "min           0.000000        0.000000  \n",
       "25%           1.000000        0.000000  \n",
       "50%           3.000000        0.000000  \n",
       "75%           4.000000        1.000000  \n",
       "max           5.000000        1.000000  "
      ]
     },
     "execution_count": 4,
     "metadata": {},
     "output_type": "execute_result"
    }
   ],
   "source": [
    "df.describe()"
   ]
  },
  {
   "cell_type": "code",
   "execution_count": 5,
   "id": "311377c7",
   "metadata": {
    "execution": {
     "iopub.execute_input": "2023-09-26T16:13:48.168974Z",
     "iopub.status.busy": "2023-09-26T16:13:48.168588Z",
     "iopub.status.idle": "2023-09-26T16:13:48.201592Z",
     "shell.execute_reply": "2023-09-26T16:13:48.200415Z"
    },
    "papermill": {
     "duration": 0.056812,
     "end_time": "2023-09-26T16:13:48.203813",
     "exception": false,
     "start_time": "2023-09-26T16:13:48.147001",
     "status": "completed"
    },
    "tags": []
   },
   "outputs": [
    {
     "data": {
      "text/html": [
       "<div>\n",
       "<style scoped>\n",
       "    .dataframe tbody tr th:only-of-type {\n",
       "        vertical-align: middle;\n",
       "    }\n",
       "\n",
       "    .dataframe tbody tr th {\n",
       "        vertical-align: top;\n",
       "    }\n",
       "\n",
       "    .dataframe thead th {\n",
       "        text-align: right;\n",
       "    }\n",
       "</style>\n",
       "<table border=\"1\" class=\"dataframe\">\n",
       "  <thead>\n",
       "    <tr style=\"text-align: right;\">\n",
       "      <th></th>\n",
       "      <th>Email</th>\n",
       "      <th>Subject</th>\n",
       "      <th>Sender</th>\n",
       "      <th>Recipient</th>\n",
       "      <th>Date</th>\n",
       "      <th>Time</th>\n",
       "    </tr>\n",
       "  </thead>\n",
       "  <tbody>\n",
       "    <tr>\n",
       "      <th>count</th>\n",
       "      <td>6000</td>\n",
       "      <td>6000</td>\n",
       "      <td>6000</td>\n",
       "      <td>6000</td>\n",
       "      <td>6000</td>\n",
       "      <td>6000</td>\n",
       "    </tr>\n",
       "    <tr>\n",
       "      <th>unique</th>\n",
       "      <td>5921</td>\n",
       "      <td>6000</td>\n",
       "      <td>5914</td>\n",
       "      <td>5926</td>\n",
       "      <td>234</td>\n",
       "      <td>1418</td>\n",
       "    </tr>\n",
       "    <tr>\n",
       "      <th>top</th>\n",
       "      <td>rmoore@example.net</td>\n",
       "      <td>Even hotel community church.</td>\n",
       "      <td>john58@example.org</td>\n",
       "      <td>bsmith@example.org</td>\n",
       "      <td>14-06-2023</td>\n",
       "      <td>20:29</td>\n",
       "    </tr>\n",
       "    <tr>\n",
       "      <th>freq</th>\n",
       "      <td>3</td>\n",
       "      <td>1</td>\n",
       "      <td>3</td>\n",
       "      <td>3</td>\n",
       "      <td>44</td>\n",
       "      <td>12</td>\n",
       "    </tr>\n",
       "  </tbody>\n",
       "</table>\n",
       "</div>"
      ],
      "text/plain": [
       "                     Email                       Subject              Sender  \\\n",
       "count                 6000                          6000                6000   \n",
       "unique                5921                          6000                5914   \n",
       "top     rmoore@example.net  Even hotel community church.  john58@example.org   \n",
       "freq                     3                             1                   3   \n",
       "\n",
       "                 Recipient        Date   Time  \n",
       "count                 6000        6000   6000  \n",
       "unique                5926         234   1418  \n",
       "top     bsmith@example.org  14-06-2023  20:29  \n",
       "freq                     3          44     12  "
      ]
     },
     "execution_count": 5,
     "metadata": {},
     "output_type": "execute_result"
    }
   ],
   "source": [
    "df.describe(include = 'O')"
   ]
  },
  {
   "cell_type": "code",
   "execution_count": 6,
   "id": "12642d5e",
   "metadata": {
    "execution": {
     "iopub.execute_input": "2023-09-26T16:13:48.304646Z",
     "iopub.status.busy": "2023-09-26T16:13:48.304290Z",
     "iopub.status.idle": "2023-09-26T16:13:48.322563Z",
     "shell.execute_reply": "2023-09-26T16:13:48.321472Z"
    },
    "papermill": {
     "duration": 0.100901,
     "end_time": "2023-09-26T16:13:48.324883",
     "exception": false,
     "start_time": "2023-09-26T16:13:48.223982",
     "status": "completed"
    },
    "tags": []
   },
   "outputs": [
    {
     "data": {
      "text/plain": [
       "0"
      ]
     },
     "execution_count": 6,
     "metadata": {},
     "output_type": "execute_result"
    }
   ],
   "source": [
    "df.duplicated().sum()"
   ]
  },
  {
   "cell_type": "code",
   "execution_count": 7,
   "id": "a2daf918",
   "metadata": {
    "execution": {
     "iopub.execute_input": "2023-09-26T16:13:48.368374Z",
     "iopub.status.busy": "2023-09-26T16:13:48.368006Z",
     "iopub.status.idle": "2023-09-26T16:13:48.378066Z",
     "shell.execute_reply": "2023-09-26T16:13:48.377060Z"
    },
    "papermill": {
     "duration": 0.034122,
     "end_time": "2023-09-26T16:13:48.380013",
     "exception": false,
     "start_time": "2023-09-26T16:13:48.345891",
     "status": "completed"
    },
    "tags": []
   },
   "outputs": [
    {
     "data": {
      "text/plain": [
       "Email                0\n",
       "Subject              0\n",
       "Sender               0\n",
       "Recipient            0\n",
       "Date                 0\n",
       "Time                 0\n",
       "Attachments          0\n",
       "Link Count           0\n",
       "Word Count           0\n",
       "Uppercase Count      0\n",
       "Exclamation Count    0\n",
       "Question Count       0\n",
       "Dollar Count         0\n",
       "Punctuation Count    0\n",
       "HTML Tags Count      0\n",
       "Spam Indicator       0\n",
       "dtype: int64"
      ]
     },
     "execution_count": 7,
     "metadata": {},
     "output_type": "execute_result"
    }
   ],
   "source": [
    "df.isnull().sum()"
   ]
  },
  {
   "cell_type": "code",
   "execution_count": 8,
   "id": "f95cf147",
   "metadata": {
    "execution": {
     "iopub.execute_input": "2023-09-26T16:13:48.423725Z",
     "iopub.status.busy": "2023-09-26T16:13:48.423336Z",
     "iopub.status.idle": "2023-09-26T16:13:48.440314Z",
     "shell.execute_reply": "2023-09-26T16:13:48.439305Z"
    },
    "papermill": {
     "duration": 0.040949,
     "end_time": "2023-09-26T16:13:48.442371",
     "exception": false,
     "start_time": "2023-09-26T16:13:48.401422",
     "status": "completed"
    },
    "tags": []
   },
   "outputs": [
    {
     "data": {
      "text/plain": [
       "Email                5921\n",
       "Subject              6000\n",
       "Sender               5914\n",
       "Recipient            5926\n",
       "Date                  234\n",
       "Time                 1418\n",
       "Attachments             4\n",
       "Link Count             11\n",
       "Word Count            291\n",
       "Uppercase Count       284\n",
       "Exclamation Count       6\n",
       "Question Count          4\n",
       "Dollar Count            3\n",
       "Punctuation Count      16\n",
       "HTML Tags Count         6\n",
       "Spam Indicator          2\n",
       "dtype: int64"
      ]
     },
     "execution_count": 8,
     "metadata": {},
     "output_type": "execute_result"
    }
   ],
   "source": [
    "df.nunique()"
   ]
  },
  {
   "cell_type": "markdown",
   "id": "110ee7ad",
   "metadata": {
    "papermill": {
     "duration": 0.0213,
     "end_time": "2023-09-26T16:13:48.484739",
     "exception": false,
     "start_time": "2023-09-26T16:13:48.463439",
     "status": "completed"
    },
    "tags": []
   },
   "source": [
    "> **Clear some useless columns ******"
   ]
  },
  {
   "cell_type": "code",
   "execution_count": 9,
   "id": "2688d0dd",
   "metadata": {
    "execution": {
     "iopub.execute_input": "2023-09-26T16:13:48.529684Z",
     "iopub.status.busy": "2023-09-26T16:13:48.529076Z",
     "iopub.status.idle": "2023-09-26T16:13:48.537989Z",
     "shell.execute_reply": "2023-09-26T16:13:48.537068Z"
    },
    "papermill": {
     "duration": 0.034111,
     "end_time": "2023-09-26T16:13:48.539847",
     "exception": false,
     "start_time": "2023-09-26T16:13:48.505736",
     "status": "completed"
    },
    "tags": []
   },
   "outputs": [],
   "source": [
    "df.drop(['Email','Recipient'],axis = 1,inplace = True)"
   ]
  },
  {
   "cell_type": "code",
   "execution_count": 10,
   "id": "6d816818",
   "metadata": {
    "execution": {
     "iopub.execute_input": "2023-09-26T16:13:48.584765Z",
     "iopub.status.busy": "2023-09-26T16:13:48.584366Z",
     "iopub.status.idle": "2023-09-26T16:13:48.602212Z",
     "shell.execute_reply": "2023-09-26T16:13:48.601245Z"
    },
    "papermill": {
     "duration": 0.042887,
     "end_time": "2023-09-26T16:13:48.604468",
     "exception": false,
     "start_time": "2023-09-26T16:13:48.561581",
     "status": "completed"
    },
    "tags": []
   },
   "outputs": [
    {
     "data": {
      "text/html": [
       "<div>\n",
       "<style scoped>\n",
       "    .dataframe tbody tr th:only-of-type {\n",
       "        vertical-align: middle;\n",
       "    }\n",
       "\n",
       "    .dataframe tbody tr th {\n",
       "        vertical-align: top;\n",
       "    }\n",
       "\n",
       "    .dataframe thead th {\n",
       "        text-align: right;\n",
       "    }\n",
       "</style>\n",
       "<table border=\"1\" class=\"dataframe\">\n",
       "  <thead>\n",
       "    <tr style=\"text-align: right;\">\n",
       "      <th></th>\n",
       "      <th>Subject</th>\n",
       "      <th>Sender</th>\n",
       "      <th>Date</th>\n",
       "      <th>Time</th>\n",
       "      <th>Attachments</th>\n",
       "      <th>Link Count</th>\n",
       "      <th>Word Count</th>\n",
       "      <th>Uppercase Count</th>\n",
       "      <th>Exclamation Count</th>\n",
       "      <th>Question Count</th>\n",
       "      <th>Dollar Count</th>\n",
       "      <th>Punctuation Count</th>\n",
       "      <th>HTML Tags Count</th>\n",
       "      <th>Spam Indicator</th>\n",
       "    </tr>\n",
       "  </thead>\n",
       "  <tbody>\n",
       "    <tr>\n",
       "      <th>0</th>\n",
       "      <td>Even hotel community church.</td>\n",
       "      <td>emilyscott@example.org</td>\n",
       "      <td>13-02-2023</td>\n",
       "      <td>04:13</td>\n",
       "      <td>3</td>\n",
       "      <td>0</td>\n",
       "      <td>191</td>\n",
       "      <td>32</td>\n",
       "      <td>3</td>\n",
       "      <td>3</td>\n",
       "      <td>0</td>\n",
       "      <td>11</td>\n",
       "      <td>1</td>\n",
       "      <td>1</td>\n",
       "    </tr>\n",
       "    <tr>\n",
       "      <th>1</th>\n",
       "      <td>Try themselves guess fight white agreement thu...</td>\n",
       "      <td>annwhite@example.net</td>\n",
       "      <td>09-08-2023</td>\n",
       "      <td>06:15</td>\n",
       "      <td>3</td>\n",
       "      <td>9</td>\n",
       "      <td>45</td>\n",
       "      <td>1</td>\n",
       "      <td>2</td>\n",
       "      <td>1</td>\n",
       "      <td>2</td>\n",
       "      <td>8</td>\n",
       "      <td>2</td>\n",
       "      <td>1</td>\n",
       "    </tr>\n",
       "    <tr>\n",
       "      <th>2</th>\n",
       "      <td>Environmental commercial off seem any conference.</td>\n",
       "      <td>david88@example.net</td>\n",
       "      <td>16-05-2023</td>\n",
       "      <td>01:32</td>\n",
       "      <td>3</td>\n",
       "      <td>9</td>\n",
       "      <td>52</td>\n",
       "      <td>1</td>\n",
       "      <td>4</td>\n",
       "      <td>0</td>\n",
       "      <td>2</td>\n",
       "      <td>10</td>\n",
       "      <td>1</td>\n",
       "      <td>1</td>\n",
       "    </tr>\n",
       "    <tr>\n",
       "      <th>3</th>\n",
       "      <td>Smile real TV father commercial day increase.</td>\n",
       "      <td>lindaalvarez@example.com</td>\n",
       "      <td>25-04-2023</td>\n",
       "      <td>14:50</td>\n",
       "      <td>2</td>\n",
       "      <td>3</td>\n",
       "      <td>75</td>\n",
       "      <td>6</td>\n",
       "      <td>0</td>\n",
       "      <td>2</td>\n",
       "      <td>0</td>\n",
       "      <td>8</td>\n",
       "      <td>2</td>\n",
       "      <td>0</td>\n",
       "    </tr>\n",
       "    <tr>\n",
       "      <th>4</th>\n",
       "      <td>Fast stage he oil institution.</td>\n",
       "      <td>vstafford@example.com</td>\n",
       "      <td>11-07-2023</td>\n",
       "      <td>21:44</td>\n",
       "      <td>3</td>\n",
       "      <td>5</td>\n",
       "      <td>299</td>\n",
       "      <td>279</td>\n",
       "      <td>0</td>\n",
       "      <td>2</td>\n",
       "      <td>0</td>\n",
       "      <td>6</td>\n",
       "      <td>1</td>\n",
       "      <td>1</td>\n",
       "    </tr>\n",
       "    <tr>\n",
       "      <th>...</th>\n",
       "      <td>...</td>\n",
       "      <td>...</td>\n",
       "      <td>...</td>\n",
       "      <td>...</td>\n",
       "      <td>...</td>\n",
       "      <td>...</td>\n",
       "      <td>...</td>\n",
       "      <td>...</td>\n",
       "      <td>...</td>\n",
       "      <td>...</td>\n",
       "      <td>...</td>\n",
       "      <td>...</td>\n",
       "      <td>...</td>\n",
       "      <td>...</td>\n",
       "    </tr>\n",
       "    <tr>\n",
       "      <th>5995</th>\n",
       "      <td>Current team yet like realize American.</td>\n",
       "      <td>martinezangela@example.net</td>\n",
       "      <td>10-04-2023</td>\n",
       "      <td>07:18</td>\n",
       "      <td>1</td>\n",
       "      <td>7</td>\n",
       "      <td>114</td>\n",
       "      <td>83</td>\n",
       "      <td>0</td>\n",
       "      <td>3</td>\n",
       "      <td>2</td>\n",
       "      <td>0</td>\n",
       "      <td>5</td>\n",
       "      <td>0</td>\n",
       "    </tr>\n",
       "    <tr>\n",
       "      <th>5996</th>\n",
       "      <td>Also start certainly range great try others.</td>\n",
       "      <td>mckenzieerika@example.net</td>\n",
       "      <td>07-05-2023</td>\n",
       "      <td>19:45</td>\n",
       "      <td>1</td>\n",
       "      <td>5</td>\n",
       "      <td>19</td>\n",
       "      <td>10</td>\n",
       "      <td>0</td>\n",
       "      <td>0</td>\n",
       "      <td>1</td>\n",
       "      <td>7</td>\n",
       "      <td>0</td>\n",
       "      <td>0</td>\n",
       "    </tr>\n",
       "    <tr>\n",
       "      <th>5997</th>\n",
       "      <td>Matter issue win agent likely.</td>\n",
       "      <td>dlewis@example.org</td>\n",
       "      <td>08-04-2023</td>\n",
       "      <td>18:49</td>\n",
       "      <td>2</td>\n",
       "      <td>10</td>\n",
       "      <td>52</td>\n",
       "      <td>45</td>\n",
       "      <td>5</td>\n",
       "      <td>3</td>\n",
       "      <td>0</td>\n",
       "      <td>10</td>\n",
       "      <td>4</td>\n",
       "      <td>0</td>\n",
       "    </tr>\n",
       "    <tr>\n",
       "      <th>5998</th>\n",
       "      <td>Again member father.</td>\n",
       "      <td>eperry@example.org</td>\n",
       "      <td>19-01-2023</td>\n",
       "      <td>14:00</td>\n",
       "      <td>3</td>\n",
       "      <td>2</td>\n",
       "      <td>178</td>\n",
       "      <td>76</td>\n",
       "      <td>0</td>\n",
       "      <td>1</td>\n",
       "      <td>2</td>\n",
       "      <td>11</td>\n",
       "      <td>1</td>\n",
       "      <td>1</td>\n",
       "    </tr>\n",
       "    <tr>\n",
       "      <th>5999</th>\n",
       "      <td>Position recognize behind boy try able.</td>\n",
       "      <td>jason06@example.org</td>\n",
       "      <td>02-07-2023</td>\n",
       "      <td>22:23</td>\n",
       "      <td>0</td>\n",
       "      <td>6</td>\n",
       "      <td>218</td>\n",
       "      <td>130</td>\n",
       "      <td>3</td>\n",
       "      <td>0</td>\n",
       "      <td>0</td>\n",
       "      <td>11</td>\n",
       "      <td>2</td>\n",
       "      <td>1</td>\n",
       "    </tr>\n",
       "  </tbody>\n",
       "</table>\n",
       "<p>6000 rows × 14 columns</p>\n",
       "</div>"
      ],
      "text/plain": [
       "                                                Subject  \\\n",
       "0                          Even hotel community church.   \n",
       "1     Try themselves guess fight white agreement thu...   \n",
       "2     Environmental commercial off seem any conference.   \n",
       "3         Smile real TV father commercial day increase.   \n",
       "4                        Fast stage he oil institution.   \n",
       "...                                                 ...   \n",
       "5995            Current team yet like realize American.   \n",
       "5996       Also start certainly range great try others.   \n",
       "5997                     Matter issue win agent likely.   \n",
       "5998                               Again member father.   \n",
       "5999            Position recognize behind boy try able.   \n",
       "\n",
       "                          Sender        Date   Time  Attachments  Link Count  \\\n",
       "0         emilyscott@example.org  13-02-2023  04:13            3           0   \n",
       "1           annwhite@example.net  09-08-2023  06:15            3           9   \n",
       "2            david88@example.net  16-05-2023  01:32            3           9   \n",
       "3       lindaalvarez@example.com  25-04-2023  14:50            2           3   \n",
       "4          vstafford@example.com  11-07-2023  21:44            3           5   \n",
       "...                          ...         ...    ...          ...         ...   \n",
       "5995  martinezangela@example.net  10-04-2023  07:18            1           7   \n",
       "5996   mckenzieerika@example.net  07-05-2023  19:45            1           5   \n",
       "5997          dlewis@example.org  08-04-2023  18:49            2          10   \n",
       "5998          eperry@example.org  19-01-2023  14:00            3           2   \n",
       "5999         jason06@example.org  02-07-2023  22:23            0           6   \n",
       "\n",
       "      Word Count  Uppercase Count  Exclamation Count  Question Count  \\\n",
       "0            191               32                  3               3   \n",
       "1             45                1                  2               1   \n",
       "2             52                1                  4               0   \n",
       "3             75                6                  0               2   \n",
       "4            299              279                  0               2   \n",
       "...          ...              ...                ...             ...   \n",
       "5995         114               83                  0               3   \n",
       "5996          19               10                  0               0   \n",
       "5997          52               45                  5               3   \n",
       "5998         178               76                  0               1   \n",
       "5999         218              130                  3               0   \n",
       "\n",
       "      Dollar Count  Punctuation Count  HTML Tags Count  Spam Indicator  \n",
       "0                0                 11                1               1  \n",
       "1                2                  8                2               1  \n",
       "2                2                 10                1               1  \n",
       "3                0                  8                2               0  \n",
       "4                0                  6                1               1  \n",
       "...            ...                ...              ...             ...  \n",
       "5995             2                  0                5               0  \n",
       "5996             1                  7                0               0  \n",
       "5997             0                 10                4               0  \n",
       "5998             2                 11                1               1  \n",
       "5999             0                 11                2               1  \n",
       "\n",
       "[6000 rows x 14 columns]"
      ]
     },
     "execution_count": 10,
     "metadata": {},
     "output_type": "execute_result"
    }
   ],
   "source": [
    "df"
   ]
  },
  {
   "cell_type": "markdown",
   "id": "eefc41e0",
   "metadata": {
    "papermill": {
     "duration": 0.021809,
     "end_time": "2023-09-26T16:13:48.648631",
     "exception": false,
     "start_time": "2023-09-26T16:13:48.626822",
     "status": "completed"
    },
    "tags": []
   },
   "source": [
    "> **As you can't use time column so we have to transform to some other form so that it make some sense**"
   ]
  },
  {
   "cell_type": "code",
   "execution_count": 11,
   "id": "6243b979",
   "metadata": {
    "execution": {
     "iopub.execute_input": "2023-09-26T16:13:48.694050Z",
     "iopub.status.busy": "2023-09-26T16:13:48.693646Z",
     "iopub.status.idle": "2023-09-26T16:13:48.713858Z",
     "shell.execute_reply": "2023-09-26T16:13:48.712781Z"
    },
    "papermill": {
     "duration": 0.045584,
     "end_time": "2023-09-26T16:13:48.716271",
     "exception": false,
     "start_time": "2023-09-26T16:13:48.670687",
     "status": "completed"
    },
    "tags": []
   },
   "outputs": [],
   "source": [
    "#Convert date column to date time format\n",
    "df['Date'] = pd.to_datetime(df['Date'])\n",
    "\n",
    "# accessing the month from the date column\n",
    "df['Month'] = df['Date'].dt.month\n",
    "\n",
    "# accessing the year from the date column\n",
    "\n",
    "df['date'] = df['Date'].dt.day\n",
    "\n",
    "#Convert time column to date time format\n",
    "\n",
    "# df['Time'] = pd.to_datetime(df['Time'])\n",
    "\n",
    "# # accessing the hour from the date column\n",
    "\n",
    "# df['hour'] = df['Time'].dt.hour\n",
    "\n",
    "# #No drop the time and date column\n",
    "\n",
    "df.drop(['Time','Date'],axis = 1,inplace = True)"
   ]
  },
  {
   "cell_type": "code",
   "execution_count": 12,
   "id": "7efb17c8",
   "metadata": {
    "execution": {
     "iopub.execute_input": "2023-09-26T16:13:48.761543Z",
     "iopub.status.busy": "2023-09-26T16:13:48.761114Z",
     "iopub.status.idle": "2023-09-26T16:13:48.775488Z",
     "shell.execute_reply": "2023-09-26T16:13:48.774407Z"
    },
    "papermill": {
     "duration": 0.039562,
     "end_time": "2023-09-26T16:13:48.777765",
     "exception": false,
     "start_time": "2023-09-26T16:13:48.738203",
     "status": "completed"
    },
    "tags": []
   },
   "outputs": [
    {
     "data": {
      "text/html": [
       "<div>\n",
       "<style scoped>\n",
       "    .dataframe tbody tr th:only-of-type {\n",
       "        vertical-align: middle;\n",
       "    }\n",
       "\n",
       "    .dataframe tbody tr th {\n",
       "        vertical-align: top;\n",
       "    }\n",
       "\n",
       "    .dataframe thead th {\n",
       "        text-align: right;\n",
       "    }\n",
       "</style>\n",
       "<table border=\"1\" class=\"dataframe\">\n",
       "  <thead>\n",
       "    <tr style=\"text-align: right;\">\n",
       "      <th></th>\n",
       "      <th>Subject</th>\n",
       "      <th>Sender</th>\n",
       "      <th>Attachments</th>\n",
       "      <th>Link Count</th>\n",
       "      <th>Word Count</th>\n",
       "      <th>Uppercase Count</th>\n",
       "      <th>Exclamation Count</th>\n",
       "      <th>Question Count</th>\n",
       "      <th>Dollar Count</th>\n",
       "      <th>Punctuation Count</th>\n",
       "      <th>HTML Tags Count</th>\n",
       "      <th>Spam Indicator</th>\n",
       "      <th>Month</th>\n",
       "      <th>date</th>\n",
       "    </tr>\n",
       "  </thead>\n",
       "  <tbody>\n",
       "    <tr>\n",
       "      <th>0</th>\n",
       "      <td>Even hotel community church.</td>\n",
       "      <td>emilyscott@example.org</td>\n",
       "      <td>3</td>\n",
       "      <td>0</td>\n",
       "      <td>191</td>\n",
       "      <td>32</td>\n",
       "      <td>3</td>\n",
       "      <td>3</td>\n",
       "      <td>0</td>\n",
       "      <td>11</td>\n",
       "      <td>1</td>\n",
       "      <td>1</td>\n",
       "      <td>2</td>\n",
       "      <td>13</td>\n",
       "    </tr>\n",
       "    <tr>\n",
       "      <th>1</th>\n",
       "      <td>Try themselves guess fight white agreement thu...</td>\n",
       "      <td>annwhite@example.net</td>\n",
       "      <td>3</td>\n",
       "      <td>9</td>\n",
       "      <td>45</td>\n",
       "      <td>1</td>\n",
       "      <td>2</td>\n",
       "      <td>1</td>\n",
       "      <td>2</td>\n",
       "      <td>8</td>\n",
       "      <td>2</td>\n",
       "      <td>1</td>\n",
       "      <td>8</td>\n",
       "      <td>9</td>\n",
       "    </tr>\n",
       "  </tbody>\n",
       "</table>\n",
       "</div>"
      ],
      "text/plain": [
       "                                             Subject                  Sender  \\\n",
       "0                       Even hotel community church.  emilyscott@example.org   \n",
       "1  Try themselves guess fight white agreement thu...    annwhite@example.net   \n",
       "\n",
       "   Attachments  Link Count  Word Count  Uppercase Count  Exclamation Count  \\\n",
       "0            3           0         191               32                  3   \n",
       "1            3           9          45                1                  2   \n",
       "\n",
       "   Question Count  Dollar Count  Punctuation Count  HTML Tags Count  \\\n",
       "0               3             0                 11                1   \n",
       "1               1             2                  8                2   \n",
       "\n",
       "   Spam Indicator  Month  date  \n",
       "0               1      2    13  \n",
       "1               1      8     9  "
      ]
     },
     "execution_count": 12,
     "metadata": {},
     "output_type": "execute_result"
    }
   ],
   "source": [
    "df.head(2)"
   ]
  },
  {
   "cell_type": "code",
   "execution_count": 13,
   "id": "877976ea",
   "metadata": {
    "execution": {
     "iopub.execute_input": "2023-09-26T16:13:48.823020Z",
     "iopub.status.busy": "2023-09-26T16:13:48.822634Z",
     "iopub.status.idle": "2023-09-26T16:13:48.832706Z",
     "shell.execute_reply": "2023-09-26T16:13:48.831620Z"
    },
    "papermill": {
     "duration": 0.03531,
     "end_time": "2023-09-26T16:13:48.835121",
     "exception": false,
     "start_time": "2023-09-26T16:13:48.799811",
     "status": "completed"
    },
    "tags": []
   },
   "outputs": [
    {
     "data": {
      "text/plain": [
       "Subject              0\n",
       "Sender               0\n",
       "Attachments          0\n",
       "Link Count           0\n",
       "Word Count           0\n",
       "Uppercase Count      0\n",
       "Exclamation Count    0\n",
       "Question Count       0\n",
       "Dollar Count         0\n",
       "Punctuation Count    0\n",
       "HTML Tags Count      0\n",
       "Spam Indicator       0\n",
       "Month                0\n",
       "date                 0\n",
       "dtype: int64"
      ]
     },
     "execution_count": 13,
     "metadata": {},
     "output_type": "execute_result"
    }
   ],
   "source": [
    "df.isnull().sum()"
   ]
  },
  {
   "cell_type": "code",
   "execution_count": 14,
   "id": "632d4fef",
   "metadata": {
    "execution": {
     "iopub.execute_input": "2023-09-26T16:13:48.882049Z",
     "iopub.status.busy": "2023-09-26T16:13:48.881185Z",
     "iopub.status.idle": "2023-09-26T16:13:48.894640Z",
     "shell.execute_reply": "2023-09-26T16:13:48.893604Z"
    },
    "papermill": {
     "duration": 0.03943,
     "end_time": "2023-09-26T16:13:48.896738",
     "exception": false,
     "start_time": "2023-09-26T16:13:48.857308",
     "status": "completed"
    },
    "tags": []
   },
   "outputs": [
    {
     "data": {
      "text/plain": [
       "Subject              6000\n",
       "Sender               5914\n",
       "Attachments             4\n",
       "Link Count             11\n",
       "Word Count            291\n",
       "Uppercase Count       284\n",
       "Exclamation Count       6\n",
       "Question Count          4\n",
       "Dollar Count            3\n",
       "Punctuation Count      16\n",
       "HTML Tags Count         6\n",
       "Spam Indicator          2\n",
       "Month                   8\n",
       "date                   31\n",
       "dtype: int64"
      ]
     },
     "execution_count": 14,
     "metadata": {},
     "output_type": "execute_result"
    }
   ],
   "source": [
    "df.nunique()"
   ]
  },
  {
   "cell_type": "code",
   "execution_count": 15,
   "id": "7abbe9b7",
   "metadata": {
    "execution": {
     "iopub.execute_input": "2023-09-26T16:13:48.942598Z",
     "iopub.status.busy": "2023-09-26T16:13:48.942188Z",
     "iopub.status.idle": "2023-09-26T16:13:48.952856Z",
     "shell.execute_reply": "2023-09-26T16:13:48.951894Z"
    },
    "papermill": {
     "duration": 0.03664,
     "end_time": "2023-09-26T16:13:48.955250",
     "exception": false,
     "start_time": "2023-09-26T16:13:48.918610",
     "status": "completed"
    },
    "tags": []
   },
   "outputs": [],
   "source": [
    " x  = df.select_dtypes(exclude = 'O').corr()"
   ]
  },
  {
   "cell_type": "code",
   "execution_count": 16,
   "id": "7ee0d36b",
   "metadata": {
    "execution": {
     "iopub.execute_input": "2023-09-26T16:13:49.000785Z",
     "iopub.status.busy": "2023-09-26T16:13:49.000385Z",
     "iopub.status.idle": "2023-09-26T16:13:49.414984Z",
     "shell.execute_reply": "2023-09-26T16:13:49.413889Z"
    },
    "papermill": {
     "duration": 0.440648,
     "end_time": "2023-09-26T16:13:49.417880",
     "exception": false,
     "start_time": "2023-09-26T16:13:48.977232",
     "status": "completed"
    },
    "tags": []
   },
   "outputs": [
    {
     "data": {
      "text/plain": [
       "<Axes: >"
      ]
     },
     "execution_count": 16,
     "metadata": {},
     "output_type": "execute_result"
    },
    {
     "data": {
      "image/png": "[encoded data removed]",
      "text/plain": [
       "<Figure size 640x480 with 2 Axes>"
      ]
     },
     "metadata": {},
     "output_type": "display_data"
    }
   ],
   "source": [
    "sns.heatmap(x['Spam Indicator'].to_frame(),cbar = 'Greens',linewidths = 2,annot = True)"
   ]
  },
  {
   "cell_type": "code",
   "execution_count": 17,
   "id": "ff09175e",
   "metadata": {
    "execution": {
     "iopub.execute_input": "2023-09-26T16:13:49.465171Z",
     "iopub.status.busy": "2023-09-26T16:13:49.464817Z",
     "iopub.status.idle": "2023-09-26T16:13:50.319327Z",
     "shell.execute_reply": "2023-09-26T16:13:50.318328Z"
    },
    "papermill": {
     "duration": 0.881416,
     "end_time": "2023-09-26T16:13:50.322123",
     "exception": false,
     "start_time": "2023-09-26T16:13:49.440707",
     "status": "completed"
    },
    "tags": []
   },
   "outputs": [
    {
     "data": {
      "text/plain": [
       "<Axes: >"
      ]
     },
     "execution_count": 17,
     "metadata": {},
     "output_type": "execute_result"
    },
    {
     "data": {
      "image/png": "[encoded data removed]",
      "text/plain": [
       "<Figure size 640x480 with 2 Axes>"
      ]
     },
     "metadata": {},
     "output_type": "display_data"
    }
   ],
   "source": [
    "sns.heatmap(df.select_dtypes(exclude = 'O').corr(),cbar = 'Greens',linewidths = 4,annot = True)"
   ]
  },
  {
   "cell_type": "code",
   "execution_count": 18,
   "id": "3e7fc179",
   "metadata": {
    "execution": {
     "iopub.execute_input": "2023-09-26T16:13:50.382016Z",
     "iopub.status.busy": "2023-09-26T16:13:50.381645Z",
     "iopub.status.idle": "2023-09-26T16:13:50.395091Z",
     "shell.execute_reply": "2023-09-26T16:13:50.394034Z"
    },
    "papermill": {
     "duration": 0.046377,
     "end_time": "2023-09-26T16:13:50.397180",
     "exception": false,
     "start_time": "2023-09-26T16:13:50.350803",
     "status": "completed"
    },
    "tags": []
   },
   "outputs": [
    {
     "name": "stdout",
     "output_type": "stream",
     "text": [
      "<class 'pandas.core.frame.DataFrame'>\n",
      "RangeIndex: 6000 entries, 0 to 5999\n",
      "Data columns (total 14 columns):\n",
      " #   Column             Non-Null Count  Dtype \n",
      "---  ------             --------------  ----- \n",
      " 0   Subject            6000 non-null   object\n",
      " 1   Sender             6000 non-null   object\n",
      " 2   Attachments        6000 non-null   int64 \n",
      " 3   Link Count         6000 non-null   int64 \n",
      " 4   Word Count         6000 non-null   int64 \n",
      " 5   Uppercase Count    6000 non-null   int64 \n",
      " 6   Exclamation Count  6000 non-null   int64 \n",
      " 7   Question Count     6000 non-null   int64 \n",
      " 8   Dollar Count       6000 non-null   int64 \n",
      " 9   Punctuation Count  6000 non-null   int64 \n",
      " 10  HTML Tags Count    6000 non-null   int64 \n",
      " 11  Spam Indicator     6000 non-null   int64 \n",
      " 12  Month              6000 non-null   int32 \n",
      " 13  date               6000 non-null   int32 \n",
      "dtypes: int32(2), int64(10), object(2)\n",
      "memory usage: 609.5+ KB\n"
     ]
    }
   ],
   "source": [
    "df.info()"
   ]
  },
  {
   "cell_type": "code",
   "execution_count": 19,
   "id": "145db671",
   "metadata": {
    "execution": {
     "iopub.execute_input": "2023-09-26T16:13:50.448954Z",
     "iopub.status.busy": "2023-09-26T16:13:50.448231Z",
     "iopub.status.idle": "2023-09-26T16:13:50.490375Z",
     "shell.execute_reply": "2023-09-26T16:13:50.489198Z"
    },
    "papermill": {
     "duration": 0.071253,
     "end_time": "2023-09-26T16:13:50.493212",
     "exception": false,
     "start_time": "2023-09-26T16:13:50.421959",
     "status": "completed"
    },
    "tags": []
   },
   "outputs": [],
   "source": [
    "z = df.select_dtypes(exclude = 'O').columns\n",
    "for i in z:\n",
    "    df[i] = df[i].astype('str')"
   ]
  },
  {
   "cell_type": "code",
   "execution_count": 20,
   "id": "7efc4e53",
   "metadata": {
    "execution": {
     "iopub.execute_input": "2023-09-26T16:13:50.545912Z",
     "iopub.status.busy": "2023-09-26T16:13:50.545228Z",
     "iopub.status.idle": "2023-09-26T16:13:50.561996Z",
     "shell.execute_reply": "2023-09-26T16:13:50.560672Z"
    },
    "papermill": {
     "duration": 0.045409,
     "end_time": "2023-09-26T16:13:50.564167",
     "exception": false,
     "start_time": "2023-09-26T16:13:50.518758",
     "status": "completed"
    },
    "tags": []
   },
   "outputs": [
    {
     "name": "stdout",
     "output_type": "stream",
     "text": [
      "<class 'pandas.core.frame.DataFrame'>\n",
      "RangeIndex: 6000 entries, 0 to 5999\n",
      "Data columns (total 14 columns):\n",
      " #   Column             Non-Null Count  Dtype \n",
      "---  ------             --------------  ----- \n",
      " 0   Subject            6000 non-null   object\n",
      " 1   Sender             6000 non-null   object\n",
      " 2   Attachments        6000 non-null   object\n",
      " 3   Link Count         6000 non-null   object\n",
      " 4   Word Count         6000 non-null   object\n",
      " 5   Uppercase Count    6000 non-null   object\n",
      " 6   Exclamation Count  6000 non-null   object\n",
      " 7   Question Count     6000 non-null   object\n",
      " 8   Dollar Count       6000 non-null   object\n",
      " 9   Punctuation Count  6000 non-null   object\n",
      " 10  HTML Tags Count    6000 non-null   object\n",
      " 11  Spam Indicator     6000 non-null   object\n",
      " 12  Month              6000 non-null   object\n",
      " 13  date               6000 non-null   object\n",
      "dtypes: object(14)\n",
      "memory usage: 656.4+ KB\n"
     ]
    }
   ],
   "source": [
    "df.info()"
   ]
  },
  {
   "cell_type": "markdown",
   "id": "40230b93",
   "metadata": {
    "papermill": {
     "duration": 0.02432,
     "end_time": "2023-09-26T16:13:50.613447",
     "exception": false,
     "start_time": "2023-09-26T16:13:50.589127",
     "status": "completed"
    },
    "tags": []
   },
   "source": [
    "# EDA"
   ]
  },
  {
   "cell_type": "code",
   "execution_count": 21,
   "id": "71a09092",
   "metadata": {
    "execution": {
     "iopub.execute_input": "2023-09-26T16:13:50.665760Z",
     "iopub.status.busy": "2023-09-26T16:13:50.664854Z",
     "iopub.status.idle": "2023-09-26T16:13:50.911506Z",
     "shell.execute_reply": "2023-09-26T16:13:50.910093Z"
    },
    "papermill": {
     "duration": 0.275778,
     "end_time": "2023-09-26T16:13:50.913996",
     "exception": false,
     "start_time": "2023-09-26T16:13:50.638218",
     "status": "completed"
    },
    "tags": []
   },
   "outputs": [
    {
     "data": {
      "text/plain": [
       "<Axes: xlabel='Month', ylabel='count'>"
      ]
     },
     "execution_count": 21,
     "metadata": {},
     "output_type": "execute_result"
    },
    {
     "data": {
      "image/png": "[encoded data removed]",
      "text/plain": [
       "<Figure size 640x480 with 1 Axes>"
      ]
     },
     "metadata": {},
     "output_type": "display_data"
    }
   ],
   "source": [
    "sns.countplot(x ='Month',data = df )"
   ]
  },
  {
   "cell_type": "code",
   "execution_count": 22,
   "id": "1b973d8b",
   "metadata": {
    "execution": {
     "iopub.execute_input": "2023-09-26T16:13:50.971212Z",
     "iopub.status.busy": "2023-09-26T16:13:50.970450Z",
     "iopub.status.idle": "2023-09-26T16:13:51.281449Z",
     "shell.execute_reply": "2023-09-26T16:13:51.280349Z"
    },
    "papermill": {
     "duration": 0.341963,
     "end_time": "2023-09-26T16:13:51.283875",
     "exception": false,
     "start_time": "2023-09-26T16:13:50.941912",
     "status": "completed"
    },
    "tags": []
   },
   "outputs": [
    {
     "data": {
      "text/plain": [
       "<Axes: xlabel='Month', ylabel='count'>"
      ]
     },
     "execution_count": 22,
     "metadata": {},
     "output_type": "execute_result"
    },
    {
     "data": {
      "image/png": "[encoded data removed]",
      "text/plain": [
       "<Figure size 640x480 with 1 Axes>"
      ]
     },
     "metadata": {},
     "output_type": "display_data"
    }
   ],
   "source": [
    "sns.countplot(x ='Month',data = df,hue = 'Spam Indicator' )"
   ]
  },
  {
   "cell_type": "code",
   "execution_count": 23,
   "id": "69bc32ee",
   "metadata": {
    "execution": {
     "iopub.execute_input": "2023-09-26T16:13:51.337624Z",
     "iopub.status.busy": "2023-09-26T16:13:51.336591Z",
     "iopub.status.idle": "2023-09-26T16:13:51.562255Z",
     "shell.execute_reply": "2023-09-26T16:13:51.560135Z"
    },
    "papermill": {
     "duration": 0.254993,
     "end_time": "2023-09-26T16:13:51.564835",
     "exception": false,
     "start_time": "2023-09-26T16:13:51.309842",
     "status": "completed"
    },
    "tags": []
   },
   "outputs": [
    {
     "data": {
      "text/plain": [
       "<Axes: xlabel='HTML Tags Count', ylabel='count'>"
      ]
     },
     "execution_count": 23,
     "metadata": {},
     "output_type": "execute_result"
    },
    {
     "data": {
      "image/png": "[encoded data removed]",
      "text/plain": [
       "<Figure size 640x480 with 1 Axes>"
      ]
     },
     "metadata": {},
     "output_type": "display_data"
    }
   ],
   "source": [
    "sns.countplot(x ='HTML Tags Count',data = df, )"
   ]
  },
  {
   "cell_type": "code",
   "execution_count": 24,
   "id": "8d018058",
   "metadata": {
    "execution": {
     "iopub.execute_input": "2023-09-26T16:13:51.619870Z",
     "iopub.status.busy": "2023-09-26T16:13:51.619204Z",
     "iopub.status.idle": "2023-09-26T16:13:51.915267Z",
     "shell.execute_reply": "2023-09-26T16:13:51.914150Z"
    },
    "papermill": {
     "duration": 0.326292,
     "end_time": "2023-09-26T16:13:51.917626",
     "exception": false,
     "start_time": "2023-09-26T16:13:51.591334",
     "status": "completed"
    },
    "tags": []
   },
   "outputs": [
    {
     "data": {
      "text/plain": [
       "<Axes: xlabel='HTML Tags Count', ylabel='count'>"
      ]
     },
     "execution_count": 24,
     "metadata": {},
     "output_type": "execute_result"
    },
    {
     "data": {
      "image/png": "[encoded data removed]",
      "text/plain": [
       "<Figure size 640x480 with 1 Axes>"
      ]
     },
     "metadata": {},
     "output_type": "display_data"
    }
   ],
   "source": [
    "sns.countplot(x ='HTML Tags Count',data = df,hue = 'Spam Indicator' )"
   ]
  },
  {
   "cell_type": "code",
   "execution_count": 25,
   "id": "1dc47ace",
   "metadata": {
    "execution": {
     "iopub.execute_input": "2023-09-26T16:13:51.973854Z",
     "iopub.status.busy": "2023-09-26T16:13:51.973135Z",
     "iopub.status.idle": "2023-09-26T16:13:52.641314Z",
     "shell.execute_reply": "2023-09-26T16:13:52.640312Z"
    },
    "papermill": {
     "duration": 0.700411,
     "end_time": "2023-09-26T16:13:52.645574",
     "exception": false,
     "start_time": "2023-09-26T16:13:51.945163",
     "status": "completed"
    },
    "tags": []
   },
   "outputs": [
    {
     "data": {
      "text/plain": [
       "<Axes: xlabel='date', ylabel='count'>"
      ]
     },
     "execution_count": 25,
     "metadata": {},
     "output_type": "execute_result"
    },
    {
     "data": {
      "image/png": "[encoded data removed]",
      "text/plain": [
       "<Figure size 1500x800 with 1 Axes>"
      ]
     },
     "metadata": {},
     "output_type": "display_data"
    }
   ],
   "source": [
    "plt.figure(figsize = (15,8))\n",
    "sns.countplot(x ='date',data = df,hue = 'Spam Indicator' )"
   ]
  },
  {
   "cell_type": "code",
   "execution_count": 26,
   "id": "bb8885f5",
   "metadata": {
    "execution": {
     "iopub.execute_input": "2023-09-26T16:13:52.704107Z",
     "iopub.status.busy": "2023-09-26T16:13:52.703492Z",
     "iopub.status.idle": "2023-09-26T16:13:52.708988Z",
     "shell.execute_reply": "2023-09-26T16:13:52.708283Z"
    },
    "papermill": {
     "duration": 0.037037,
     "end_time": "2023-09-26T16:13:52.710991",
     "exception": false,
     "start_time": "2023-09-26T16:13:52.673954",
     "status": "completed"
    },
    "tags": []
   },
   "outputs": [
    {
     "data": {
      "text/plain": [
       "Index(['Subject', 'Sender', 'Attachments', 'Link Count', 'Word Count',\n",
       "       'Uppercase Count', 'Exclamation Count', 'Question Count',\n",
       "       'Dollar Count', 'Punctuation Count', 'HTML Tags Count',\n",
       "       'Spam Indicator', 'Month', 'date'],\n",
       "      dtype='object')"
      ]
     },
     "execution_count": 26,
     "metadata": {},
     "output_type": "execute_result"
    }
   ],
   "source": [
    "df.columns"
   ]
  },
  {
   "cell_type": "code",
   "execution_count": 27,
   "id": "0da3bee4",
   "metadata": {
    "execution": {
     "iopub.execute_input": "2023-09-26T16:13:52.768728Z",
     "iopub.status.busy": "2023-09-26T16:13:52.768060Z",
     "iopub.status.idle": "2023-09-26T16:13:53.215444Z",
     "shell.execute_reply": "2023-09-26T16:13:53.214418Z"
    },
    "papermill": {
     "duration": 0.478614,
     "end_time": "2023-09-26T16:13:53.217667",
     "exception": false,
     "start_time": "2023-09-26T16:13:52.739053",
     "status": "completed"
    },
    "tags": []
   },
   "outputs": [
    {
     "data": {
      "text/plain": [
       "<Axes: xlabel='Punctuation Count', ylabel='count'>"
      ]
     },
     "execution_count": 27,
     "metadata": {},
     "output_type": "execute_result"
    },
    {
     "data": {
      "image/png": "[encoded data removed]",
      "text/plain": [
       "<Figure size 640x480 with 1 Axes>"
      ]
     },
     "metadata": {},
     "output_type": "display_data"
    }
   ],
   "source": [
    "sns.countplot(x ='Punctuation Count',data = df,hue = 'Spam Indicator' )"
   ]
  },
  {
   "cell_type": "code",
   "execution_count": 28,
   "id": "5f06c52e",
   "metadata": {
    "execution": {
     "iopub.execute_input": "2023-09-26T16:13:53.274888Z",
     "iopub.status.busy": "2023-09-26T16:13:53.274446Z",
     "iopub.status.idle": "2023-09-26T16:13:53.681266Z",
     "shell.execute_reply": "2023-09-26T16:13:53.680204Z"
    },
    "papermill": {
     "duration": 0.437942,
     "end_time": "2023-09-26T16:13:53.683623",
     "exception": false,
     "start_time": "2023-09-26T16:13:53.245681",
     "status": "completed"
    },
    "tags": []
   },
   "outputs": [
    {
     "data": {
      "text/plain": [
       "<Axes: xlabel='Exclamation Count', ylabel='count'>"
      ]
     },
     "execution_count": 28,
     "metadata": {},
     "output_type": "execute_result"
    },
    {
     "data": {
      "image/png": "[encoded data removed]",
      "text/plain": [
       "<Figure size 640x480 with 1 Axes>"
      ]
     },
     "metadata": {},
     "output_type": "display_data"
    }
   ],
   "source": [
    "sns.countplot(x ='Exclamation Count',data = df,hue = 'Spam Indicator' )"
   ]
  },
  {
   "cell_type": "code",
   "execution_count": 29,
   "id": "79735b1f",
   "metadata": {
    "execution": {
     "iopub.execute_input": "2023-09-26T16:13:53.742611Z",
     "iopub.status.busy": "2023-09-26T16:13:53.742170Z",
     "iopub.status.idle": "2023-09-26T16:13:54.032358Z",
     "shell.execute_reply": "2023-09-26T16:13:54.031146Z"
    },
    "papermill": {
     "duration": 0.322947,
     "end_time": "2023-09-26T16:13:54.034834",
     "exception": false,
     "start_time": "2023-09-26T16:13:53.711887",
     "status": "completed"
    },
    "tags": []
   },
   "outputs": [
    {
     "data": {
      "text/plain": [
       "<Axes: xlabel='Question Count', ylabel='count'>"
      ]
     },
     "execution_count": 29,
     "metadata": {},
     "output_type": "execute_result"
    },
    {
     "data": {
      "image/png": "[encoded data removed]",
      "text/plain": [
       "<Figure size 640x480 with 1 Axes>"
      ]
     },
     "metadata": {},
     "output_type": "display_data"
    }
   ],
   "source": [
    "sns.countplot(x ='Question Count',data = df,hue = 'Spam Indicator' )"
   ]
  },
  {
   "cell_type": "code",
   "execution_count": 30,
   "id": "46843785",
   "metadata": {
    "execution": {
     "iopub.execute_input": "2023-09-26T16:13:54.095258Z",
     "iopub.status.busy": "2023-09-26T16:13:54.094900Z",
     "iopub.status.idle": "2023-09-26T16:13:54.351455Z",
     "shell.execute_reply": "2023-09-26T16:13:54.350263Z"
    },
    "papermill": {
     "duration": 0.289641,
     "end_time": "2023-09-26T16:13:54.353815",
     "exception": false,
     "start_time": "2023-09-26T16:13:54.064174",
     "status": "completed"
    },
    "tags": []
   },
   "outputs": [
    {
     "data": {
      "text/plain": [
       "<Axes: xlabel='Dollar Count', ylabel='count'>"
      ]
     },
     "execution_count": 30,
     "metadata": {},
     "output_type": "execute_result"
    },
    {
     "data": {
      "image/png": "[encoded data removed]",
      "text/plain": [
       "<Figure size 640x480 with 1 Axes>"
      ]
     },
     "metadata": {},
     "output_type": "display_data"
    }
   ],
   "source": [
    "sns.countplot(x ='Dollar Count',data = df,hue = 'Spam Indicator' )"
   ]
  },
  {
   "cell_type": "code",
   "execution_count": 31,
   "id": "7ad8c247",
   "metadata": {
    "execution": {
     "iopub.execute_input": "2023-09-26T16:13:54.414788Z",
     "iopub.status.busy": "2023-09-26T16:13:54.414383Z",
     "iopub.status.idle": "2023-09-26T16:13:54.420977Z",
     "shell.execute_reply": "2023-09-26T16:13:54.420124Z"
    },
    "papermill": {
     "duration": 0.038924,
     "end_time": "2023-09-26T16:13:54.422865",
     "exception": false,
     "start_time": "2023-09-26T16:13:54.383941",
     "status": "completed"
    },
    "tags": []
   },
   "outputs": [
    {
     "data": {
      "text/plain": [
       "Index(['Subject', 'Sender', 'Attachments', 'Link Count', 'Word Count',\n",
       "       'Uppercase Count', 'Exclamation Count', 'Question Count',\n",
       "       'Dollar Count', 'Punctuation Count', 'HTML Tags Count',\n",
       "       'Spam Indicator', 'Month', 'date'],\n",
       "      dtype='object')"
      ]
     },
     "execution_count": 31,
     "metadata": {},
     "output_type": "execute_result"
    }
   ],
   "source": [
    "df.columns"
   ]
  },
  {
   "cell_type": "code",
   "execution_count": 32,
   "id": "befee26d",
   "metadata": {
    "execution": {
     "iopub.execute_input": "2023-09-26T16:13:54.483718Z",
     "iopub.status.busy": "2023-09-26T16:13:54.482575Z",
     "iopub.status.idle": "2023-09-26T16:13:54.489971Z",
     "shell.execute_reply": "2023-09-26T16:13:54.489170Z"
    },
    "papermill": {
     "duration": 0.040032,
     "end_time": "2023-09-26T16:13:54.491849",
     "exception": false,
     "start_time": "2023-09-26T16:13:54.451817",
     "status": "completed"
    },
    "tags": []
   },
   "outputs": [],
   "source": [
    "df['Uppercase Count'] = df['Uppercase Count'].astype('int')\n",
    "df['Word Count'] = df['Word Count'].astype('int')"
   ]
  },
  {
   "cell_type": "code",
   "execution_count": 33,
   "id": "52b3e8ed",
   "metadata": {
    "execution": {
     "iopub.execute_input": "2023-09-26T16:13:54.553513Z",
     "iopub.status.busy": "2023-09-26T16:13:54.552766Z",
     "iopub.status.idle": "2023-09-26T16:13:54.974460Z",
     "shell.execute_reply": "2023-09-26T16:13:54.973345Z"
    },
    "papermill": {
     "duration": 0.454769,
     "end_time": "2023-09-26T16:13:54.976764",
     "exception": false,
     "start_time": "2023-09-26T16:13:54.521995",
     "status": "completed"
    },
    "tags": []
   },
   "outputs": [
    {
     "data": {
      "text/plain": [
       "<Axes: xlabel='Word Count', ylabel='Count'>"
      ]
     },
     "execution_count": 33,
     "metadata": {},
     "output_type": "execute_result"
    },
    {
     "data": {
      "image/png": "[encoded data removed]",
      "text/plain": [
       "<Figure size 640x480 with 1 Axes>"
      ]
     },
     "metadata": {},
     "output_type": "display_data"
    }
   ],
   "source": [
    "sns.histplot(x ='Word Count',data = df,hue = 'Spam Indicator' )"
   ]
  },
  {
   "cell_type": "code",
   "execution_count": 34,
   "id": "1a9c366a",
   "metadata": {
    "execution": {
     "iopub.execute_input": "2023-09-26T16:13:55.037686Z",
     "iopub.status.busy": "2023-09-26T16:13:55.037240Z",
     "iopub.status.idle": "2023-09-26T16:13:55.442247Z",
     "shell.execute_reply": "2023-09-26T16:13:55.440180Z"
    },
    "papermill": {
     "duration": 0.438328,
     "end_time": "2023-09-26T16:13:55.444638",
     "exception": false,
     "start_time": "2023-09-26T16:13:55.006310",
     "status": "completed"
    },
    "tags": []
   },
   "outputs": [
    {
     "data": {
      "text/plain": [
       "<Axes: xlabel='Word Count', ylabel='Density'>"
      ]
     },
     "execution_count": 34,
     "metadata": {},
     "output_type": "execute_result"
    },
    {
     "data": {
      "image/png": "[encoded data removed]",
      "text/plain": [
       "<Figure size 640x480 with 1 Axes>"
      ]
     },
     "metadata": {},
     "output_type": "display_data"
    }
   ],
   "source": [
    "sns.kdeplot(x ='Word Count',data = df,hue = 'Spam Indicator' )"
   ]
  },
  {
   "cell_type": "code",
   "execution_count": 35,
   "id": "61e6ba4f",
   "metadata": {
    "execution": {
     "iopub.execute_input": "2023-09-26T16:13:55.507765Z",
     "iopub.status.busy": "2023-09-26T16:13:55.506989Z",
     "iopub.status.idle": "2023-09-26T16:13:55.951693Z",
     "shell.execute_reply": "2023-09-26T16:13:55.950458Z"
    },
    "papermill": {
     "duration": 0.47886,
     "end_time": "2023-09-26T16:13:55.954141",
     "exception": false,
     "start_time": "2023-09-26T16:13:55.475281",
     "status": "completed"
    },
    "tags": []
   },
   "outputs": [
    {
     "data": {
      "text/plain": [
       "<Axes: xlabel='Uppercase Count', ylabel='Count'>"
      ]
     },
     "execution_count": 35,
     "metadata": {},
     "output_type": "execute_result"
    },
    {
     "data": {
      "image/png": "[encoded data removed]",
      "text/plain": [
       "<Figure size 640x480 with 1 Axes>"
      ]
     },
     "metadata": {},
     "output_type": "display_data"
    }
   ],
   "source": [
    "sns.histplot(x ='Uppercase Count',data = df,hue = 'Spam Indicator' )"
   ]
  },
  {
   "cell_type": "code",
   "execution_count": 36,
   "id": "0b20a51c",
   "metadata": {
    "execution": {
     "iopub.execute_input": "2023-09-26T16:13:56.020426Z",
     "iopub.status.busy": "2023-09-26T16:13:56.019656Z",
     "iopub.status.idle": "2023-09-26T16:13:56.412434Z",
     "shell.execute_reply": "2023-09-26T16:13:56.411261Z"
    },
    "papermill": {
     "duration": 0.428624,
     "end_time": "2023-09-26T16:13:56.414924",
     "exception": false,
     "start_time": "2023-09-26T16:13:55.986300",
     "status": "completed"
    },
    "tags": []
   },
   "outputs": [
    {
     "data": {
      "text/plain": [
       "<Axes: xlabel='Uppercase Count', ylabel='Density'>"
      ]
     },
     "execution_count": 36,
     "metadata": {},
     "output_type": "execute_result"
    },
    {
     "data": {
      "image/png": "[encoded data removed]",
      "text/plain": [
       "<Figure size 640x480 with 1 Axes>"
      ]
     },
     "metadata": {},
     "output_type": "display_data"
    }
   ],
   "source": [
    "sns.kdeplot(x ='Uppercase Count',data = df,hue = 'Spam Indicator' )"
   ]
  },
  {
   "cell_type": "code",
   "execution_count": 37,
   "id": "d249a032",
   "metadata": {
    "execution": {
     "iopub.execute_input": "2023-09-26T16:13:56.480823Z",
     "iopub.status.busy": "2023-09-26T16:13:56.480170Z",
     "iopub.status.idle": "2023-09-26T16:13:56.780117Z",
     "shell.execute_reply": "2023-09-26T16:13:56.779031Z"
    },
    "papermill": {
     "duration": 0.336349,
     "end_time": "2023-09-26T16:13:56.782642",
     "exception": false,
     "start_time": "2023-09-26T16:13:56.446293",
     "status": "completed"
    },
    "tags": []
   },
   "outputs": [
    {
     "data": {
      "text/plain": [
       "<Axes: xlabel='Spam Indicator', ylabel='Uppercase Count'>"
      ]
     },
     "execution_count": 37,
     "metadata": {},
     "output_type": "execute_result"
    },
    {
     "data": {
      "image/png": "[encoded data removed]",
      "text/plain": [
       "<Figure size 640x480 with 1 Axes>"
      ]
     },
     "metadata": {},
     "output_type": "display_data"
    }
   ],
   "source": [
    "sns.violinplot(y ='Uppercase Count',data = df,x = 'Spam Indicator' )"
   ]
  },
  {
   "cell_type": "code",
   "execution_count": 38,
   "id": "c18d317d",
   "metadata": {
    "execution": {
     "iopub.execute_input": "2023-09-26T16:13:56.851078Z",
     "iopub.status.busy": "2023-09-26T16:13:56.849835Z",
     "iopub.status.idle": "2023-09-26T16:13:56.866043Z",
     "shell.execute_reply": "2023-09-26T16:13:56.865208Z"
    },
    "papermill": {
     "duration": 0.053355,
     "end_time": "2023-09-26T16:13:56.868282",
     "exception": false,
     "start_time": "2023-09-26T16:13:56.814927",
     "status": "completed"
    },
    "tags": []
   },
   "outputs": [],
   "source": [
    "for i in z :\n",
    "    df[i] =  df[i].astype('int')"
   ]
  },
  {
   "cell_type": "code",
   "execution_count": 39,
   "id": "b647fb1c",
   "metadata": {
    "execution": {
     "iopub.execute_input": "2023-09-26T16:13:56.934636Z",
     "iopub.status.busy": "2023-09-26T16:13:56.934012Z",
     "iopub.status.idle": "2023-09-26T16:13:56.947365Z",
     "shell.execute_reply": "2023-09-26T16:13:56.946270Z"
    },
    "papermill": {
     "duration": 0.049175,
     "end_time": "2023-09-26T16:13:56.949639",
     "exception": false,
     "start_time": "2023-09-26T16:13:56.900464",
     "status": "completed"
    },
    "tags": []
   },
   "outputs": [
    {
     "name": "stdout",
     "output_type": "stream",
     "text": [
      "<class 'pandas.core.frame.DataFrame'>\n",
      "RangeIndex: 6000 entries, 0 to 5999\n",
      "Data columns (total 14 columns):\n",
      " #   Column             Non-Null Count  Dtype \n",
      "---  ------             --------------  ----- \n",
      " 0   Subject            6000 non-null   object\n",
      " 1   Sender             6000 non-null   object\n",
      " 2   Attachments        6000 non-null   int64 \n",
      " 3   Link Count         6000 non-null   int64 \n",
      " 4   Word Count         6000 non-null   int64 \n",
      " 5   Uppercase Count    6000 non-null   int64 \n",
      " 6   Exclamation Count  6000 non-null   int64 \n",
      " 7   Question Count     6000 non-null   int64 \n",
      " 8   Dollar Count       6000 non-null   int64 \n",
      " 9   Punctuation Count  6000 non-null   int64 \n",
      " 10  HTML Tags Count    6000 non-null   int64 \n",
      " 11  Spam Indicator     6000 non-null   int64 \n",
      " 12  Month              6000 non-null   int64 \n",
      " 13  date               6000 non-null   int64 \n",
      "dtypes: int64(12), object(2)\n",
      "memory usage: 656.4+ KB\n"
     ]
    }
   ],
   "source": [
    "df.info()"
   ]
  },
  {
   "cell_type": "markdown",
   "id": "32c3bba9",
   "metadata": {
    "papermill": {
     "duration": 0.031851,
     "end_time": "2023-09-26T16:13:57.013852",
     "exception": false,
     "start_time": "2023-09-26T16:13:56.982001",
     "status": "completed"
    },
    "tags": []
   },
   "source": [
    "**> **Converting subject to numeric vector ****"
   ]
  },
  {
   "cell_type": "code",
   "execution_count": 40,
   "id": "e04eafbc",
   "metadata": {
    "execution": {
     "iopub.execute_input": "2023-09-26T16:13:57.080439Z",
     "iopub.status.busy": "2023-09-26T16:13:57.080063Z",
     "iopub.status.idle": "2023-09-26T16:13:57.087447Z",
     "shell.execute_reply": "2023-09-26T16:13:57.086734Z"
    },
    "papermill": {
     "duration": 0.043047,
     "end_time": "2023-09-26T16:13:57.089371",
     "exception": false,
     "start_time": "2023-09-26T16:13:57.046324",
     "status": "completed"
    },
    "tags": []
   },
   "outputs": [
    {
     "data": {
      "text/plain": [
       "0                            Even hotel community church.\n",
       "1       Try themselves guess fight white agreement thu...\n",
       "2       Environmental commercial off seem any conference.\n",
       "3           Smile real TV father commercial day increase.\n",
       "4                          Fast stage he oil institution.\n",
       "                              ...                        \n",
       "5995              Current team yet like realize American.\n",
       "5996         Also start certainly range great try others.\n",
       "5997                       Matter issue win agent likely.\n",
       "5998                                 Again member father.\n",
       "5999              Position recognize behind boy try able.\n",
       "Name: Subject, Length: 6000, dtype: object"
      ]
     },
     "execution_count": 40,
     "metadata": {},
     "output_type": "execute_result"
    }
   ],
   "source": [
    "w = df['Subject']\n",
    "w"
   ]
  },
  {
   "cell_type": "code",
   "execution_count": 41,
   "id": "444a99b4",
   "metadata": {
    "execution": {
     "iopub.execute_input": "2023-09-26T16:13:57.158154Z",
     "iopub.status.busy": "2023-09-26T16:13:57.157062Z",
     "iopub.status.idle": "2023-09-26T16:13:57.164226Z",
     "shell.execute_reply": "2023-09-26T16:13:57.163108Z"
    },
    "papermill": {
     "duration": 0.043226,
     "end_time": "2023-09-26T16:13:57.166142",
     "exception": false,
     "start_time": "2023-09-26T16:13:57.122916",
     "status": "completed"
    },
    "tags": []
   },
   "outputs": [
    {
     "data": {
      "text/plain": [
       "'Try themselves guess fight white agreement thus although.'"
      ]
     },
     "execution_count": 41,
     "metadata": {},
     "output_type": "execute_result"
    }
   ],
   "source": [
    "w[1]"
   ]
  },
  {
   "cell_type": "code",
   "execution_count": 42,
   "id": "711d8f16",
   "metadata": {
    "execution": {
     "iopub.execute_input": "2023-09-26T16:13:57.233979Z",
     "iopub.status.busy": "2023-09-26T16:13:57.233582Z",
     "iopub.status.idle": "2023-09-26T16:13:57.518696Z",
     "shell.execute_reply": "2023-09-26T16:13:57.517629Z"
    },
    "papermill": {
     "duration": 0.322035,
     "end_time": "2023-09-26T16:13:57.521216",
     "exception": false,
     "start_time": "2023-09-26T16:13:57.199181",
     "status": "completed"
    },
    "tags": []
   },
   "outputs": [],
   "source": [
    "from sklearn.feature_extraction.text import TfidfVectorizer\n",
    "\n",
    "tfidf_vec = TfidfVectorizer(use_idf=True, smooth_idf=True, ngram_range=(1, 1), stop_words='english')\n",
    "\n",
    "# Transform the sentences into TF-IDF vectors\n",
    "tfidf_data = tfidf_vec.fit_transform(w)\n",
    "\n",
    "# Create a DataFrame to display the results\n",
    "tfidf_dataframe = pd.DataFrame(tfidf_data.toarray(), columns=tfidf_vec.get_feature_names_out())"
   ]
  },
  {
   "cell_type": "code",
   "execution_count": 43,
   "id": "bf908315",
   "metadata": {
    "execution": {
     "iopub.execute_input": "2023-09-26T16:13:57.590320Z",
     "iopub.status.busy": "2023-09-26T16:13:57.589954Z",
     "iopub.status.idle": "2023-09-26T16:13:57.597436Z",
     "shell.execute_reply": "2023-09-26T16:13:57.596236Z"
    },
    "papermill": {
     "duration": 0.044087,
     "end_time": "2023-09-26T16:13:57.599971",
     "exception": false,
     "start_time": "2023-09-26T16:13:57.555884",
     "status": "completed"
    },
    "tags": []
   },
   "outputs": [
    {
     "data": {
      "text/plain": [
       "<6000x763 sparse matrix of type '<class 'numpy.float64'>'\n",
       "\twith 25930 stored elements in Compressed Sparse Row format>"
      ]
     },
     "execution_count": 43,
     "metadata": {},
     "output_type": "execute_result"
    }
   ],
   "source": [
    "tfidf_data"
   ]
  },
  {
   "cell_type": "code",
   "execution_count": 44,
   "id": "74e082b0",
   "metadata": {
    "execution": {
     "iopub.execute_input": "2023-09-26T16:13:57.668243Z",
     "iopub.status.busy": "2023-09-26T16:13:57.667499Z",
     "iopub.status.idle": "2023-09-26T16:13:57.697869Z",
     "shell.execute_reply": "2023-09-26T16:13:57.696760Z"
    },
    "papermill": {
     "duration": 0.066987,
     "end_time": "2023-09-26T16:13:57.700303",
     "exception": false,
     "start_time": "2023-09-26T16:13:57.633316",
     "status": "completed"
    },
    "tags": []
   },
   "outputs": [
    {
     "data": {
      "text/html": [
       "<div>\n",
       "<style scoped>\n",
       "    .dataframe tbody tr th:only-of-type {\n",
       "        vertical-align: middle;\n",
       "    }\n",
       "\n",
       "    .dataframe tbody tr th {\n",
       "        vertical-align: top;\n",
       "    }\n",
       "\n",
       "    .dataframe thead th {\n",
       "        text-align: right;\n",
       "    }\n",
       "</style>\n",
       "<table border=\"1\" class=\"dataframe\">\n",
       "  <thead>\n",
       "    <tr style=\"text-align: right;\">\n",
       "      <th></th>\n",
       "      <th>ability</th>\n",
       "      <th>able</th>\n",
       "      <th>accept</th>\n",
       "      <th>according</th>\n",
       "      <th>account</th>\n",
       "      <th>act</th>\n",
       "      <th>action</th>\n",
       "      <th>activity</th>\n",
       "      <th>actually</th>\n",
       "      <th>add</th>\n",
       "      <th>...</th>\n",
       "      <th>world</th>\n",
       "      <th>worry</th>\n",
       "      <th>write</th>\n",
       "      <th>writer</th>\n",
       "      <th>wrong</th>\n",
       "      <th>yard</th>\n",
       "      <th>yeah</th>\n",
       "      <th>year</th>\n",
       "      <th>yes</th>\n",
       "      <th>young</th>\n",
       "    </tr>\n",
       "  </thead>\n",
       "  <tbody>\n",
       "    <tr>\n",
       "      <th>0</th>\n",
       "      <td>0.0</td>\n",
       "      <td>0.0</td>\n",
       "      <td>0.0</td>\n",
       "      <td>0.0</td>\n",
       "      <td>0.0</td>\n",
       "      <td>0.0</td>\n",
       "      <td>0.0</td>\n",
       "      <td>0.0</td>\n",
       "      <td>0.0</td>\n",
       "      <td>0.0</td>\n",
       "      <td>...</td>\n",
       "      <td>0.0</td>\n",
       "      <td>0.0</td>\n",
       "      <td>0.0</td>\n",
       "      <td>0.0</td>\n",
       "      <td>0.0</td>\n",
       "      <td>0.0</td>\n",
       "      <td>0.0</td>\n",
       "      <td>0.0</td>\n",
       "      <td>0.0</td>\n",
       "      <td>0.0</td>\n",
       "    </tr>\n",
       "    <tr>\n",
       "      <th>1</th>\n",
       "      <td>0.0</td>\n",
       "      <td>0.0</td>\n",
       "      <td>0.0</td>\n",
       "      <td>0.0</td>\n",
       "      <td>0.0</td>\n",
       "      <td>0.0</td>\n",
       "      <td>0.0</td>\n",
       "      <td>0.0</td>\n",
       "      <td>0.0</td>\n",
       "      <td>0.0</td>\n",
       "      <td>...</td>\n",
       "      <td>0.0</td>\n",
       "      <td>0.0</td>\n",
       "      <td>0.0</td>\n",
       "      <td>0.0</td>\n",
       "      <td>0.0</td>\n",
       "      <td>0.0</td>\n",
       "      <td>0.0</td>\n",
       "      <td>0.0</td>\n",
       "      <td>0.0</td>\n",
       "      <td>0.0</td>\n",
       "    </tr>\n",
       "    <tr>\n",
       "      <th>2</th>\n",
       "      <td>0.0</td>\n",
       "      <td>0.0</td>\n",
       "      <td>0.0</td>\n",
       "      <td>0.0</td>\n",
       "      <td>0.0</td>\n",
       "      <td>0.0</td>\n",
       "      <td>0.0</td>\n",
       "      <td>0.0</td>\n",
       "      <td>0.0</td>\n",
       "      <td>0.0</td>\n",
       "      <td>...</td>\n",
       "      <td>0.0</td>\n",
       "      <td>0.0</td>\n",
       "      <td>0.0</td>\n",
       "      <td>0.0</td>\n",
       "      <td>0.0</td>\n",
       "      <td>0.0</td>\n",
       "      <td>0.0</td>\n",
       "      <td>0.0</td>\n",
       "      <td>0.0</td>\n",
       "      <td>0.0</td>\n",
       "    </tr>\n",
       "    <tr>\n",
       "      <th>3</th>\n",
       "      <td>0.0</td>\n",
       "      <td>0.0</td>\n",
       "      <td>0.0</td>\n",
       "      <td>0.0</td>\n",
       "      <td>0.0</td>\n",
       "      <td>0.0</td>\n",
       "      <td>0.0</td>\n",
       "      <td>0.0</td>\n",
       "      <td>0.0</td>\n",
       "      <td>0.0</td>\n",
       "      <td>...</td>\n",
       "      <td>0.0</td>\n",
       "      <td>0.0</td>\n",
       "      <td>0.0</td>\n",
       "      <td>0.0</td>\n",
       "      <td>0.0</td>\n",
       "      <td>0.0</td>\n",
       "      <td>0.0</td>\n",
       "      <td>0.0</td>\n",
       "      <td>0.0</td>\n",
       "      <td>0.0</td>\n",
       "    </tr>\n",
       "    <tr>\n",
       "      <th>4</th>\n",
       "      <td>0.0</td>\n",
       "      <td>0.0</td>\n",
       "      <td>0.0</td>\n",
       "      <td>0.0</td>\n",
       "      <td>0.0</td>\n",
       "      <td>0.0</td>\n",
       "      <td>0.0</td>\n",
       "      <td>0.0</td>\n",
       "      <td>0.0</td>\n",
       "      <td>0.0</td>\n",
       "      <td>...</td>\n",
       "      <td>0.0</td>\n",
       "      <td>0.0</td>\n",
       "      <td>0.0</td>\n",
       "      <td>0.0</td>\n",
       "      <td>0.0</td>\n",
       "      <td>0.0</td>\n",
       "      <td>0.0</td>\n",
       "      <td>0.0</td>\n",
       "      <td>0.0</td>\n",
       "      <td>0.0</td>\n",
       "    </tr>\n",
       "  </tbody>\n",
       "</table>\n",
       "<p>5 rows × 763 columns</p>\n",
       "</div>"
      ],
      "text/plain": [
       "   ability  able  accept  according  account  act  action  activity  actually  \\\n",
       "0      0.0   0.0     0.0        0.0      0.0  0.0     0.0       0.0       0.0   \n",
       "1      0.0   0.0     0.0        0.0      0.0  0.0     0.0       0.0       0.0   \n",
       "2      0.0   0.0     0.0        0.0      0.0  0.0     0.0       0.0       0.0   \n",
       "3      0.0   0.0     0.0        0.0      0.0  0.0     0.0       0.0       0.0   \n",
       "4      0.0   0.0     0.0        0.0      0.0  0.0     0.0       0.0       0.0   \n",
       "\n",
       "   add  ...  world  worry  write  writer  wrong  yard  yeah  year  yes  young  \n",
       "0  0.0  ...    0.0    0.0    0.0     0.0    0.0   0.0   0.0   0.0  0.0    0.0  \n",
       "1  0.0  ...    0.0    0.0    0.0     0.0    0.0   0.0   0.0   0.0  0.0    0.0  \n",
       "2  0.0  ...    0.0    0.0    0.0     0.0    0.0   0.0   0.0   0.0  0.0    0.0  \n",
       "3  0.0  ...    0.0    0.0    0.0     0.0    0.0   0.0   0.0   0.0  0.0    0.0  \n",
       "4  0.0  ...    0.0    0.0    0.0     0.0    0.0   0.0   0.0   0.0  0.0    0.0  \n",
       "\n",
       "[5 rows x 763 columns]"
      ]
     },
     "execution_count": 44,
     "metadata": {},
     "output_type": "execute_result"
    }
   ],
   "source": [
    "tfidf_dataframe.head()"
   ]
  },
  {
   "cell_type": "code",
   "execution_count": 45,
   "id": "cc97e441",
   "metadata": {
    "execution": {
     "iopub.execute_input": "2023-09-26T16:13:57.768587Z",
     "iopub.status.busy": "2023-09-26T16:13:57.767940Z",
     "iopub.status.idle": "2023-09-26T16:13:57.772335Z",
     "shell.execute_reply": "2023-09-26T16:13:57.771567Z"
    },
    "papermill": {
     "duration": 0.040929,
     "end_time": "2023-09-26T16:13:57.774277",
     "exception": false,
     "start_time": "2023-09-26T16:13:57.733348",
     "status": "completed"
    },
    "tags": []
   },
   "outputs": [],
   "source": [
    " #df1 = pd.concat([df,tfidf_dataframe],axis = 1)"
   ]
  },
  {
   "cell_type": "markdown",
   "id": "86b91a64",
   "metadata": {
    "papermill": {
     "duration": 0.032384,
     "end_time": "2023-09-26T16:13:57.839649",
     "exception": false,
     "start_time": "2023-09-26T16:13:57.807265",
     "status": "completed"
    },
    "tags": []
   },
   "source": [
    "> **create a new data (duplicate) to avoid overlap in data**"
   ]
  },
  {
   "cell_type": "code",
   "execution_count": 46,
   "id": "b433db91",
   "metadata": {
    "execution": {
     "iopub.execute_input": "2023-09-26T16:13:57.907515Z",
     "iopub.status.busy": "2023-09-26T16:13:57.906890Z",
     "iopub.status.idle": "2023-09-26T16:13:57.911318Z",
     "shell.execute_reply": "2023-09-26T16:13:57.910590Z"
    },
    "papermill": {
     "duration": 0.040803,
     "end_time": "2023-09-26T16:13:57.913223",
     "exception": false,
     "start_time": "2023-09-26T16:13:57.872420",
     "status": "completed"
    },
    "tags": []
   },
   "outputs": [],
   "source": [
    "d  = tfidf_dataframe"
   ]
  },
  {
   "cell_type": "code",
   "execution_count": 47,
   "id": "ac6150d1",
   "metadata": {
    "execution": {
     "iopub.execute_input": "2023-09-26T16:13:57.981631Z",
     "iopub.status.busy": "2023-09-26T16:13:57.980971Z",
     "iopub.status.idle": "2023-09-26T16:13:57.987818Z",
     "shell.execute_reply": "2023-09-26T16:13:57.986946Z"
    },
    "papermill": {
     "duration": 0.043842,
     "end_time": "2023-09-26T16:13:57.989836",
     "exception": false,
     "start_time": "2023-09-26T16:13:57.945994",
     "status": "completed"
    },
    "tags": []
   },
   "outputs": [
    {
     "data": {
      "text/plain": [
       "Index(['ability', 'able', 'accept', 'according', 'account', 'act', 'action',\n",
       "       'activity', 'actually', 'add',\n",
       "       ...\n",
       "       'world', 'worry', 'write', 'writer', 'wrong', 'yard', 'yeah', 'year',\n",
       "       'yes', 'young'],\n",
       "      dtype='object', length=763)"
      ]
     },
     "execution_count": 47,
     "metadata": {},
     "output_type": "execute_result"
    }
   ],
   "source": [
    "a = d.columns\n",
    "a"
   ]
  },
  {
   "cell_type": "code",
   "execution_count": 48,
   "id": "7b7afa56",
   "metadata": {
    "execution": {
     "iopub.execute_input": "2023-09-26T16:13:58.062214Z",
     "iopub.status.busy": "2023-09-26T16:13:58.061554Z",
     "iopub.status.idle": "2023-09-26T16:14:02.180086Z",
     "shell.execute_reply": "2023-09-26T16:14:02.178972Z"
    },
    "papermill": {
     "duration": 4.157781,
     "end_time": "2023-09-26T16:14:02.182818",
     "exception": false,
     "start_time": "2023-09-26T16:13:58.025037",
     "status": "completed"
    },
    "tags": []
   },
   "outputs": [],
   "source": [
    "for i in a:\n",
    "    #print(max(d[i].value_counts(normalize = True)))\n",
    "        \n",
    "    if (max(d[i].value_counts(normalize = True)) > 0.993) :\n",
    "        #print(d[i].value_counts(normalize = True))\n",
    "        d.drop(i,axis = 1,inplace = True)"
   ]
  },
  {
   "cell_type": "code",
   "execution_count": 49,
   "id": "5e2ca3de",
   "metadata": {
    "execution": {
     "iopub.execute_input": "2023-09-26T16:14:02.251327Z",
     "iopub.status.busy": "2023-09-26T16:14:02.250720Z",
     "iopub.status.idle": "2023-09-26T16:14:02.256961Z",
     "shell.execute_reply": "2023-09-26T16:14:02.256032Z"
    },
    "papermill": {
     "duration": 0.042992,
     "end_time": "2023-09-26T16:14:02.258913",
     "exception": false,
     "start_time": "2023-09-26T16:14:02.215921",
     "status": "completed"
    },
    "tags": []
   },
   "outputs": [
    {
     "data": {
      "text/plain": [
       "(6000, 72)"
      ]
     },
     "execution_count": 49,
     "metadata": {},
     "output_type": "execute_result"
    }
   ],
   "source": [
    "d.shape"
   ]
  },
  {
   "cell_type": "code",
   "execution_count": 50,
   "id": "390ef54a",
   "metadata": {
    "execution": {
     "iopub.execute_input": "2023-09-26T16:14:02.327454Z",
     "iopub.status.busy": "2023-09-26T16:14:02.326844Z",
     "iopub.status.idle": "2023-09-26T16:14:02.333052Z",
     "shell.execute_reply": "2023-09-26T16:14:02.332206Z"
    },
    "papermill": {
     "duration": 0.043057,
     "end_time": "2023-09-26T16:14:02.335019",
     "exception": false,
     "start_time": "2023-09-26T16:14:02.291962",
     "status": "completed"
    },
    "tags": []
   },
   "outputs": [
    {
     "data": {
      "text/plain": [
       "(6000, 72)"
      ]
     },
     "execution_count": 50,
     "metadata": {},
     "output_type": "execute_result"
    }
   ],
   "source": [
    "tfidf_dataframe.shape"
   ]
  },
  {
   "cell_type": "code",
   "execution_count": 51,
   "id": "6136be80",
   "metadata": {
    "execution": {
     "iopub.execute_input": "2023-09-26T16:14:02.403979Z",
     "iopub.status.busy": "2023-09-26T16:14:02.403310Z",
     "iopub.status.idle": "2023-09-26T16:14:02.407784Z",
     "shell.execute_reply": "2023-09-26T16:14:02.407031Z"
    },
    "papermill": {
     "duration": 0.041395,
     "end_time": "2023-09-26T16:14:02.409733",
     "exception": false,
     "start_time": "2023-09-26T16:14:02.368338",
     "status": "completed"
    },
    "tags": []
   },
   "outputs": [],
   "source": [
    "df1 = df"
   ]
  },
  {
   "cell_type": "code",
   "execution_count": 52,
   "id": "13906321",
   "metadata": {
    "execution": {
     "iopub.execute_input": "2023-09-26T16:14:02.480330Z",
     "iopub.status.busy": "2023-09-26T16:14:02.479685Z",
     "iopub.status.idle": "2023-09-26T16:14:02.497225Z",
     "shell.execute_reply": "2023-09-26T16:14:02.496157Z"
    },
    "papermill": {
     "duration": 0.056435,
     "end_time": "2023-09-26T16:14:02.499391",
     "exception": false,
     "start_time": "2023-09-26T16:14:02.442956",
     "status": "completed"
    },
    "tags": []
   },
   "outputs": [
    {
     "data": {
      "text/html": [
       "<div>\n",
       "<style scoped>\n",
       "    .dataframe tbody tr th:only-of-type {\n",
       "        vertical-align: middle;\n",
       "    }\n",
       "\n",
       "    .dataframe tbody tr th {\n",
       "        vertical-align: top;\n",
       "    }\n",
       "\n",
       "    .dataframe thead th {\n",
       "        text-align: right;\n",
       "    }\n",
       "</style>\n",
       "<table border=\"1\" class=\"dataframe\">\n",
       "  <thead>\n",
       "    <tr style=\"text-align: right;\">\n",
       "      <th></th>\n",
       "      <th>Subject</th>\n",
       "      <th>Sender</th>\n",
       "      <th>Attachments</th>\n",
       "      <th>Link Count</th>\n",
       "      <th>Word Count</th>\n",
       "      <th>Uppercase Count</th>\n",
       "      <th>Exclamation Count</th>\n",
       "      <th>Question Count</th>\n",
       "      <th>Dollar Count</th>\n",
       "      <th>Punctuation Count</th>\n",
       "      <th>HTML Tags Count</th>\n",
       "      <th>Spam Indicator</th>\n",
       "      <th>Month</th>\n",
       "      <th>date</th>\n",
       "    </tr>\n",
       "  </thead>\n",
       "  <tbody>\n",
       "    <tr>\n",
       "      <th>0</th>\n",
       "      <td>Even hotel community church.</td>\n",
       "      <td>emilyscott@example.org</td>\n",
       "      <td>3</td>\n",
       "      <td>0</td>\n",
       "      <td>191</td>\n",
       "      <td>32</td>\n",
       "      <td>3</td>\n",
       "      <td>3</td>\n",
       "      <td>0</td>\n",
       "      <td>11</td>\n",
       "      <td>1</td>\n",
       "      <td>1</td>\n",
       "      <td>2</td>\n",
       "      <td>13</td>\n",
       "    </tr>\n",
       "    <tr>\n",
       "      <th>1</th>\n",
       "      <td>Try themselves guess fight white agreement thu...</td>\n",
       "      <td>annwhite@example.net</td>\n",
       "      <td>3</td>\n",
       "      <td>9</td>\n",
       "      <td>45</td>\n",
       "      <td>1</td>\n",
       "      <td>2</td>\n",
       "      <td>1</td>\n",
       "      <td>2</td>\n",
       "      <td>8</td>\n",
       "      <td>2</td>\n",
       "      <td>1</td>\n",
       "      <td>8</td>\n",
       "      <td>9</td>\n",
       "    </tr>\n",
       "    <tr>\n",
       "      <th>2</th>\n",
       "      <td>Environmental commercial off seem any conference.</td>\n",
       "      <td>david88@example.net</td>\n",
       "      <td>3</td>\n",
       "      <td>9</td>\n",
       "      <td>52</td>\n",
       "      <td>1</td>\n",
       "      <td>4</td>\n",
       "      <td>0</td>\n",
       "      <td>2</td>\n",
       "      <td>10</td>\n",
       "      <td>1</td>\n",
       "      <td>1</td>\n",
       "      <td>5</td>\n",
       "      <td>16</td>\n",
       "    </tr>\n",
       "    <tr>\n",
       "      <th>3</th>\n",
       "      <td>Smile real TV father commercial day increase.</td>\n",
       "      <td>lindaalvarez@example.com</td>\n",
       "      <td>2</td>\n",
       "      <td>3</td>\n",
       "      <td>75</td>\n",
       "      <td>6</td>\n",
       "      <td>0</td>\n",
       "      <td>2</td>\n",
       "      <td>0</td>\n",
       "      <td>8</td>\n",
       "      <td>2</td>\n",
       "      <td>0</td>\n",
       "      <td>4</td>\n",
       "      <td>25</td>\n",
       "    </tr>\n",
       "    <tr>\n",
       "      <th>4</th>\n",
       "      <td>Fast stage he oil institution.</td>\n",
       "      <td>vstafford@example.com</td>\n",
       "      <td>3</td>\n",
       "      <td>5</td>\n",
       "      <td>299</td>\n",
       "      <td>279</td>\n",
       "      <td>0</td>\n",
       "      <td>2</td>\n",
       "      <td>0</td>\n",
       "      <td>6</td>\n",
       "      <td>1</td>\n",
       "      <td>1</td>\n",
       "      <td>7</td>\n",
       "      <td>11</td>\n",
       "    </tr>\n",
       "    <tr>\n",
       "      <th>...</th>\n",
       "      <td>...</td>\n",
       "      <td>...</td>\n",
       "      <td>...</td>\n",
       "      <td>...</td>\n",
       "      <td>...</td>\n",
       "      <td>...</td>\n",
       "      <td>...</td>\n",
       "      <td>...</td>\n",
       "      <td>...</td>\n",
       "      <td>...</td>\n",
       "      <td>...</td>\n",
       "      <td>...</td>\n",
       "      <td>...</td>\n",
       "      <td>...</td>\n",
       "    </tr>\n",
       "    <tr>\n",
       "      <th>5995</th>\n",
       "      <td>Current team yet like realize American.</td>\n",
       "      <td>martinezangela@example.net</td>\n",
       "      <td>1</td>\n",
       "      <td>7</td>\n",
       "      <td>114</td>\n",
       "      <td>83</td>\n",
       "      <td>0</td>\n",
       "      <td>3</td>\n",
       "      <td>2</td>\n",
       "      <td>0</td>\n",
       "      <td>5</td>\n",
       "      <td>0</td>\n",
       "      <td>4</td>\n",
       "      <td>10</td>\n",
       "    </tr>\n",
       "    <tr>\n",
       "      <th>5996</th>\n",
       "      <td>Also start certainly range great try others.</td>\n",
       "      <td>mckenzieerika@example.net</td>\n",
       "      <td>1</td>\n",
       "      <td>5</td>\n",
       "      <td>19</td>\n",
       "      <td>10</td>\n",
       "      <td>0</td>\n",
       "      <td>0</td>\n",
       "      <td>1</td>\n",
       "      <td>7</td>\n",
       "      <td>0</td>\n",
       "      <td>0</td>\n",
       "      <td>5</td>\n",
       "      <td>7</td>\n",
       "    </tr>\n",
       "    <tr>\n",
       "      <th>5997</th>\n",
       "      <td>Matter issue win agent likely.</td>\n",
       "      <td>dlewis@example.org</td>\n",
       "      <td>2</td>\n",
       "      <td>10</td>\n",
       "      <td>52</td>\n",
       "      <td>45</td>\n",
       "      <td>5</td>\n",
       "      <td>3</td>\n",
       "      <td>0</td>\n",
       "      <td>10</td>\n",
       "      <td>4</td>\n",
       "      <td>0</td>\n",
       "      <td>4</td>\n",
       "      <td>8</td>\n",
       "    </tr>\n",
       "    <tr>\n",
       "      <th>5998</th>\n",
       "      <td>Again member father.</td>\n",
       "      <td>eperry@example.org</td>\n",
       "      <td>3</td>\n",
       "      <td>2</td>\n",
       "      <td>178</td>\n",
       "      <td>76</td>\n",
       "      <td>0</td>\n",
       "      <td>1</td>\n",
       "      <td>2</td>\n",
       "      <td>11</td>\n",
       "      <td>1</td>\n",
       "      <td>1</td>\n",
       "      <td>1</td>\n",
       "      <td>19</td>\n",
       "    </tr>\n",
       "    <tr>\n",
       "      <th>5999</th>\n",
       "      <td>Position recognize behind boy try able.</td>\n",
       "      <td>jason06@example.org</td>\n",
       "      <td>0</td>\n",
       "      <td>6</td>\n",
       "      <td>218</td>\n",
       "      <td>130</td>\n",
       "      <td>3</td>\n",
       "      <td>0</td>\n",
       "      <td>0</td>\n",
       "      <td>11</td>\n",
       "      <td>2</td>\n",
       "      <td>1</td>\n",
       "      <td>7</td>\n",
       "      <td>2</td>\n",
       "    </tr>\n",
       "  </tbody>\n",
       "</table>\n",
       "<p>6000 rows × 14 columns</p>\n",
       "</div>"
      ],
      "text/plain": [
       "                                                Subject  \\\n",
       "0                          Even hotel community church.   \n",
       "1     Try themselves guess fight white agreement thu...   \n",
       "2     Environmental commercial off seem any conference.   \n",
       "3         Smile real TV father commercial day increase.   \n",
       "4                        Fast stage he oil institution.   \n",
       "...                                                 ...   \n",
       "5995            Current team yet like realize American.   \n",
       "5996       Also start certainly range great try others.   \n",
       "5997                     Matter issue win agent likely.   \n",
       "5998                               Again member father.   \n",
       "5999            Position recognize behind boy try able.   \n",
       "\n",
       "                          Sender  Attachments  Link Count  Word Count  \\\n",
       "0         emilyscott@example.org            3           0         191   \n",
       "1           annwhite@example.net            3           9          45   \n",
       "2            david88@example.net            3           9          52   \n",
       "3       lindaalvarez@example.com            2           3          75   \n",
       "4          vstafford@example.com            3           5         299   \n",
       "...                          ...          ...         ...         ...   \n",
       "5995  martinezangela@example.net            1           7         114   \n",
       "5996   mckenzieerika@example.net            1           5          19   \n",
       "5997          dlewis@example.org            2          10          52   \n",
       "5998          eperry@example.org            3           2         178   \n",
       "5999         jason06@example.org            0           6         218   \n",
       "\n",
       "      Uppercase Count  Exclamation Count  Question Count  Dollar Count  \\\n",
       "0                  32                  3               3             0   \n",
       "1                   1                  2               1             2   \n",
       "2                   1                  4               0             2   \n",
       "3                   6                  0               2             0   \n",
       "4                 279                  0               2             0   \n",
       "...               ...                ...             ...           ...   \n",
       "5995               83                  0               3             2   \n",
       "5996               10                  0               0             1   \n",
       "5997               45                  5               3             0   \n",
       "5998               76                  0               1             2   \n",
       "5999              130                  3               0             0   \n",
       "\n",
       "      Punctuation Count  HTML Tags Count  Spam Indicator  Month  date  \n",
       "0                    11                1               1      2    13  \n",
       "1                     8                2               1      8     9  \n",
       "2                    10                1               1      5    16  \n",
       "3                     8                2               0      4    25  \n",
       "4                     6                1               1      7    11  \n",
       "...                 ...              ...             ...    ...   ...  \n",
       "5995                  0                5               0      4    10  \n",
       "5996                  7                0               0      5     7  \n",
       "5997                 10                4               0      4     8  \n",
       "5998                 11                1               1      1    19  \n",
       "5999                 11                2               1      7     2  \n",
       "\n",
       "[6000 rows x 14 columns]"
      ]
     },
     "execution_count": 52,
     "metadata": {},
     "output_type": "execute_result"
    }
   ],
   "source": [
    "df1"
   ]
  },
  {
   "cell_type": "code",
   "execution_count": 53,
   "id": "ccb7b259",
   "metadata": {
    "execution": {
     "iopub.execute_input": "2023-09-26T16:14:02.575176Z",
     "iopub.status.busy": "2023-09-26T16:14:02.574640Z",
     "iopub.status.idle": "2023-09-26T16:14:02.582909Z",
     "shell.execute_reply": "2023-09-26T16:14:02.581745Z"
    },
    "papermill": {
     "duration": 0.052882,
     "end_time": "2023-09-26T16:14:02.586240",
     "exception": false,
     "start_time": "2023-09-26T16:14:02.533358",
     "status": "completed"
    },
    "tags": []
   },
   "outputs": [],
   "source": [
    "df1.drop(['Subject','Sender'],axis = 1,inplace = True)"
   ]
  },
  {
   "cell_type": "code",
   "execution_count": 54,
   "id": "8fd20c2c",
   "metadata": {
    "execution": {
     "iopub.execute_input": "2023-09-26T16:14:02.668507Z",
     "iopub.status.busy": "2023-09-26T16:14:02.667166Z",
     "iopub.status.idle": "2023-09-26T16:14:02.674175Z",
     "shell.execute_reply": "2023-09-26T16:14:02.673340Z"
    },
    "papermill": {
     "duration": 0.044336,
     "end_time": "2023-09-26T16:14:02.676208",
     "exception": false,
     "start_time": "2023-09-26T16:14:02.631872",
     "status": "completed"
    },
    "tags": []
   },
   "outputs": [],
   "source": [
    "df2 = pd.concat([df1,d],axis = 1)"
   ]
  },
  {
   "cell_type": "code",
   "execution_count": 55,
   "id": "87c77a10",
   "metadata": {
    "execution": {
     "iopub.execute_input": "2023-09-26T16:14:02.747697Z",
     "iopub.status.busy": "2023-09-26T16:14:02.746601Z",
     "iopub.status.idle": "2023-09-26T16:14:02.777754Z",
     "shell.execute_reply": "2023-09-26T16:14:02.776907Z"
    },
    "papermill": {
     "duration": 0.068491,
     "end_time": "2023-09-26T16:14:02.779797",
     "exception": false,
     "start_time": "2023-09-26T16:14:02.711306",
     "status": "completed"
    },
    "tags": []
   },
   "outputs": [
    {
     "data": {
      "text/html": [
       "<div>\n",
       "<style scoped>\n",
       "    .dataframe tbody tr th:only-of-type {\n",
       "        vertical-align: middle;\n",
       "    }\n",
       "\n",
       "    .dataframe tbody tr th {\n",
       "        vertical-align: top;\n",
       "    }\n",
       "\n",
       "    .dataframe thead th {\n",
       "        text-align: right;\n",
       "    }\n",
       "</style>\n",
       "<table border=\"1\" class=\"dataframe\">\n",
       "  <thead>\n",
       "    <tr style=\"text-align: right;\">\n",
       "      <th></th>\n",
       "      <th>Attachments</th>\n",
       "      <th>Link Count</th>\n",
       "      <th>Word Count</th>\n",
       "      <th>Uppercase Count</th>\n",
       "      <th>Exclamation Count</th>\n",
       "      <th>Question Count</th>\n",
       "      <th>Dollar Count</th>\n",
       "      <th>Punctuation Count</th>\n",
       "      <th>HTML Tags Count</th>\n",
       "      <th>Spam Indicator</th>\n",
       "      <th>...</th>\n",
       "      <th>suggest</th>\n",
       "      <th>thing</th>\n",
       "      <th>today</th>\n",
       "      <th>town</th>\n",
       "      <th>traditional</th>\n",
       "      <th>try</th>\n",
       "      <th>want</th>\n",
       "      <th>way</th>\n",
       "      <th>western</th>\n",
       "      <th>wonder</th>\n",
       "    </tr>\n",
       "  </thead>\n",
       "  <tbody>\n",
       "    <tr>\n",
       "      <th>0</th>\n",
       "      <td>3</td>\n",
       "      <td>0</td>\n",
       "      <td>191</td>\n",
       "      <td>32</td>\n",
       "      <td>3</td>\n",
       "      <td>3</td>\n",
       "      <td>0</td>\n",
       "      <td>11</td>\n",
       "      <td>1</td>\n",
       "      <td>1</td>\n",
       "      <td>...</td>\n",
       "      <td>0.0</td>\n",
       "      <td>0.0</td>\n",
       "      <td>0.0</td>\n",
       "      <td>0.0</td>\n",
       "      <td>0.0</td>\n",
       "      <td>0.000000</td>\n",
       "      <td>0.0</td>\n",
       "      <td>0.0</td>\n",
       "      <td>0.0</td>\n",
       "      <td>0.0</td>\n",
       "    </tr>\n",
       "    <tr>\n",
       "      <th>1</th>\n",
       "      <td>3</td>\n",
       "      <td>9</td>\n",
       "      <td>45</td>\n",
       "      <td>1</td>\n",
       "      <td>2</td>\n",
       "      <td>1</td>\n",
       "      <td>2</td>\n",
       "      <td>8</td>\n",
       "      <td>2</td>\n",
       "      <td>1</td>\n",
       "      <td>...</td>\n",
       "      <td>0.0</td>\n",
       "      <td>0.0</td>\n",
       "      <td>0.0</td>\n",
       "      <td>0.0</td>\n",
       "      <td>0.0</td>\n",
       "      <td>0.436345</td>\n",
       "      <td>0.0</td>\n",
       "      <td>0.0</td>\n",
       "      <td>0.0</td>\n",
       "      <td>0.0</td>\n",
       "    </tr>\n",
       "    <tr>\n",
       "      <th>2</th>\n",
       "      <td>3</td>\n",
       "      <td>9</td>\n",
       "      <td>52</td>\n",
       "      <td>1</td>\n",
       "      <td>4</td>\n",
       "      <td>0</td>\n",
       "      <td>2</td>\n",
       "      <td>10</td>\n",
       "      <td>1</td>\n",
       "      <td>1</td>\n",
       "      <td>...</td>\n",
       "      <td>0.0</td>\n",
       "      <td>0.0</td>\n",
       "      <td>0.0</td>\n",
       "      <td>0.0</td>\n",
       "      <td>0.0</td>\n",
       "      <td>0.000000</td>\n",
       "      <td>0.0</td>\n",
       "      <td>0.0</td>\n",
       "      <td>0.0</td>\n",
       "      <td>0.0</td>\n",
       "    </tr>\n",
       "    <tr>\n",
       "      <th>3</th>\n",
       "      <td>2</td>\n",
       "      <td>3</td>\n",
       "      <td>75</td>\n",
       "      <td>6</td>\n",
       "      <td>0</td>\n",
       "      <td>2</td>\n",
       "      <td>0</td>\n",
       "      <td>8</td>\n",
       "      <td>2</td>\n",
       "      <td>0</td>\n",
       "      <td>...</td>\n",
       "      <td>0.0</td>\n",
       "      <td>0.0</td>\n",
       "      <td>0.0</td>\n",
       "      <td>0.0</td>\n",
       "      <td>0.0</td>\n",
       "      <td>0.000000</td>\n",
       "      <td>0.0</td>\n",
       "      <td>0.0</td>\n",
       "      <td>0.0</td>\n",
       "      <td>0.0</td>\n",
       "    </tr>\n",
       "    <tr>\n",
       "      <th>4</th>\n",
       "      <td>3</td>\n",
       "      <td>5</td>\n",
       "      <td>299</td>\n",
       "      <td>279</td>\n",
       "      <td>0</td>\n",
       "      <td>2</td>\n",
       "      <td>0</td>\n",
       "      <td>6</td>\n",
       "      <td>1</td>\n",
       "      <td>1</td>\n",
       "      <td>...</td>\n",
       "      <td>0.0</td>\n",
       "      <td>0.0</td>\n",
       "      <td>0.0</td>\n",
       "      <td>0.0</td>\n",
       "      <td>0.0</td>\n",
       "      <td>0.000000</td>\n",
       "      <td>0.0</td>\n",
       "      <td>0.0</td>\n",
       "      <td>0.0</td>\n",
       "      <td>0.0</td>\n",
       "    </tr>\n",
       "    <tr>\n",
       "      <th>...</th>\n",
       "      <td>...</td>\n",
       "      <td>...</td>\n",
       "      <td>...</td>\n",
       "      <td>...</td>\n",
       "      <td>...</td>\n",
       "      <td>...</td>\n",
       "      <td>...</td>\n",
       "      <td>...</td>\n",
       "      <td>...</td>\n",
       "      <td>...</td>\n",
       "      <td>...</td>\n",
       "      <td>...</td>\n",
       "      <td>...</td>\n",
       "      <td>...</td>\n",
       "      <td>...</td>\n",
       "      <td>...</td>\n",
       "      <td>...</td>\n",
       "      <td>...</td>\n",
       "      <td>...</td>\n",
       "      <td>...</td>\n",
       "      <td>...</td>\n",
       "    </tr>\n",
       "    <tr>\n",
       "      <th>5995</th>\n",
       "      <td>1</td>\n",
       "      <td>7</td>\n",
       "      <td>114</td>\n",
       "      <td>83</td>\n",
       "      <td>0</td>\n",
       "      <td>3</td>\n",
       "      <td>2</td>\n",
       "      <td>0</td>\n",
       "      <td>5</td>\n",
       "      <td>0</td>\n",
       "      <td>...</td>\n",
       "      <td>0.0</td>\n",
       "      <td>0.0</td>\n",
       "      <td>0.0</td>\n",
       "      <td>0.0</td>\n",
       "      <td>0.0</td>\n",
       "      <td>0.000000</td>\n",
       "      <td>0.0</td>\n",
       "      <td>0.0</td>\n",
       "      <td>0.0</td>\n",
       "      <td>0.0</td>\n",
       "    </tr>\n",
       "    <tr>\n",
       "      <th>5996</th>\n",
       "      <td>1</td>\n",
       "      <td>5</td>\n",
       "      <td>19</td>\n",
       "      <td>10</td>\n",
       "      <td>0</td>\n",
       "      <td>0</td>\n",
       "      <td>1</td>\n",
       "      <td>7</td>\n",
       "      <td>0</td>\n",
       "      <td>0</td>\n",
       "      <td>...</td>\n",
       "      <td>0.0</td>\n",
       "      <td>0.0</td>\n",
       "      <td>0.0</td>\n",
       "      <td>0.0</td>\n",
       "      <td>0.0</td>\n",
       "      <td>0.427914</td>\n",
       "      <td>0.0</td>\n",
       "      <td>0.0</td>\n",
       "      <td>0.0</td>\n",
       "      <td>0.0</td>\n",
       "    </tr>\n",
       "    <tr>\n",
       "      <th>5997</th>\n",
       "      <td>2</td>\n",
       "      <td>10</td>\n",
       "      <td>52</td>\n",
       "      <td>45</td>\n",
       "      <td>5</td>\n",
       "      <td>3</td>\n",
       "      <td>0</td>\n",
       "      <td>10</td>\n",
       "      <td>4</td>\n",
       "      <td>0</td>\n",
       "      <td>...</td>\n",
       "      <td>0.0</td>\n",
       "      <td>0.0</td>\n",
       "      <td>0.0</td>\n",
       "      <td>0.0</td>\n",
       "      <td>0.0</td>\n",
       "      <td>0.000000</td>\n",
       "      <td>0.0</td>\n",
       "      <td>0.0</td>\n",
       "      <td>0.0</td>\n",
       "      <td>0.0</td>\n",
       "    </tr>\n",
       "    <tr>\n",
       "      <th>5998</th>\n",
       "      <td>3</td>\n",
       "      <td>2</td>\n",
       "      <td>178</td>\n",
       "      <td>76</td>\n",
       "      <td>0</td>\n",
       "      <td>1</td>\n",
       "      <td>2</td>\n",
       "      <td>11</td>\n",
       "      <td>1</td>\n",
       "      <td>1</td>\n",
       "      <td>...</td>\n",
       "      <td>0.0</td>\n",
       "      <td>0.0</td>\n",
       "      <td>0.0</td>\n",
       "      <td>0.0</td>\n",
       "      <td>0.0</td>\n",
       "      <td>0.000000</td>\n",
       "      <td>0.0</td>\n",
       "      <td>0.0</td>\n",
       "      <td>0.0</td>\n",
       "      <td>0.0</td>\n",
       "    </tr>\n",
       "    <tr>\n",
       "      <th>5999</th>\n",
       "      <td>0</td>\n",
       "      <td>6</td>\n",
       "      <td>218</td>\n",
       "      <td>130</td>\n",
       "      <td>3</td>\n",
       "      <td>0</td>\n",
       "      <td>0</td>\n",
       "      <td>11</td>\n",
       "      <td>2</td>\n",
       "      <td>1</td>\n",
       "      <td>...</td>\n",
       "      <td>0.0</td>\n",
       "      <td>0.0</td>\n",
       "      <td>0.0</td>\n",
       "      <td>0.0</td>\n",
       "      <td>0.0</td>\n",
       "      <td>0.430626</td>\n",
       "      <td>0.0</td>\n",
       "      <td>0.0</td>\n",
       "      <td>0.0</td>\n",
       "      <td>0.0</td>\n",
       "    </tr>\n",
       "  </tbody>\n",
       "</table>\n",
       "<p>6000 rows × 84 columns</p>\n",
       "</div>"
      ],
      "text/plain": [
       "      Attachments  Link Count  Word Count  Uppercase Count  Exclamation Count  \\\n",
       "0               3           0         191               32                  3   \n",
       "1               3           9          45                1                  2   \n",
       "2               3           9          52                1                  4   \n",
       "3               2           3          75                6                  0   \n",
       "4               3           5         299              279                  0   \n",
       "...           ...         ...         ...              ...                ...   \n",
       "5995            1           7         114               83                  0   \n",
       "5996            1           5          19               10                  0   \n",
       "5997            2          10          52               45                  5   \n",
       "5998            3           2         178               76                  0   \n",
       "5999            0           6         218              130                  3   \n",
       "\n",
       "      Question Count  Dollar Count  Punctuation Count  HTML Tags Count  \\\n",
       "0                  3             0                 11                1   \n",
       "1                  1             2                  8                2   \n",
       "2                  0             2                 10                1   \n",
       "3                  2             0                  8                2   \n",
       "4                  2             0                  6                1   \n",
       "...              ...           ...                ...              ...   \n",
       "5995               3             2                  0                5   \n",
       "5996               0             1                  7                0   \n",
       "5997               3             0                 10                4   \n",
       "5998               1             2                 11                1   \n",
       "5999               0             0                 11                2   \n",
       "\n",
       "      Spam Indicator  ...  suggest  thing  today  town  traditional       try  \\\n",
       "0                  1  ...      0.0    0.0    0.0   0.0          0.0  0.000000   \n",
       "1                  1  ...      0.0    0.0    0.0   0.0          0.0  0.436345   \n",
       "2                  1  ...      0.0    0.0    0.0   0.0          0.0  0.000000   \n",
       "3                  0  ...      0.0    0.0    0.0   0.0          0.0  0.000000   \n",
       "4                  1  ...      0.0    0.0    0.0   0.0          0.0  0.000000   \n",
       "...              ...  ...      ...    ...    ...   ...          ...       ...   \n",
       "5995               0  ...      0.0    0.0    0.0   0.0          0.0  0.000000   \n",
       "5996               0  ...      0.0    0.0    0.0   0.0          0.0  0.427914   \n",
       "5997               0  ...      0.0    0.0    0.0   0.0          0.0  0.000000   \n",
       "5998               1  ...      0.0    0.0    0.0   0.0          0.0  0.000000   \n",
       "5999               1  ...      0.0    0.0    0.0   0.0          0.0  0.430626   \n",
       "\n",
       "      want  way  western  wonder  \n",
       "0      0.0  0.0      0.0     0.0  \n",
       "1      0.0  0.0      0.0     0.0  \n",
       "2      0.0  0.0      0.0     0.0  \n",
       "3      0.0  0.0      0.0     0.0  \n",
       "4      0.0  0.0      0.0     0.0  \n",
       "...    ...  ...      ...     ...  \n",
       "5995   0.0  0.0      0.0     0.0  \n",
       "5996   0.0  0.0      0.0     0.0  \n",
       "5997   0.0  0.0      0.0     0.0  \n",
       "5998   0.0  0.0      0.0     0.0  \n",
       "5999   0.0  0.0      0.0     0.0  \n",
       "\n",
       "[6000 rows x 84 columns]"
      ]
     },
     "execution_count": 55,
     "metadata": {},
     "output_type": "execute_result"
    }
   ],
   "source": [
    "df2"
   ]
  },
  {
   "cell_type": "code",
   "execution_count": 56,
   "id": "b44797e6",
   "metadata": {
    "execution": {
     "iopub.execute_input": "2023-09-26T16:14:02.851419Z",
     "iopub.status.busy": "2023-09-26T16:14:02.850427Z",
     "iopub.status.idle": "2023-09-26T16:14:02.857563Z",
     "shell.execute_reply": "2023-09-26T16:14:02.856607Z"
    },
    "papermill": {
     "duration": 0.044746,
     "end_time": "2023-09-26T16:14:02.859691",
     "exception": false,
     "start_time": "2023-09-26T16:14:02.814945",
     "status": "completed"
    },
    "tags": []
   },
   "outputs": [
    {
     "data": {
      "text/plain": [
       "(6000, 84)"
      ]
     },
     "execution_count": 56,
     "metadata": {},
     "output_type": "execute_result"
    }
   ],
   "source": [
    "df2.shape"
   ]
  },
  {
   "cell_type": "code",
   "execution_count": 57,
   "id": "5f6d3c1e",
   "metadata": {
    "execution": {
     "iopub.execute_input": "2023-09-26T16:14:02.931700Z",
     "iopub.status.busy": "2023-09-26T16:14:02.931298Z",
     "iopub.status.idle": "2023-09-26T16:14:02.937285Z",
     "shell.execute_reply": "2023-09-26T16:14:02.936544Z"
    },
    "papermill": {
     "duration": 0.043754,
     "end_time": "2023-09-26T16:14:02.939046",
     "exception": false,
     "start_time": "2023-09-26T16:14:02.895292",
     "status": "completed"
    },
    "tags": []
   },
   "outputs": [
    {
     "data": {
      "text/plain": [
       "(6000, 72)"
      ]
     },
     "execution_count": 57,
     "metadata": {},
     "output_type": "execute_result"
    }
   ],
   "source": [
    "d.shape"
   ]
  },
  {
   "cell_type": "code",
   "execution_count": 58,
   "id": "1ee6c9c3",
   "metadata": {
    "execution": {
     "iopub.execute_input": "2023-09-26T16:14:03.014982Z",
     "iopub.status.busy": "2023-09-26T16:14:03.014572Z",
     "iopub.status.idle": "2023-09-26T16:14:03.047779Z",
     "shell.execute_reply": "2023-09-26T16:14:03.046668Z"
    },
    "papermill": {
     "duration": 0.075089,
     "end_time": "2023-09-26T16:14:03.049974",
     "exception": false,
     "start_time": "2023-09-26T16:14:02.974885",
     "status": "completed"
    },
    "tags": []
   },
   "outputs": [
    {
     "data": {
      "text/html": [
       "<div>\n",
       "<style scoped>\n",
       "    .dataframe tbody tr th:only-of-type {\n",
       "        vertical-align: middle;\n",
       "    }\n",
       "\n",
       "    .dataframe tbody tr th {\n",
       "        vertical-align: top;\n",
       "    }\n",
       "\n",
       "    .dataframe thead th {\n",
       "        text-align: right;\n",
       "    }\n",
       "</style>\n",
       "<table border=\"1\" class=\"dataframe\">\n",
       "  <thead>\n",
       "    <tr style=\"text-align: right;\">\n",
       "      <th></th>\n",
       "      <th>Attachments</th>\n",
       "      <th>Link Count</th>\n",
       "      <th>Word Count</th>\n",
       "      <th>Uppercase Count</th>\n",
       "      <th>Exclamation Count</th>\n",
       "      <th>Question Count</th>\n",
       "      <th>Dollar Count</th>\n",
       "      <th>Punctuation Count</th>\n",
       "      <th>HTML Tags Count</th>\n",
       "      <th>Spam Indicator</th>\n",
       "      <th>...</th>\n",
       "      <th>suggest</th>\n",
       "      <th>thing</th>\n",
       "      <th>today</th>\n",
       "      <th>town</th>\n",
       "      <th>traditional</th>\n",
       "      <th>try</th>\n",
       "      <th>want</th>\n",
       "      <th>way</th>\n",
       "      <th>western</th>\n",
       "      <th>wonder</th>\n",
       "    </tr>\n",
       "  </thead>\n",
       "  <tbody>\n",
       "    <tr>\n",
       "      <th>0</th>\n",
       "      <td>3</td>\n",
       "      <td>0</td>\n",
       "      <td>191</td>\n",
       "      <td>32</td>\n",
       "      <td>3</td>\n",
       "      <td>3</td>\n",
       "      <td>0</td>\n",
       "      <td>11</td>\n",
       "      <td>1</td>\n",
       "      <td>1</td>\n",
       "      <td>...</td>\n",
       "      <td>0.0</td>\n",
       "      <td>0.0</td>\n",
       "      <td>0.0</td>\n",
       "      <td>0.0</td>\n",
       "      <td>0.0</td>\n",
       "      <td>0.000000</td>\n",
       "      <td>0.0</td>\n",
       "      <td>0.0</td>\n",
       "      <td>0.0</td>\n",
       "      <td>0.0</td>\n",
       "    </tr>\n",
       "    <tr>\n",
       "      <th>1</th>\n",
       "      <td>3</td>\n",
       "      <td>9</td>\n",
       "      <td>45</td>\n",
       "      <td>1</td>\n",
       "      <td>2</td>\n",
       "      <td>1</td>\n",
       "      <td>2</td>\n",
       "      <td>8</td>\n",
       "      <td>2</td>\n",
       "      <td>1</td>\n",
       "      <td>...</td>\n",
       "      <td>0.0</td>\n",
       "      <td>0.0</td>\n",
       "      <td>0.0</td>\n",
       "      <td>0.0</td>\n",
       "      <td>0.0</td>\n",
       "      <td>0.436345</td>\n",
       "      <td>0.0</td>\n",
       "      <td>0.0</td>\n",
       "      <td>0.0</td>\n",
       "      <td>0.0</td>\n",
       "    </tr>\n",
       "    <tr>\n",
       "      <th>2</th>\n",
       "      <td>3</td>\n",
       "      <td>9</td>\n",
       "      <td>52</td>\n",
       "      <td>1</td>\n",
       "      <td>4</td>\n",
       "      <td>0</td>\n",
       "      <td>2</td>\n",
       "      <td>10</td>\n",
       "      <td>1</td>\n",
       "      <td>1</td>\n",
       "      <td>...</td>\n",
       "      <td>0.0</td>\n",
       "      <td>0.0</td>\n",
       "      <td>0.0</td>\n",
       "      <td>0.0</td>\n",
       "      <td>0.0</td>\n",
       "      <td>0.000000</td>\n",
       "      <td>0.0</td>\n",
       "      <td>0.0</td>\n",
       "      <td>0.0</td>\n",
       "      <td>0.0</td>\n",
       "    </tr>\n",
       "    <tr>\n",
       "      <th>3</th>\n",
       "      <td>2</td>\n",
       "      <td>3</td>\n",
       "      <td>75</td>\n",
       "      <td>6</td>\n",
       "      <td>0</td>\n",
       "      <td>2</td>\n",
       "      <td>0</td>\n",
       "      <td>8</td>\n",
       "      <td>2</td>\n",
       "      <td>0</td>\n",
       "      <td>...</td>\n",
       "      <td>0.0</td>\n",
       "      <td>0.0</td>\n",
       "      <td>0.0</td>\n",
       "      <td>0.0</td>\n",
       "      <td>0.0</td>\n",
       "      <td>0.000000</td>\n",
       "      <td>0.0</td>\n",
       "      <td>0.0</td>\n",
       "      <td>0.0</td>\n",
       "      <td>0.0</td>\n",
       "    </tr>\n",
       "    <tr>\n",
       "      <th>4</th>\n",
       "      <td>3</td>\n",
       "      <td>5</td>\n",
       "      <td>299</td>\n",
       "      <td>279</td>\n",
       "      <td>0</td>\n",
       "      <td>2</td>\n",
       "      <td>0</td>\n",
       "      <td>6</td>\n",
       "      <td>1</td>\n",
       "      <td>1</td>\n",
       "      <td>...</td>\n",
       "      <td>0.0</td>\n",
       "      <td>0.0</td>\n",
       "      <td>0.0</td>\n",
       "      <td>0.0</td>\n",
       "      <td>0.0</td>\n",
       "      <td>0.000000</td>\n",
       "      <td>0.0</td>\n",
       "      <td>0.0</td>\n",
       "      <td>0.0</td>\n",
       "      <td>0.0</td>\n",
       "    </tr>\n",
       "    <tr>\n",
       "      <th>...</th>\n",
       "      <td>...</td>\n",
       "      <td>...</td>\n",
       "      <td>...</td>\n",
       "      <td>...</td>\n",
       "      <td>...</td>\n",
       "      <td>...</td>\n",
       "      <td>...</td>\n",
       "      <td>...</td>\n",
       "      <td>...</td>\n",
       "      <td>...</td>\n",
       "      <td>...</td>\n",
       "      <td>...</td>\n",
       "      <td>...</td>\n",
       "      <td>...</td>\n",
       "      <td>...</td>\n",
       "      <td>...</td>\n",
       "      <td>...</td>\n",
       "      <td>...</td>\n",
       "      <td>...</td>\n",
       "      <td>...</td>\n",
       "      <td>...</td>\n",
       "    </tr>\n",
       "    <tr>\n",
       "      <th>5995</th>\n",
       "      <td>1</td>\n",
       "      <td>7</td>\n",
       "      <td>114</td>\n",
       "      <td>83</td>\n",
       "      <td>0</td>\n",
       "      <td>3</td>\n",
       "      <td>2</td>\n",
       "      <td>0</td>\n",
       "      <td>5</td>\n",
       "      <td>0</td>\n",
       "      <td>...</td>\n",
       "      <td>0.0</td>\n",
       "      <td>0.0</td>\n",
       "      <td>0.0</td>\n",
       "      <td>0.0</td>\n",
       "      <td>0.0</td>\n",
       "      <td>0.000000</td>\n",
       "      <td>0.0</td>\n",
       "      <td>0.0</td>\n",
       "      <td>0.0</td>\n",
       "      <td>0.0</td>\n",
       "    </tr>\n",
       "    <tr>\n",
       "      <th>5996</th>\n",
       "      <td>1</td>\n",
       "      <td>5</td>\n",
       "      <td>19</td>\n",
       "      <td>10</td>\n",
       "      <td>0</td>\n",
       "      <td>0</td>\n",
       "      <td>1</td>\n",
       "      <td>7</td>\n",
       "      <td>0</td>\n",
       "      <td>0</td>\n",
       "      <td>...</td>\n",
       "      <td>0.0</td>\n",
       "      <td>0.0</td>\n",
       "      <td>0.0</td>\n",
       "      <td>0.0</td>\n",
       "      <td>0.0</td>\n",
       "      <td>0.427914</td>\n",
       "      <td>0.0</td>\n",
       "      <td>0.0</td>\n",
       "      <td>0.0</td>\n",
       "      <td>0.0</td>\n",
       "    </tr>\n",
       "    <tr>\n",
       "      <th>5997</th>\n",
       "      <td>2</td>\n",
       "      <td>10</td>\n",
       "      <td>52</td>\n",
       "      <td>45</td>\n",
       "      <td>5</td>\n",
       "      <td>3</td>\n",
       "      <td>0</td>\n",
       "      <td>10</td>\n",
       "      <td>4</td>\n",
       "      <td>0</td>\n",
       "      <td>...</td>\n",
       "      <td>0.0</td>\n",
       "      <td>0.0</td>\n",
       "      <td>0.0</td>\n",
       "      <td>0.0</td>\n",
       "      <td>0.0</td>\n",
       "      <td>0.000000</td>\n",
       "      <td>0.0</td>\n",
       "      <td>0.0</td>\n",
       "      <td>0.0</td>\n",
       "      <td>0.0</td>\n",
       "    </tr>\n",
       "    <tr>\n",
       "      <th>5998</th>\n",
       "      <td>3</td>\n",
       "      <td>2</td>\n",
       "      <td>178</td>\n",
       "      <td>76</td>\n",
       "      <td>0</td>\n",
       "      <td>1</td>\n",
       "      <td>2</td>\n",
       "      <td>11</td>\n",
       "      <td>1</td>\n",
       "      <td>1</td>\n",
       "      <td>...</td>\n",
       "      <td>0.0</td>\n",
       "      <td>0.0</td>\n",
       "      <td>0.0</td>\n",
       "      <td>0.0</td>\n",
       "      <td>0.0</td>\n",
       "      <td>0.000000</td>\n",
       "      <td>0.0</td>\n",
       "      <td>0.0</td>\n",
       "      <td>0.0</td>\n",
       "      <td>0.0</td>\n",
       "    </tr>\n",
       "    <tr>\n",
       "      <th>5999</th>\n",
       "      <td>0</td>\n",
       "      <td>6</td>\n",
       "      <td>218</td>\n",
       "      <td>130</td>\n",
       "      <td>3</td>\n",
       "      <td>0</td>\n",
       "      <td>0</td>\n",
       "      <td>11</td>\n",
       "      <td>2</td>\n",
       "      <td>1</td>\n",
       "      <td>...</td>\n",
       "      <td>0.0</td>\n",
       "      <td>0.0</td>\n",
       "      <td>0.0</td>\n",
       "      <td>0.0</td>\n",
       "      <td>0.0</td>\n",
       "      <td>0.430626</td>\n",
       "      <td>0.0</td>\n",
       "      <td>0.0</td>\n",
       "      <td>0.0</td>\n",
       "      <td>0.0</td>\n",
       "    </tr>\n",
       "  </tbody>\n",
       "</table>\n",
       "<p>6000 rows × 84 columns</p>\n",
       "</div>"
      ],
      "text/plain": [
       "      Attachments  Link Count  Word Count  Uppercase Count  Exclamation Count  \\\n",
       "0               3           0         191               32                  3   \n",
       "1               3           9          45                1                  2   \n",
       "2               3           9          52                1                  4   \n",
       "3               2           3          75                6                  0   \n",
       "4               3           5         299              279                  0   \n",
       "...           ...         ...         ...              ...                ...   \n",
       "5995            1           7         114               83                  0   \n",
       "5996            1           5          19               10                  0   \n",
       "5997            2          10          52               45                  5   \n",
       "5998            3           2         178               76                  0   \n",
       "5999            0           6         218              130                  3   \n",
       "\n",
       "      Question Count  Dollar Count  Punctuation Count  HTML Tags Count  \\\n",
       "0                  3             0                 11                1   \n",
       "1                  1             2                  8                2   \n",
       "2                  0             2                 10                1   \n",
       "3                  2             0                  8                2   \n",
       "4                  2             0                  6                1   \n",
       "...              ...           ...                ...              ...   \n",
       "5995               3             2                  0                5   \n",
       "5996               0             1                  7                0   \n",
       "5997               3             0                 10                4   \n",
       "5998               1             2                 11                1   \n",
       "5999               0             0                 11                2   \n",
       "\n",
       "      Spam Indicator  ...  suggest  thing  today  town  traditional       try  \\\n",
       "0                  1  ...      0.0    0.0    0.0   0.0          0.0  0.000000   \n",
       "1                  1  ...      0.0    0.0    0.0   0.0          0.0  0.436345   \n",
       "2                  1  ...      0.0    0.0    0.0   0.0          0.0  0.000000   \n",
       "3                  0  ...      0.0    0.0    0.0   0.0          0.0  0.000000   \n",
       "4                  1  ...      0.0    0.0    0.0   0.0          0.0  0.000000   \n",
       "...              ...  ...      ...    ...    ...   ...          ...       ...   \n",
       "5995               0  ...      0.0    0.0    0.0   0.0          0.0  0.000000   \n",
       "5996               0  ...      0.0    0.0    0.0   0.0          0.0  0.427914   \n",
       "5997               0  ...      0.0    0.0    0.0   0.0          0.0  0.000000   \n",
       "5998               1  ...      0.0    0.0    0.0   0.0          0.0  0.000000   \n",
       "5999               1  ...      0.0    0.0    0.0   0.0          0.0  0.430626   \n",
       "\n",
       "      want  way  western  wonder  \n",
       "0      0.0  0.0      0.0     0.0  \n",
       "1      0.0  0.0      0.0     0.0  \n",
       "2      0.0  0.0      0.0     0.0  \n",
       "3      0.0  0.0      0.0     0.0  \n",
       "4      0.0  0.0      0.0     0.0  \n",
       "...    ...  ...      ...     ...  \n",
       "5995   0.0  0.0      0.0     0.0  \n",
       "5996   0.0  0.0      0.0     0.0  \n",
       "5997   0.0  0.0      0.0     0.0  \n",
       "5998   0.0  0.0      0.0     0.0  \n",
       "5999   0.0  0.0      0.0     0.0  \n",
       "\n",
       "[6000 rows x 84 columns]"
      ]
     },
     "execution_count": 58,
     "metadata": {},
     "output_type": "execute_result"
    }
   ],
   "source": [
    "df2"
   ]
  },
  {
   "cell_type": "code",
   "execution_count": 59,
   "id": "ba7b52eb",
   "metadata": {
    "execution": {
     "iopub.execute_input": "2023-09-26T16:14:03.123123Z",
     "iopub.status.busy": "2023-09-26T16:14:03.122744Z",
     "iopub.status.idle": "2023-09-26T16:14:03.129803Z",
     "shell.execute_reply": "2023-09-26T16:14:03.128609Z"
    },
    "papermill": {
     "duration": 0.046065,
     "end_time": "2023-09-26T16:14:03.132028",
     "exception": false,
     "start_time": "2023-09-26T16:14:03.085963",
     "status": "completed"
    },
    "tags": []
   },
   "outputs": [],
   "source": [
    "X = df2.drop('Spam Indicator',axis = 1)\n",
    "y = df2['Spam Indicator']"
   ]
  },
  {
   "cell_type": "code",
   "execution_count": 60,
   "id": "ebf5ec8e",
   "metadata": {
    "execution": {
     "iopub.execute_input": "2023-09-26T16:14:03.202984Z",
     "iopub.status.busy": "2023-09-26T16:14:03.202612Z",
     "iopub.status.idle": "2023-09-26T16:14:03.313135Z",
     "shell.execute_reply": "2023-09-26T16:14:03.311949Z"
    },
    "papermill": {
     "duration": 0.149153,
     "end_time": "2023-09-26T16:14:03.315838",
     "exception": false,
     "start_time": "2023-09-26T16:14:03.166685",
     "status": "completed"
    },
    "tags": []
   },
   "outputs": [],
   "source": [
    "from sklearn.model_selection import train_test_split\n",
    "X_train,X_test,y_train,y_test = train_test_split(X,y,test_size = 0.25,random_state = 2)"
   ]
  },
  {
   "cell_type": "code",
   "execution_count": 61,
   "id": "56db5871",
   "metadata": {
    "execution": {
     "iopub.execute_input": "2023-09-26T16:14:03.387348Z",
     "iopub.status.busy": "2023-09-26T16:14:03.386944Z",
     "iopub.status.idle": "2023-09-26T16:14:03.607180Z",
     "shell.execute_reply": "2023-09-26T16:14:03.606085Z"
    },
    "papermill": {
     "duration": 0.259053,
     "end_time": "2023-09-26T16:14:03.609928",
     "exception": false,
     "start_time": "2023-09-26T16:14:03.350875",
     "status": "completed"
    },
    "tags": []
   },
   "outputs": [
    {
     "data": {
      "text/html": [
       "<style>#sk-container-id-1 {color: black;background-color: white;}#sk-container-id-1 pre{padding: 0;}#sk-container-id-1 div.sk-toggleable {background-color: white;}#sk-container-id-1 label.sk-toggleable__label {cursor: pointer;display: block;width: 100%;margin-bottom: 0;padding: 0.3em;box-sizing: border-box;text-align: center;}#sk-container-id-1 label.sk-toggleable__label-arrow:before {content: \"▸\";float: left;margin-right: 0.25em;color: #696969;}#sk-container-id-1 label.sk-toggleable__label-arrow:hover:before {color: black;}#sk-container-id-1 div.sk-estimator:hover label.sk-toggleable__label-arrow:before {color: black;}#sk-container-id-1 div.sk-toggleable__content {max-height: 0;max-width: 0;overflow: hidden;text-align: left;background-color: #f0f8ff;}#sk-container-id-1 div.sk-toggleable__content pre {margin: 0.2em;color: black;border-radius: 0.25em;background-color: #f0f8ff;}#sk-container-id-1 input.sk-toggleable__control:checked~div.sk-toggleable__content {max-height: 200px;max-width: 100%;overflow: auto;}#sk-container-id-1 input.sk-toggleable__control:checked~label.sk-toggleable__label-arrow:before {content: \"▾\";}#sk-container-id-1 div.sk-estimator input.sk-toggleable__control:checked~label.sk-toggleable__label {background-color: #d4ebff;}#sk-container-id-1 div.sk-label input.sk-toggleable__control:checked~label.sk-toggleable__label {background-color: #d4ebff;}#sk-container-id-1 input.sk-hidden--visually {border: 0;clip: rect(1px 1px 1px 1px);clip: rect(1px, 1px, 1px, 1px);height: 1px;margin: -1px;overflow: hidden;padding: 0;position: absolute;width: 1px;}#sk-container-id-1 div.sk-estimator {font-family: monospace;background-color: #f0f8ff;border: 1px dotted black;border-radius: 0.25em;box-sizing: border-box;margin-bottom: 0.5em;}#sk-container-id-1 div.sk-estimator:hover {background-color: #d4ebff;}#sk-container-id-1 div.sk-parallel-item::after {content: \"\";width: 100%;border-bottom: 1px solid gray;flex-grow: 1;}#sk-container-id-1 div.sk-label:hover label.sk-toggleable__label {background-color: #d4ebff;}#sk-container-id-1 div.sk-serial::before {content: \"\";position: absolute;border-left: 1px solid gray;box-sizing: border-box;top: 0;bottom: 0;left: 50%;z-index: 0;}#sk-container-id-1 div.sk-serial {display: flex;flex-direction: column;align-items: center;background-color: white;padding-right: 0.2em;padding-left: 0.2em;position: relative;}#sk-container-id-1 div.sk-item {position: relative;z-index: 1;}#sk-container-id-1 div.sk-parallel {display: flex;align-items: stretch;justify-content: center;background-color: white;position: relative;}#sk-container-id-1 div.sk-item::before, #sk-container-id-1 div.sk-parallel-item::before {content: \"\";position: absolute;border-left: 1px solid gray;box-sizing: border-box;top: 0;bottom: 0;left: 50%;z-index: -1;}#sk-container-id-1 div.sk-parallel-item {display: flex;flex-direction: column;z-index: 1;position: relative;background-color: white;}#sk-container-id-1 div.sk-parallel-item:first-child::after {align-self: flex-end;width: 50%;}#sk-container-id-1 div.sk-parallel-item:last-child::after {align-self: flex-start;width: 50%;}#sk-container-id-1 div.sk-parallel-item:only-child::after {width: 0;}#sk-container-id-1 div.sk-dashed-wrapped {border: 1px dashed gray;margin: 0 0.4em 0.5em 0.4em;box-sizing: border-box;padding-bottom: 0.4em;background-color: white;}#sk-container-id-1 div.sk-label label {font-family: monospace;font-weight: bold;display: inline-block;line-height: 1.2em;}#sk-container-id-1 div.sk-label-container {text-align: center;}#sk-container-id-1 div.sk-container {/* jupyter's `normalize.less` sets `[hidden] { display: none; }` but bootstrap.min.css set `[hidden] { display: none !important; }` so we also need the `!important` here to be able to override the default hidden behavior on the sphinx rendered scikit-learn.org. See: https://github.com/scikit-learn/scikit-learn/issues/21755 */display: inline-block !important;position: relative;}#sk-container-id-1 div.sk-text-repr-fallback {display: none;}</style><div id=\"sk-container-id-1\" class=\"sk-top-container\"><div class=\"sk-text-repr-fallback\"><pre>LogisticRegression()</pre><b>In a Jupyter environment, please rerun this cell to show the HTML representation or trust the notebook. <br />On GitHub, the HTML representation is unable to render, please try loading this page with nbviewer.org.</b></div><div class=\"sk-container\" hidden><div class=\"sk-item\"><div class=\"sk-estimator sk-toggleable\"><input class=\"sk-toggleable__control sk-hidden--visually\" id=\"sk-estimator-id-1\" type=\"checkbox\" checked><label for=\"sk-estimator-id-1\" class=\"sk-toggleable__label sk-toggleable__label-arrow\">LogisticRegression</label><div class=\"sk-toggleable__content\"><pre>LogisticRegression()</pre></div></div></div></div></div>"
      ],
      "text/plain": [
       "LogisticRegression()"
      ]
     },
     "execution_count": 61,
     "metadata": {},
     "output_type": "execute_result"
    }
   ],
   "source": [
    "from sklearn.linear_model import LogisticRegression \n",
    "from sklearn.metrics import accuracy_score\n",
    "log = LogisticRegression()\n",
    "log.fit(X_train,y_train)"
   ]
  },
  {
   "cell_type": "code",
   "execution_count": 62,
   "id": "72c30790",
   "metadata": {
    "execution": {
     "iopub.execute_input": "2023-09-26T16:14:03.727413Z",
     "iopub.status.busy": "2023-09-26T16:14:03.726880Z",
     "iopub.status.idle": "2023-09-26T16:14:03.741478Z",
     "shell.execute_reply": "2023-09-26T16:14:03.740258Z"
    },
    "papermill": {
     "duration": 0.073591,
     "end_time": "2023-09-26T16:14:03.744463",
     "exception": false,
     "start_time": "2023-09-26T16:14:03.670872",
     "status": "completed"
    },
    "tags": []
   },
   "outputs": [
    {
     "data": {
      "text/plain": [
       "53.11111111111111"
      ]
     },
     "execution_count": 62,
     "metadata": {},
     "output_type": "execute_result"
    }
   ],
   "source": [
    "log.score(X_train,y_train)*100"
   ]
  },
  {
   "cell_type": "code",
   "execution_count": 63,
   "id": "73bb7045",
   "metadata": {
    "execution": {
     "iopub.execute_input": "2023-09-26T16:14:03.864587Z",
     "iopub.status.busy": "2023-09-26T16:14:03.864189Z",
     "iopub.status.idle": "2023-09-26T16:14:03.873014Z",
     "shell.execute_reply": "2023-09-26T16:14:03.871899Z"
    },
    "papermill": {
     "duration": 0.069738,
     "end_time": "2023-09-26T16:14:03.875864",
     "exception": false,
     "start_time": "2023-09-26T16:14:03.806126",
     "status": "completed"
    },
    "tags": []
   },
   "outputs": [],
   "source": [
    "pred = log.predict(X_test)"
   ]
  },
  {
   "cell_type": "code",
   "execution_count": 64,
   "id": "39326332",
   "metadata": {
    "execution": {
     "iopub.execute_input": "2023-09-26T16:14:03.997419Z",
     "iopub.status.busy": "2023-09-26T16:14:03.997046Z",
     "iopub.status.idle": "2023-09-26T16:14:04.010896Z",
     "shell.execute_reply": "2023-09-26T16:14:04.009720Z"
    },
    "papermill": {
     "duration": 0.077859,
     "end_time": "2023-09-26T16:14:04.014932",
     "exception": false,
     "start_time": "2023-09-26T16:14:03.937073",
     "status": "completed"
    },
    "tags": []
   },
   "outputs": [
    {
     "data": {
      "text/plain": [
       "48.53333333333333"
      ]
     },
     "execution_count": 64,
     "metadata": {},
     "output_type": "execute_result"
    }
   ],
   "source": [
    "log.score(X_test,y_test)*100"
   ]
  },
  {
   "cell_type": "code",
   "execution_count": 65,
   "id": "75321029",
   "metadata": {
    "execution": {
     "iopub.execute_input": "2023-09-26T16:14:04.134770Z",
     "iopub.status.busy": "2023-09-26T16:14:04.134357Z",
     "iopub.status.idle": "2023-09-26T16:14:04.143369Z",
     "shell.execute_reply": "2023-09-26T16:14:04.142556Z"
    },
    "papermill": {
     "duration": 0.06816,
     "end_time": "2023-09-26T16:14:04.145484",
     "exception": false,
     "start_time": "2023-09-26T16:14:04.077324",
     "status": "completed"
    },
    "tags": []
   },
   "outputs": [
    {
     "data": {
      "text/plain": [
       "array([[415, 331],\n",
       "       [441, 313]])"
      ]
     },
     "execution_count": 65,
     "metadata": {},
     "output_type": "execute_result"
    }
   ],
   "source": [
    "from sklearn.metrics import confusion_matrix, classification_report\n",
    "cm = confusion_matrix(y_test, pred)\n",
    "cm"
   ]
  },
  {
   "cell_type": "markdown",
   "id": "61679bcc",
   "metadata": {
    "papermill": {
     "duration": 0.035341,
     "end_time": "2023-09-26T16:14:04.217109",
     "exception": false,
     "start_time": "2023-09-26T16:14:04.181768",
     "status": "completed"
    },
    "tags": []
   },
   "source": [
    "# using word2vec"
   ]
  },
  {
   "cell_type": "code",
   "execution_count": 66,
   "id": "3fa0451c",
   "metadata": {
    "execution": {
     "iopub.execute_input": "2023-09-26T16:14:04.290516Z",
     "iopub.status.busy": "2023-09-26T16:14:04.290138Z",
     "iopub.status.idle": "2023-09-26T16:14:04.327344Z",
     "shell.execute_reply": "2023-09-26T16:14:04.326279Z"
    },
    "papermill": {
     "duration": 0.076758,
     "end_time": "2023-09-26T16:14:04.329724",
     "exception": false,
     "start_time": "2023-09-26T16:14:04.252966",
     "status": "completed"
    },
    "tags": []
   },
   "outputs": [
    {
     "data": {
      "text/html": [
       "<div>\n",
       "<style scoped>\n",
       "    .dataframe tbody tr th:only-of-type {\n",
       "        vertical-align: middle;\n",
       "    }\n",
       "\n",
       "    .dataframe tbody tr th {\n",
       "        vertical-align: top;\n",
       "    }\n",
       "\n",
       "    .dataframe thead th {\n",
       "        text-align: right;\n",
       "    }\n",
       "</style>\n",
       "<table border=\"1\" class=\"dataframe\">\n",
       "  <thead>\n",
       "    <tr style=\"text-align: right;\">\n",
       "      <th></th>\n",
       "      <th>Email</th>\n",
       "      <th>Subject</th>\n",
       "      <th>Sender</th>\n",
       "      <th>Recipient</th>\n",
       "      <th>Date</th>\n",
       "      <th>Time</th>\n",
       "      <th>Attachments</th>\n",
       "      <th>Link Count</th>\n",
       "      <th>Word Count</th>\n",
       "      <th>Uppercase Count</th>\n",
       "      <th>Exclamation Count</th>\n",
       "      <th>Question Count</th>\n",
       "      <th>Dollar Count</th>\n",
       "      <th>Punctuation Count</th>\n",
       "      <th>HTML Tags Count</th>\n",
       "      <th>Spam Indicator</th>\n",
       "    </tr>\n",
       "  </thead>\n",
       "  <tbody>\n",
       "    <tr>\n",
       "      <th>0</th>\n",
       "      <td>mikerusso@example.net</td>\n",
       "      <td>Even hotel community church.</td>\n",
       "      <td>emilyscott@example.org</td>\n",
       "      <td>gregorysmith@example.org</td>\n",
       "      <td>13-02-2023</td>\n",
       "      <td>04:13</td>\n",
       "      <td>3</td>\n",
       "      <td>0</td>\n",
       "      <td>191</td>\n",
       "      <td>32</td>\n",
       "      <td>3</td>\n",
       "      <td>3</td>\n",
       "      <td>0</td>\n",
       "      <td>11</td>\n",
       "      <td>1</td>\n",
       "      <td>1</td>\n",
       "    </tr>\n",
       "    <tr>\n",
       "      <th>1</th>\n",
       "      <td>waynebailey@example.org</td>\n",
       "      <td>Try themselves guess fight white agreement thu...</td>\n",
       "      <td>annwhite@example.net</td>\n",
       "      <td>gonzalezdaniel@example.net</td>\n",
       "      <td>09-08-2023</td>\n",
       "      <td>06:15</td>\n",
       "      <td>3</td>\n",
       "      <td>9</td>\n",
       "      <td>45</td>\n",
       "      <td>1</td>\n",
       "      <td>2</td>\n",
       "      <td>1</td>\n",
       "      <td>2</td>\n",
       "      <td>8</td>\n",
       "      <td>2</td>\n",
       "      <td>1</td>\n",
       "    </tr>\n",
       "  </tbody>\n",
       "</table>\n",
       "</div>"
      ],
      "text/plain": [
       "                     Email                                            Subject  \\\n",
       "0    mikerusso@example.net                       Even hotel community church.   \n",
       "1  waynebailey@example.org  Try themselves guess fight white agreement thu...   \n",
       "\n",
       "                   Sender                   Recipient        Date   Time  \\\n",
       "0  emilyscott@example.org    gregorysmith@example.org  13-02-2023  04:13   \n",
       "1    annwhite@example.net  gonzalezdaniel@example.net  09-08-2023  06:15   \n",
       "\n",
       "   Attachments  Link Count  Word Count  Uppercase Count  Exclamation Count  \\\n",
       "0            3           0         191               32                  3   \n",
       "1            3           9          45                1                  2   \n",
       "\n",
       "   Question Count  Dollar Count  Punctuation Count  HTML Tags Count  \\\n",
       "0               3             0                 11                1   \n",
       "1               1             2                  8                2   \n",
       "\n",
       "   Spam Indicator  \n",
       "0               1  \n",
       "1               1  "
      ]
     },
     "execution_count": 66,
     "metadata": {},
     "output_type": "execute_result"
    }
   ],
   "source": [
    "df = pd.read_csv('/kaggle/input/spam-email-dataset/spam_email_dataset.csv')\n",
    "df.head(2)"
   ]
  },
  {
   "cell_type": "code",
   "execution_count": 67,
   "id": "02d10ff2",
   "metadata": {
    "execution": {
     "iopub.execute_input": "2023-09-26T16:14:04.403415Z",
     "iopub.status.busy": "2023-09-26T16:14:04.403054Z",
     "iopub.status.idle": "2023-09-26T16:14:05.272849Z",
     "shell.execute_reply": "2023-09-26T16:14:05.271365Z"
    },
    "papermill": {
     "duration": 0.909196,
     "end_time": "2023-09-26T16:14:05.275061",
     "exception": false,
     "start_time": "2023-09-26T16:14:04.365865",
     "status": "completed"
    },
    "tags": []
   },
   "outputs": [
    {
     "name": "stdout",
     "output_type": "stream",
     "text": [
      "[nltk_data] Downloading package stopwords to /usr/share/nltk_data...\n",
      "[nltk_data]   Package stopwords is already up-to-date!\n"
     ]
    }
   ],
   "source": [
    "# import contractions\n",
    "# #contractions is the package in python used to expand the contractions in english language to their original form. Example: I'll to \"I will\"\n",
    "import nltk\n",
    "#nltk is a suite of libraries that are mainly used for dealing with problems related to Natural language processing.\n",
    "import re\n",
    "nltk.download('stopwords')\n",
    "from nltk.corpus import stopwords\n",
    "#donwloadin the stopwords of english language\n",
    "stopwords=stopwords.words('english')\n",
    "#Removing stopwords 'no','nor' and 'not'\n",
    "stopwords.remove('no')\n",
    "stopwords.remove('nor')\n",
    "stopwords.remove('not')"
   ]
  },
  {
   "cell_type": "code",
   "execution_count": 68,
   "id": "4145b703",
   "metadata": {
    "execution": {
     "iopub.execute_input": "2023-09-26T16:14:05.351249Z",
     "iopub.status.busy": "2023-09-26T16:14:05.350559Z",
     "iopub.status.idle": "2023-09-26T16:14:05.483166Z",
     "shell.execute_reply": "2023-09-26T16:14:05.482003Z"
    },
    "papermill": {
     "duration": 0.174464,
     "end_time": "2023-09-26T16:14:05.485809",
     "exception": false,
     "start_time": "2023-09-26T16:14:05.311345",
     "status": "completed"
    },
    "tags": []
   },
   "outputs": [],
   "source": [
    "processed_mails=[]\n",
    "for i in (df['Subject']):\n",
    "    #Regular expression that removes all the html tags pressent in the reviews\n",
    "    i=re.sub('(<[\\w\\s]*/?>)',\"\",i)\n",
    "    #Expanding all the contractions present in the review to is respective actual form\n",
    "    #i=contractions.fix(i)\n",
    "    #Removing all the special charactesrs from the review text\n",
    "    i=re.sub('[^a-zA-Z0-9\\s]+',\"\",i)\n",
    "    #Removing all the digits present in the review text\n",
    "    i=re.sub('\\d+',\"\",i)\n",
    "    #Making all the review text to be of lower case as well as removing the stopwords and words of length less than 3\n",
    "    processed_mails.append(\" \".join([j.lower() for j in i.split() if j not in stopwords and len(j)>=3]))"
   ]
  },
  {
   "cell_type": "code",
   "execution_count": 69,
   "id": "91baa359",
   "metadata": {
    "execution": {
     "iopub.execute_input": "2023-09-26T16:14:05.563030Z",
     "iopub.status.busy": "2023-09-26T16:14:05.562349Z",
     "iopub.status.idle": "2023-09-26T16:14:05.569391Z",
     "shell.execute_reply": "2023-09-26T16:14:05.568667Z"
    },
    "papermill": {
     "duration": 0.048884,
     "end_time": "2023-09-26T16:14:05.571590",
     "exception": false,
     "start_time": "2023-09-26T16:14:05.522706",
     "status": "completed"
    },
    "tags": []
   },
   "outputs": [
    {
     "name": "stdout",
     "output_type": "stream",
     "text": [
      "without tokenization \n",
      "\n",
      "Environmental commercial off seem any conference.\n",
      "\n",
      "\n",
      " after tokenization \n",
      "\n",
      "\n"
     ]
    },
    {
     "data": {
      "text/plain": [
       "'environmental commercial seem conference'"
      ]
     },
     "execution_count": 69,
     "metadata": {},
     "output_type": "execute_result"
    }
   ],
   "source": [
    "print('without tokenization','\\n')\n",
    "print(w[2])\n",
    "\n",
    "\n",
    "print('\\n''\\n','after tokenization','\\n''\\n')\n",
    "processed_mails[2]"
   ]
  },
  {
   "cell_type": "markdown",
   "id": "68e2d7be",
   "metadata": {
    "papermill": {
     "duration": 0.036243,
     "end_time": "2023-09-26T16:14:05.645131",
     "exception": false,
     "start_time": "2023-09-26T16:14:05.608888",
     "status": "completed"
    },
    "tags": []
   },
   "source": [
    "**> **Tokenized data****"
   ]
  },
  {
   "cell_type": "code",
   "execution_count": 70,
   "id": "1052aa11",
   "metadata": {
    "execution": {
     "iopub.execute_input": "2023-09-26T16:14:05.720593Z",
     "iopub.status.busy": "2023-09-26T16:14:05.719860Z",
     "iopub.status.idle": "2023-09-26T16:14:05.728989Z",
     "shell.execute_reply": "2023-09-26T16:14:05.727972Z"
    },
    "papermill": {
     "duration": 0.049178,
     "end_time": "2023-09-26T16:14:05.731125",
     "exception": false,
     "start_time": "2023-09-26T16:14:05.681947",
     "status": "completed"
    },
    "tags": []
   },
   "outputs": [
    {
     "data": {
      "text/html": [
       "<div>\n",
       "<style scoped>\n",
       "    .dataframe tbody tr th:only-of-type {\n",
       "        vertical-align: middle;\n",
       "    }\n",
       "\n",
       "    .dataframe tbody tr th {\n",
       "        vertical-align: top;\n",
       "    }\n",
       "\n",
       "    .dataframe thead th {\n",
       "        text-align: right;\n",
       "    }\n",
       "</style>\n",
       "<table border=\"1\" class=\"dataframe\">\n",
       "  <thead>\n",
       "    <tr style=\"text-align: right;\">\n",
       "      <th></th>\n",
       "      <th>Subject</th>\n",
       "    </tr>\n",
       "  </thead>\n",
       "  <tbody>\n",
       "    <tr>\n",
       "      <th>0</th>\n",
       "      <td>even hotel community church</td>\n",
       "    </tr>\n",
       "    <tr>\n",
       "      <th>1</th>\n",
       "      <td>try guess fight white agreement thus although</td>\n",
       "    </tr>\n",
       "    <tr>\n",
       "      <th>2</th>\n",
       "      <td>environmental commercial seem conference</td>\n",
       "    </tr>\n",
       "    <tr>\n",
       "      <th>3</th>\n",
       "      <td>smile real father commercial day increase</td>\n",
       "    </tr>\n",
       "    <tr>\n",
       "      <th>4</th>\n",
       "      <td>fast stage oil institution</td>\n",
       "    </tr>\n",
       "  </tbody>\n",
       "</table>\n",
       "</div>"
      ],
      "text/plain": [
       "                                         Subject\n",
       "0                    even hotel community church\n",
       "1  try guess fight white agreement thus although\n",
       "2       environmental commercial seem conference\n",
       "3      smile real father commercial day increase\n",
       "4                     fast stage oil institution"
      ]
     },
     "execution_count": 70,
     "metadata": {},
     "output_type": "execute_result"
    }
   ],
   "source": [
    "df_1=pd.DataFrame({'Subject':processed_mails},)\n",
    "df_1.head()"
   ]
  },
  {
   "cell_type": "code",
   "execution_count": 71,
   "id": "29244d3d",
   "metadata": {
    "execution": {
     "iopub.execute_input": "2023-09-26T16:14:05.807254Z",
     "iopub.status.busy": "2023-09-26T16:14:05.806869Z",
     "iopub.status.idle": "2023-09-26T16:14:15.450071Z",
     "shell.execute_reply": "2023-09-26T16:14:15.449152Z"
    },
    "papermill": {
     "duration": 9.68469,
     "end_time": "2023-09-26T16:14:15.452584",
     "exception": false,
     "start_time": "2023-09-26T16:14:05.767894",
     "status": "completed"
    },
    "tags": []
   },
   "outputs": [],
   "source": [
    "import pandas as pd\n",
    "from gensim.models import Word2Vec\n",
    "\n",
    "\n",
    "df_1['Subject'] = df_1['Subject'].apply(lambda text: text.split())  # Tokenization, assumes space-separated words\n",
    "model = Word2Vec(df_1['Subject'], vector_size=100, window=5, min_count=1, sg=0)   #  CBOW method\n",
    "\n",
    "\n",
    "# Function to convert a list of words to a sentence vector using Word2Vec\n",
    "\n",
    "def sentence_to_vector(sentence, model):\n",
    "    word_vectors = [model.wv[word] for word in sentence if word in model.wv]\n",
    "    if not word_vectors:\n",
    "        return None\n",
    "    return sum(word_vectors) / len(word_vectors)\n",
    "\n",
    "# Apply the 'sentence_to_vector' function to create a new column with sentence vectors\n",
    "df_1['Subject'] = df_1['Subject'].apply(lambda x: sentence_to_vector(x, model))\n"
   ]
  },
  {
   "cell_type": "code",
   "execution_count": 72,
   "id": "143de459",
   "metadata": {
    "execution": {
     "iopub.execute_input": "2023-09-26T16:14:15.529835Z",
     "iopub.status.busy": "2023-09-26T16:14:15.528289Z",
     "iopub.status.idle": "2023-09-26T16:14:15.535798Z",
     "shell.execute_reply": "2023-09-26T16:14:15.534754Z"
    },
    "papermill": {
     "duration": 0.047565,
     "end_time": "2023-09-26T16:14:15.538060",
     "exception": false,
     "start_time": "2023-09-26T16:14:15.490495",
     "status": "completed"
    },
    "tags": []
   },
   "outputs": [
    {
     "data": {
      "text/plain": [
       "100"
      ]
     },
     "execution_count": 72,
     "metadata": {},
     "output_type": "execute_result"
    }
   ],
   "source": [
    "len(df_1['Subject'][0])"
   ]
  },
  {
   "cell_type": "code",
   "execution_count": 73,
   "id": "02484b4c",
   "metadata": {
    "execution": {
     "iopub.execute_input": "2023-09-26T16:14:15.615479Z",
     "iopub.status.busy": "2023-09-26T16:14:15.615098Z",
     "iopub.status.idle": "2023-09-26T16:14:15.628976Z",
     "shell.execute_reply": "2023-09-26T16:14:15.627848Z"
    },
    "papermill": {
     "duration": 0.056181,
     "end_time": "2023-09-26T16:14:15.630948",
     "exception": false,
     "start_time": "2023-09-26T16:14:15.574767",
     "status": "completed"
    },
    "tags": []
   },
   "outputs": [
    {
     "data": {
      "text/plain": [
       "0       [-0.114126846, 0.12402053, 0.083368935, 0.0366...\n",
       "1       [-0.14724098, 0.15384735, 0.102760196, 0.04669...\n",
       "2       [-0.12432119, 0.13347428, 0.08706878, 0.034122...\n",
       "3       [-0.12934701, 0.13817549, 0.091731876, 0.04032...\n",
       "4       [-0.12595664, 0.13412419, 0.09229582, 0.040332...\n",
       "                              ...                        \n",
       "5995    [-0.14030953, 0.1505387, 0.093797624, 0.042145...\n",
       "5996    [-0.1357399, 0.14579506, 0.09718329, 0.0413123...\n",
       "5997    [-0.14523654, 0.15618135, 0.09750594, 0.041986...\n",
       "5998    [-0.0876396, 0.087360494, 0.062925816, 0.02503...\n",
       "5999    [-0.14480375, 0.15466112, 0.09903016, 0.042521...\n",
       "Name: Subject, Length: 6000, dtype: object"
      ]
     },
     "execution_count": 73,
     "metadata": {},
     "output_type": "execute_result"
    }
   ],
   "source": [
    "df_1['Subject']"
   ]
  },
  {
   "cell_type": "code",
   "execution_count": 74,
   "id": "8590d704",
   "metadata": {
    "execution": {
     "iopub.execute_input": "2023-09-26T16:14:15.707903Z",
     "iopub.status.busy": "2023-09-26T16:14:15.707134Z",
     "iopub.status.idle": "2023-09-26T16:14:15.728729Z",
     "shell.execute_reply": "2023-09-26T16:14:15.727598Z"
    },
    "papermill": {
     "duration": 0.063739,
     "end_time": "2023-09-26T16:14:15.731669",
     "exception": false,
     "start_time": "2023-09-26T16:14:15.667930",
     "status": "completed"
    },
    "tags": []
   },
   "outputs": [
    {
     "data": {
      "text/html": [
       "<div>\n",
       "<style scoped>\n",
       "    .dataframe tbody tr th:only-of-type {\n",
       "        vertical-align: middle;\n",
       "    }\n",
       "\n",
       "    .dataframe tbody tr th {\n",
       "        vertical-align: top;\n",
       "    }\n",
       "\n",
       "    .dataframe thead th {\n",
       "        text-align: right;\n",
       "    }\n",
       "</style>\n",
       "<table border=\"1\" class=\"dataframe\">\n",
       "  <thead>\n",
       "    <tr style=\"text-align: right;\">\n",
       "      <th></th>\n",
       "      <th>Subject</th>\n",
       "    </tr>\n",
       "  </thead>\n",
       "  <tbody>\n",
       "    <tr>\n",
       "      <th>0</th>\n",
       "      <td>[-0.114126846, 0.12402053, 0.083368935, 0.0366...</td>\n",
       "    </tr>\n",
       "    <tr>\n",
       "      <th>1</th>\n",
       "      <td>[-0.14724098, 0.15384735, 0.102760196, 0.04669...</td>\n",
       "    </tr>\n",
       "    <tr>\n",
       "      <th>2</th>\n",
       "      <td>[-0.12432119, 0.13347428, 0.08706878, 0.034122...</td>\n",
       "    </tr>\n",
       "    <tr>\n",
       "      <th>3</th>\n",
       "      <td>[-0.12934701, 0.13817549, 0.091731876, 0.04032...</td>\n",
       "    </tr>\n",
       "    <tr>\n",
       "      <th>4</th>\n",
       "      <td>[-0.12595664, 0.13412419, 0.09229582, 0.040332...</td>\n",
       "    </tr>\n",
       "    <tr>\n",
       "      <th>...</th>\n",
       "      <td>...</td>\n",
       "    </tr>\n",
       "    <tr>\n",
       "      <th>5995</th>\n",
       "      <td>[-0.14030953, 0.1505387, 0.093797624, 0.042145...</td>\n",
       "    </tr>\n",
       "    <tr>\n",
       "      <th>5996</th>\n",
       "      <td>[-0.1357399, 0.14579506, 0.09718329, 0.0413123...</td>\n",
       "    </tr>\n",
       "    <tr>\n",
       "      <th>5997</th>\n",
       "      <td>[-0.14523654, 0.15618135, 0.09750594, 0.041986...</td>\n",
       "    </tr>\n",
       "    <tr>\n",
       "      <th>5998</th>\n",
       "      <td>[-0.0876396, 0.087360494, 0.062925816, 0.02503...</td>\n",
       "    </tr>\n",
       "    <tr>\n",
       "      <th>5999</th>\n",
       "      <td>[-0.14480375, 0.15466112, 0.09903016, 0.042521...</td>\n",
       "    </tr>\n",
       "  </tbody>\n",
       "</table>\n",
       "<p>6000 rows × 1 columns</p>\n",
       "</div>"
      ],
      "text/plain": [
       "                                                Subject\n",
       "0     [-0.114126846, 0.12402053, 0.083368935, 0.0366...\n",
       "1     [-0.14724098, 0.15384735, 0.102760196, 0.04669...\n",
       "2     [-0.12432119, 0.13347428, 0.08706878, 0.034122...\n",
       "3     [-0.12934701, 0.13817549, 0.091731876, 0.04032...\n",
       "4     [-0.12595664, 0.13412419, 0.09229582, 0.040332...\n",
       "...                                                 ...\n",
       "5995  [-0.14030953, 0.1505387, 0.093797624, 0.042145...\n",
       "5996  [-0.1357399, 0.14579506, 0.09718329, 0.0413123...\n",
       "5997  [-0.14523654, 0.15618135, 0.09750594, 0.041986...\n",
       "5998  [-0.0876396, 0.087360494, 0.062925816, 0.02503...\n",
       "5999  [-0.14480375, 0.15466112, 0.09903016, 0.042521...\n",
       "\n",
       "[6000 rows x 1 columns]"
      ]
     },
     "execution_count": 74,
     "metadata": {},
     "output_type": "execute_result"
    }
   ],
   "source": [
    "df_1"
   ]
  },
  {
   "cell_type": "markdown",
   "id": "080634f4",
   "metadata": {
    "papermill": {
     "duration": 0.037688,
     "end_time": "2023-09-26T16:14:15.807597",
     "exception": false,
     "start_time": "2023-09-26T16:14:15.769909",
     "status": "completed"
    },
    "tags": []
   },
   "source": [
    "> **converting subject column to individual columns**"
   ]
  },
  {
   "cell_type": "code",
   "execution_count": 75,
   "id": "cf98e86d",
   "metadata": {
    "execution": {
     "iopub.execute_input": "2023-09-26T16:14:15.884383Z",
     "iopub.status.busy": "2023-09-26T16:14:15.883421Z",
     "iopub.status.idle": "2023-09-26T16:14:16.813478Z",
     "shell.execute_reply": "2023-09-26T16:14:16.812321Z"
    },
    "papermill": {
     "duration": 0.971257,
     "end_time": "2023-09-26T16:14:16.816208",
     "exception": false,
     "start_time": "2023-09-26T16:14:15.844951",
     "status": "completed"
    },
    "tags": []
   },
   "outputs": [],
   "source": [
    "# define a function to split the list into columns\n",
    "def split_list(row):\n",
    "    return pd.Series(row['Subject'])\n",
    "\n",
    "# apply the function to the DataFrame\n",
    "new_df = df_1.apply(split_list, axis=1).rename(columns=lambda x: f\"word_embd{x+1}\")\n",
    "\n",
    "# merge the new DataFrame with the original DataFrame\n",
    "result_df = pd.concat([df_1, new_df], axis=1).drop('Subject', axis=1)"
   ]
  },
  {
   "cell_type": "code",
   "execution_count": 76,
   "id": "54e52f42",
   "metadata": {
    "execution": {
     "iopub.execute_input": "2023-09-26T16:14:16.894623Z",
     "iopub.status.busy": "2023-09-26T16:14:16.894189Z",
     "iopub.status.idle": "2023-09-26T16:14:16.918141Z",
     "shell.execute_reply": "2023-09-26T16:14:16.917099Z"
    },
    "papermill": {
     "duration": 0.065662,
     "end_time": "2023-09-26T16:14:16.920163",
     "exception": false,
     "start_time": "2023-09-26T16:14:16.854501",
     "status": "completed"
    },
    "tags": []
   },
   "outputs": [
    {
     "data": {
      "text/html": [
       "<div>\n",
       "<style scoped>\n",
       "    .dataframe tbody tr th:only-of-type {\n",
       "        vertical-align: middle;\n",
       "    }\n",
       "\n",
       "    .dataframe tbody tr th {\n",
       "        vertical-align: top;\n",
       "    }\n",
       "\n",
       "    .dataframe thead th {\n",
       "        text-align: right;\n",
       "    }\n",
       "</style>\n",
       "<table border=\"1\" class=\"dataframe\">\n",
       "  <thead>\n",
       "    <tr style=\"text-align: right;\">\n",
       "      <th></th>\n",
       "      <th>word_embd1</th>\n",
       "      <th>word_embd2</th>\n",
       "      <th>word_embd3</th>\n",
       "      <th>word_embd4</th>\n",
       "      <th>word_embd5</th>\n",
       "      <th>word_embd6</th>\n",
       "      <th>word_embd7</th>\n",
       "      <th>word_embd8</th>\n",
       "      <th>word_embd9</th>\n",
       "      <th>word_embd10</th>\n",
       "      <th>...</th>\n",
       "      <th>word_embd91</th>\n",
       "      <th>word_embd92</th>\n",
       "      <th>word_embd93</th>\n",
       "      <th>word_embd94</th>\n",
       "      <th>word_embd95</th>\n",
       "      <th>word_embd96</th>\n",
       "      <th>word_embd97</th>\n",
       "      <th>word_embd98</th>\n",
       "      <th>word_embd99</th>\n",
       "      <th>word_embd100</th>\n",
       "    </tr>\n",
       "  </thead>\n",
       "  <tbody>\n",
       "    <tr>\n",
       "      <th>0</th>\n",
       "      <td>-0.114127</td>\n",
       "      <td>0.124021</td>\n",
       "      <td>0.083369</td>\n",
       "      <td>0.036604</td>\n",
       "      <td>0.049756</td>\n",
       "      <td>-0.248114</td>\n",
       "      <td>-0.100548</td>\n",
       "      <td>0.267847</td>\n",
       "      <td>-0.045032</td>\n",
       "      <td>0.021106</td>\n",
       "      <td>...</td>\n",
       "      <td>0.096423</td>\n",
       "      <td>-0.019065</td>\n",
       "      <td>-0.045890</td>\n",
       "      <td>-0.045267</td>\n",
       "      <td>0.172792</td>\n",
       "      <td>0.216901</td>\n",
       "      <td>0.117153</td>\n",
       "      <td>-0.270527</td>\n",
       "      <td>0.116663</td>\n",
       "      <td>0.013846</td>\n",
       "    </tr>\n",
       "    <tr>\n",
       "      <th>1</th>\n",
       "      <td>-0.147241</td>\n",
       "      <td>0.153847</td>\n",
       "      <td>0.102760</td>\n",
       "      <td>0.046696</td>\n",
       "      <td>0.063776</td>\n",
       "      <td>-0.304893</td>\n",
       "      <td>-0.124898</td>\n",
       "      <td>0.339190</td>\n",
       "      <td>-0.051472</td>\n",
       "      <td>0.031755</td>\n",
       "      <td>...</td>\n",
       "      <td>0.119615</td>\n",
       "      <td>-0.016585</td>\n",
       "      <td>-0.063109</td>\n",
       "      <td>-0.052814</td>\n",
       "      <td>0.218529</td>\n",
       "      <td>0.267444</td>\n",
       "      <td>0.145444</td>\n",
       "      <td>-0.331372</td>\n",
       "      <td>0.145474</td>\n",
       "      <td>0.020428</td>\n",
       "    </tr>\n",
       "    <tr>\n",
       "      <th>2</th>\n",
       "      <td>-0.124321</td>\n",
       "      <td>0.133474</td>\n",
       "      <td>0.087069</td>\n",
       "      <td>0.034122</td>\n",
       "      <td>0.058467</td>\n",
       "      <td>-0.268757</td>\n",
       "      <td>-0.112331</td>\n",
       "      <td>0.296505</td>\n",
       "      <td>-0.044004</td>\n",
       "      <td>0.020851</td>\n",
       "      <td>...</td>\n",
       "      <td>0.102404</td>\n",
       "      <td>-0.019609</td>\n",
       "      <td>-0.048995</td>\n",
       "      <td>-0.047884</td>\n",
       "      <td>0.194819</td>\n",
       "      <td>0.240549</td>\n",
       "      <td>0.122888</td>\n",
       "      <td>-0.295701</td>\n",
       "      <td>0.133466</td>\n",
       "      <td>0.024850</td>\n",
       "    </tr>\n",
       "    <tr>\n",
       "      <th>3</th>\n",
       "      <td>-0.129347</td>\n",
       "      <td>0.138175</td>\n",
       "      <td>0.091732</td>\n",
       "      <td>0.040330</td>\n",
       "      <td>0.058192</td>\n",
       "      <td>-0.275335</td>\n",
       "      <td>-0.120928</td>\n",
       "      <td>0.304594</td>\n",
       "      <td>-0.043079</td>\n",
       "      <td>0.027096</td>\n",
       "      <td>...</td>\n",
       "      <td>0.107906</td>\n",
       "      <td>-0.019989</td>\n",
       "      <td>-0.056005</td>\n",
       "      <td>-0.044948</td>\n",
       "      <td>0.194784</td>\n",
       "      <td>0.243371</td>\n",
       "      <td>0.125679</td>\n",
       "      <td>-0.300108</td>\n",
       "      <td>0.131054</td>\n",
       "      <td>0.017979</td>\n",
       "    </tr>\n",
       "    <tr>\n",
       "      <th>4</th>\n",
       "      <td>-0.125957</td>\n",
       "      <td>0.134124</td>\n",
       "      <td>0.092296</td>\n",
       "      <td>0.040332</td>\n",
       "      <td>0.061540</td>\n",
       "      <td>-0.262125</td>\n",
       "      <td>-0.116277</td>\n",
       "      <td>0.293524</td>\n",
       "      <td>-0.046250</td>\n",
       "      <td>0.027323</td>\n",
       "      <td>...</td>\n",
       "      <td>0.107701</td>\n",
       "      <td>-0.017496</td>\n",
       "      <td>-0.056957</td>\n",
       "      <td>-0.045794</td>\n",
       "      <td>0.187642</td>\n",
       "      <td>0.243975</td>\n",
       "      <td>0.119535</td>\n",
       "      <td>-0.289327</td>\n",
       "      <td>0.121270</td>\n",
       "      <td>0.017045</td>\n",
       "    </tr>\n",
       "  </tbody>\n",
       "</table>\n",
       "<p>5 rows × 100 columns</p>\n",
       "</div>"
      ],
      "text/plain": [
       "   word_embd1  word_embd2  word_embd3  word_embd4  word_embd5  word_embd6  \\\n",
       "0   -0.114127    0.124021    0.083369    0.036604    0.049756   -0.248114   \n",
       "1   -0.147241    0.153847    0.102760    0.046696    0.063776   -0.304893   \n",
       "2   -0.124321    0.133474    0.087069    0.034122    0.058467   -0.268757   \n",
       "3   -0.129347    0.138175    0.091732    0.040330    0.058192   -0.275335   \n",
       "4   -0.125957    0.134124    0.092296    0.040332    0.061540   -0.262125   \n",
       "\n",
       "   word_embd7  word_embd8  word_embd9  word_embd10  ...  word_embd91  \\\n",
       "0   -0.100548    0.267847   -0.045032     0.021106  ...     0.096423   \n",
       "1   -0.124898    0.339190   -0.051472     0.031755  ...     0.119615   \n",
       "2   -0.112331    0.296505   -0.044004     0.020851  ...     0.102404   \n",
       "3   -0.120928    0.304594   -0.043079     0.027096  ...     0.107906   \n",
       "4   -0.116277    0.293524   -0.046250     0.027323  ...     0.107701   \n",
       "\n",
       "   word_embd92  word_embd93  word_embd94  word_embd95  word_embd96  \\\n",
       "0    -0.019065    -0.045890    -0.045267     0.172792     0.216901   \n",
       "1    -0.016585    -0.063109    -0.052814     0.218529     0.267444   \n",
       "2    -0.019609    -0.048995    -0.047884     0.194819     0.240549   \n",
       "3    -0.019989    -0.056005    -0.044948     0.194784     0.243371   \n",
       "4    -0.017496    -0.056957    -0.045794     0.187642     0.243975   \n",
       "\n",
       "   word_embd97  word_embd98  word_embd99  word_embd100  \n",
       "0     0.117153    -0.270527     0.116663      0.013846  \n",
       "1     0.145444    -0.331372     0.145474      0.020428  \n",
       "2     0.122888    -0.295701     0.133466      0.024850  \n",
       "3     0.125679    -0.300108     0.131054      0.017979  \n",
       "4     0.119535    -0.289327     0.121270      0.017045  \n",
       "\n",
       "[5 rows x 100 columns]"
      ]
     },
     "execution_count": 76,
     "metadata": {},
     "output_type": "execute_result"
    }
   ],
   "source": [
    "result_df.head()"
   ]
  },
  {
   "cell_type": "code",
   "execution_count": 77,
   "id": "f62472b5",
   "metadata": {
    "execution": {
     "iopub.execute_input": "2023-09-26T16:14:16.997075Z",
     "iopub.status.busy": "2023-09-26T16:14:16.996678Z",
     "iopub.status.idle": "2023-09-26T16:14:17.012865Z",
     "shell.execute_reply": "2023-09-26T16:14:17.012007Z"
    },
    "papermill": {
     "duration": 0.057293,
     "end_time": "2023-09-26T16:14:17.014907",
     "exception": false,
     "start_time": "2023-09-26T16:14:16.957614",
     "status": "completed"
    },
    "tags": []
   },
   "outputs": [
    {
     "data": {
      "text/html": [
       "<div>\n",
       "<style scoped>\n",
       "    .dataframe tbody tr th:only-of-type {\n",
       "        vertical-align: middle;\n",
       "    }\n",
       "\n",
       "    .dataframe tbody tr th {\n",
       "        vertical-align: top;\n",
       "    }\n",
       "\n",
       "    .dataframe thead th {\n",
       "        text-align: right;\n",
       "    }\n",
       "</style>\n",
       "<table border=\"1\" class=\"dataframe\">\n",
       "  <thead>\n",
       "    <tr style=\"text-align: right;\">\n",
       "      <th></th>\n",
       "      <th>Email</th>\n",
       "      <th>Subject</th>\n",
       "      <th>Sender</th>\n",
       "      <th>Recipient</th>\n",
       "      <th>Date</th>\n",
       "      <th>Time</th>\n",
       "      <th>Attachments</th>\n",
       "      <th>Link Count</th>\n",
       "      <th>Word Count</th>\n",
       "      <th>Uppercase Count</th>\n",
       "      <th>Exclamation Count</th>\n",
       "      <th>Question Count</th>\n",
       "      <th>Dollar Count</th>\n",
       "      <th>Punctuation Count</th>\n",
       "      <th>HTML Tags Count</th>\n",
       "      <th>Spam Indicator</th>\n",
       "    </tr>\n",
       "  </thead>\n",
       "  <tbody>\n",
       "    <tr>\n",
       "      <th>0</th>\n",
       "      <td>mikerusso@example.net</td>\n",
       "      <td>Even hotel community church.</td>\n",
       "      <td>emilyscott@example.org</td>\n",
       "      <td>gregorysmith@example.org</td>\n",
       "      <td>13-02-2023</td>\n",
       "      <td>04:13</td>\n",
       "      <td>3</td>\n",
       "      <td>0</td>\n",
       "      <td>191</td>\n",
       "      <td>32</td>\n",
       "      <td>3</td>\n",
       "      <td>3</td>\n",
       "      <td>0</td>\n",
       "      <td>11</td>\n",
       "      <td>1</td>\n",
       "      <td>1</td>\n",
       "    </tr>\n",
       "    <tr>\n",
       "      <th>1</th>\n",
       "      <td>waynebailey@example.org</td>\n",
       "      <td>Try themselves guess fight white agreement thu...</td>\n",
       "      <td>annwhite@example.net</td>\n",
       "      <td>gonzalezdaniel@example.net</td>\n",
       "      <td>09-08-2023</td>\n",
       "      <td>06:15</td>\n",
       "      <td>3</td>\n",
       "      <td>9</td>\n",
       "      <td>45</td>\n",
       "      <td>1</td>\n",
       "      <td>2</td>\n",
       "      <td>1</td>\n",
       "      <td>2</td>\n",
       "      <td>8</td>\n",
       "      <td>2</td>\n",
       "      <td>1</td>\n",
       "    </tr>\n",
       "    <tr>\n",
       "      <th>2</th>\n",
       "      <td>jill43@example.com</td>\n",
       "      <td>Environmental commercial off seem any conference.</td>\n",
       "      <td>david88@example.net</td>\n",
       "      <td>michellebaker@example.net</td>\n",
       "      <td>16-05-2023</td>\n",
       "      <td>01:32</td>\n",
       "      <td>3</td>\n",
       "      <td>9</td>\n",
       "      <td>52</td>\n",
       "      <td>1</td>\n",
       "      <td>4</td>\n",
       "      <td>0</td>\n",
       "      <td>2</td>\n",
       "      <td>10</td>\n",
       "      <td>1</td>\n",
       "      <td>1</td>\n",
       "    </tr>\n",
       "    <tr>\n",
       "      <th>3</th>\n",
       "      <td>johnsonkaren@example.org</td>\n",
       "      <td>Smile real TV father commercial day increase.</td>\n",
       "      <td>lindaalvarez@example.com</td>\n",
       "      <td>schroedertodd@example.com</td>\n",
       "      <td>25-04-2023</td>\n",
       "      <td>14:50</td>\n",
       "      <td>2</td>\n",
       "      <td>3</td>\n",
       "      <td>75</td>\n",
       "      <td>6</td>\n",
       "      <td>0</td>\n",
       "      <td>2</td>\n",
       "      <td>0</td>\n",
       "      <td>8</td>\n",
       "      <td>2</td>\n",
       "      <td>0</td>\n",
       "    </tr>\n",
       "    <tr>\n",
       "      <th>4</th>\n",
       "      <td>markwilson@example.org</td>\n",
       "      <td>Fast stage he oil institution.</td>\n",
       "      <td>vstafford@example.com</td>\n",
       "      <td>emilywilliams@example.com</td>\n",
       "      <td>11-07-2023</td>\n",
       "      <td>21:44</td>\n",
       "      <td>3</td>\n",
       "      <td>5</td>\n",
       "      <td>299</td>\n",
       "      <td>279</td>\n",
       "      <td>0</td>\n",
       "      <td>2</td>\n",
       "      <td>0</td>\n",
       "      <td>6</td>\n",
       "      <td>1</td>\n",
       "      <td>1</td>\n",
       "    </tr>\n",
       "  </tbody>\n",
       "</table>\n",
       "</div>"
      ],
      "text/plain": [
       "                      Email  \\\n",
       "0     mikerusso@example.net   \n",
       "1   waynebailey@example.org   \n",
       "2        jill43@example.com   \n",
       "3  johnsonkaren@example.org   \n",
       "4    markwilson@example.org   \n",
       "\n",
       "                                             Subject  \\\n",
       "0                       Even hotel community church.   \n",
       "1  Try themselves guess fight white agreement thu...   \n",
       "2  Environmental commercial off seem any conference.   \n",
       "3      Smile real TV father commercial day increase.   \n",
       "4                     Fast stage he oil institution.   \n",
       "\n",
       "                     Sender                   Recipient        Date   Time  \\\n",
       "0    emilyscott@example.org    gregorysmith@example.org  13-02-2023  04:13   \n",
       "1      annwhite@example.net  gonzalezdaniel@example.net  09-08-2023  06:15   \n",
       "2       david88@example.net   michellebaker@example.net  16-05-2023  01:32   \n",
       "3  lindaalvarez@example.com   schroedertodd@example.com  25-04-2023  14:50   \n",
       "4     vstafford@example.com   emilywilliams@example.com  11-07-2023  21:44   \n",
       "\n",
       "   Attachments  Link Count  Word Count  Uppercase Count  Exclamation Count  \\\n",
       "0            3           0         191               32                  3   \n",
       "1            3           9          45                1                  2   \n",
       "2            3           9          52                1                  4   \n",
       "3            2           3          75                6                  0   \n",
       "4            3           5         299              279                  0   \n",
       "\n",
       "   Question Count  Dollar Count  Punctuation Count  HTML Tags Count  \\\n",
       "0               3             0                 11                1   \n",
       "1               1             2                  8                2   \n",
       "2               0             2                 10                1   \n",
       "3               2             0                  8                2   \n",
       "4               2             0                  6                1   \n",
       "\n",
       "   Spam Indicator  \n",
       "0               1  \n",
       "1               1  \n",
       "2               1  \n",
       "3               0  \n",
       "4               1  "
      ]
     },
     "execution_count": 77,
     "metadata": {},
     "output_type": "execute_result"
    }
   ],
   "source": [
    "s = df\n",
    "s.head()"
   ]
  },
  {
   "cell_type": "code",
   "execution_count": 78,
   "id": "14d2c56e",
   "metadata": {
    "execution": {
     "iopub.execute_input": "2023-09-26T16:14:17.095801Z",
     "iopub.status.busy": "2023-09-26T16:14:17.094627Z",
     "iopub.status.idle": "2023-09-26T16:14:17.101482Z",
     "shell.execute_reply": "2023-09-26T16:14:17.100093Z"
    },
    "papermill": {
     "duration": 0.049691,
     "end_time": "2023-09-26T16:14:17.103989",
     "exception": false,
     "start_time": "2023-09-26T16:14:17.054298",
     "status": "completed"
    },
    "tags": []
   },
   "outputs": [],
   "source": [
    "s.drop(['Sender','Email','Recipient'],axis = 1,inplace = True)"
   ]
  },
  {
   "cell_type": "code",
   "execution_count": 79,
   "id": "087b2633",
   "metadata": {
    "execution": {
     "iopub.execute_input": "2023-09-26T16:14:17.181852Z",
     "iopub.status.busy": "2023-09-26T16:14:17.181142Z",
     "iopub.status.idle": "2023-09-26T16:14:17.193374Z",
     "shell.execute_reply": "2023-09-26T16:14:17.192601Z"
    },
    "papermill": {
     "duration": 0.053768,
     "end_time": "2023-09-26T16:14:17.195728",
     "exception": false,
     "start_time": "2023-09-26T16:14:17.141960",
     "status": "completed"
    },
    "tags": []
   },
   "outputs": [],
   "source": [
    "s['Date'] = pd.to_datetime(s['Date'])\n",
    "\n",
    "# accessing the month from the date column\n",
    "s['Month'] = s['Date'].dt.month\n",
    "\n",
    "# accessing the year from the date column\n",
    "\n",
    "s['date'] = s['Date'].dt.day"
   ]
  },
  {
   "cell_type": "code",
   "execution_count": 80,
   "id": "3ef033df",
   "metadata": {
    "execution": {
     "iopub.execute_input": "2023-09-26T16:14:17.273071Z",
     "iopub.status.busy": "2023-09-26T16:14:17.272288Z",
     "iopub.status.idle": "2023-09-26T16:14:17.278499Z",
     "shell.execute_reply": "2023-09-26T16:14:17.277661Z"
    },
    "papermill": {
     "duration": 0.047726,
     "end_time": "2023-09-26T16:14:17.280934",
     "exception": false,
     "start_time": "2023-09-26T16:14:17.233208",
     "status": "completed"
    },
    "tags": []
   },
   "outputs": [],
   "source": [
    "s = s.drop(['Time','Date','Subject'],axis = 1)"
   ]
  },
  {
   "cell_type": "code",
   "execution_count": 81,
   "id": "0ba33267",
   "metadata": {
    "execution": {
     "iopub.execute_input": "2023-09-26T16:14:17.358698Z",
     "iopub.status.busy": "2023-09-26T16:14:17.357947Z",
     "iopub.status.idle": "2023-09-26T16:14:17.373730Z",
     "shell.execute_reply": "2023-09-26T16:14:17.372566Z"
    },
    "papermill": {
     "duration": 0.057075,
     "end_time": "2023-09-26T16:14:17.375896",
     "exception": false,
     "start_time": "2023-09-26T16:14:17.318821",
     "status": "completed"
    },
    "tags": []
   },
   "outputs": [
    {
     "data": {
      "text/html": [
       "<div>\n",
       "<style scoped>\n",
       "    .dataframe tbody tr th:only-of-type {\n",
       "        vertical-align: middle;\n",
       "    }\n",
       "\n",
       "    .dataframe tbody tr th {\n",
       "        vertical-align: top;\n",
       "    }\n",
       "\n",
       "    .dataframe thead th {\n",
       "        text-align: right;\n",
       "    }\n",
       "</style>\n",
       "<table border=\"1\" class=\"dataframe\">\n",
       "  <thead>\n",
       "    <tr style=\"text-align: right;\">\n",
       "      <th></th>\n",
       "      <th>Attachments</th>\n",
       "      <th>Link Count</th>\n",
       "      <th>Word Count</th>\n",
       "      <th>Uppercase Count</th>\n",
       "      <th>Exclamation Count</th>\n",
       "      <th>Question Count</th>\n",
       "      <th>Dollar Count</th>\n",
       "      <th>Punctuation Count</th>\n",
       "      <th>HTML Tags Count</th>\n",
       "      <th>Spam Indicator</th>\n",
       "      <th>Month</th>\n",
       "      <th>date</th>\n",
       "    </tr>\n",
       "  </thead>\n",
       "  <tbody>\n",
       "    <tr>\n",
       "      <th>0</th>\n",
       "      <td>3</td>\n",
       "      <td>0</td>\n",
       "      <td>191</td>\n",
       "      <td>32</td>\n",
       "      <td>3</td>\n",
       "      <td>3</td>\n",
       "      <td>0</td>\n",
       "      <td>11</td>\n",
       "      <td>1</td>\n",
       "      <td>1</td>\n",
       "      <td>2</td>\n",
       "      <td>13</td>\n",
       "    </tr>\n",
       "    <tr>\n",
       "      <th>1</th>\n",
       "      <td>3</td>\n",
       "      <td>9</td>\n",
       "      <td>45</td>\n",
       "      <td>1</td>\n",
       "      <td>2</td>\n",
       "      <td>1</td>\n",
       "      <td>2</td>\n",
       "      <td>8</td>\n",
       "      <td>2</td>\n",
       "      <td>1</td>\n",
       "      <td>8</td>\n",
       "      <td>9</td>\n",
       "    </tr>\n",
       "    <tr>\n",
       "      <th>2</th>\n",
       "      <td>3</td>\n",
       "      <td>9</td>\n",
       "      <td>52</td>\n",
       "      <td>1</td>\n",
       "      <td>4</td>\n",
       "      <td>0</td>\n",
       "      <td>2</td>\n",
       "      <td>10</td>\n",
       "      <td>1</td>\n",
       "      <td>1</td>\n",
       "      <td>5</td>\n",
       "      <td>16</td>\n",
       "    </tr>\n",
       "    <tr>\n",
       "      <th>3</th>\n",
       "      <td>2</td>\n",
       "      <td>3</td>\n",
       "      <td>75</td>\n",
       "      <td>6</td>\n",
       "      <td>0</td>\n",
       "      <td>2</td>\n",
       "      <td>0</td>\n",
       "      <td>8</td>\n",
       "      <td>2</td>\n",
       "      <td>0</td>\n",
       "      <td>4</td>\n",
       "      <td>25</td>\n",
       "    </tr>\n",
       "    <tr>\n",
       "      <th>4</th>\n",
       "      <td>3</td>\n",
       "      <td>5</td>\n",
       "      <td>299</td>\n",
       "      <td>279</td>\n",
       "      <td>0</td>\n",
       "      <td>2</td>\n",
       "      <td>0</td>\n",
       "      <td>6</td>\n",
       "      <td>1</td>\n",
       "      <td>1</td>\n",
       "      <td>7</td>\n",
       "      <td>11</td>\n",
       "    </tr>\n",
       "    <tr>\n",
       "      <th>...</th>\n",
       "      <td>...</td>\n",
       "      <td>...</td>\n",
       "      <td>...</td>\n",
       "      <td>...</td>\n",
       "      <td>...</td>\n",
       "      <td>...</td>\n",
       "      <td>...</td>\n",
       "      <td>...</td>\n",
       "      <td>...</td>\n",
       "      <td>...</td>\n",
       "      <td>...</td>\n",
       "      <td>...</td>\n",
       "    </tr>\n",
       "    <tr>\n",
       "      <th>5995</th>\n",
       "      <td>1</td>\n",
       "      <td>7</td>\n",
       "      <td>114</td>\n",
       "      <td>83</td>\n",
       "      <td>0</td>\n",
       "      <td>3</td>\n",
       "      <td>2</td>\n",
       "      <td>0</td>\n",
       "      <td>5</td>\n",
       "      <td>0</td>\n",
       "      <td>4</td>\n",
       "      <td>10</td>\n",
       "    </tr>\n",
       "    <tr>\n",
       "      <th>5996</th>\n",
       "      <td>1</td>\n",
       "      <td>5</td>\n",
       "      <td>19</td>\n",
       "      <td>10</td>\n",
       "      <td>0</td>\n",
       "      <td>0</td>\n",
       "      <td>1</td>\n",
       "      <td>7</td>\n",
       "      <td>0</td>\n",
       "      <td>0</td>\n",
       "      <td>5</td>\n",
       "      <td>7</td>\n",
       "    </tr>\n",
       "    <tr>\n",
       "      <th>5997</th>\n",
       "      <td>2</td>\n",
       "      <td>10</td>\n",
       "      <td>52</td>\n",
       "      <td>45</td>\n",
       "      <td>5</td>\n",
       "      <td>3</td>\n",
       "      <td>0</td>\n",
       "      <td>10</td>\n",
       "      <td>4</td>\n",
       "      <td>0</td>\n",
       "      <td>4</td>\n",
       "      <td>8</td>\n",
       "    </tr>\n",
       "    <tr>\n",
       "      <th>5998</th>\n",
       "      <td>3</td>\n",
       "      <td>2</td>\n",
       "      <td>178</td>\n",
       "      <td>76</td>\n",
       "      <td>0</td>\n",
       "      <td>1</td>\n",
       "      <td>2</td>\n",
       "      <td>11</td>\n",
       "      <td>1</td>\n",
       "      <td>1</td>\n",
       "      <td>1</td>\n",
       "      <td>19</td>\n",
       "    </tr>\n",
       "    <tr>\n",
       "      <th>5999</th>\n",
       "      <td>0</td>\n",
       "      <td>6</td>\n",
       "      <td>218</td>\n",
       "      <td>130</td>\n",
       "      <td>3</td>\n",
       "      <td>0</td>\n",
       "      <td>0</td>\n",
       "      <td>11</td>\n",
       "      <td>2</td>\n",
       "      <td>1</td>\n",
       "      <td>7</td>\n",
       "      <td>2</td>\n",
       "    </tr>\n",
       "  </tbody>\n",
       "</table>\n",
       "<p>6000 rows × 12 columns</p>\n",
       "</div>"
      ],
      "text/plain": [
       "      Attachments  Link Count  Word Count  Uppercase Count  Exclamation Count  \\\n",
       "0               3           0         191               32                  3   \n",
       "1               3           9          45                1                  2   \n",
       "2               3           9          52                1                  4   \n",
       "3               2           3          75                6                  0   \n",
       "4               3           5         299              279                  0   \n",
       "...           ...         ...         ...              ...                ...   \n",
       "5995            1           7         114               83                  0   \n",
       "5996            1           5          19               10                  0   \n",
       "5997            2          10          52               45                  5   \n",
       "5998            3           2         178               76                  0   \n",
       "5999            0           6         218              130                  3   \n",
       "\n",
       "      Question Count  Dollar Count  Punctuation Count  HTML Tags Count  \\\n",
       "0                  3             0                 11                1   \n",
       "1                  1             2                  8                2   \n",
       "2                  0             2                 10                1   \n",
       "3                  2             0                  8                2   \n",
       "4                  2             0                  6                1   \n",
       "...              ...           ...                ...              ...   \n",
       "5995               3             2                  0                5   \n",
       "5996               0             1                  7                0   \n",
       "5997               3             0                 10                4   \n",
       "5998               1             2                 11                1   \n",
       "5999               0             0                 11                2   \n",
       "\n",
       "      Spam Indicator  Month  date  \n",
       "0                  1      2    13  \n",
       "1                  1      8     9  \n",
       "2                  1      5    16  \n",
       "3                  0      4    25  \n",
       "4                  1      7    11  \n",
       "...              ...    ...   ...  \n",
       "5995               0      4    10  \n",
       "5996               0      5     7  \n",
       "5997               0      4     8  \n",
       "5998               1      1    19  \n",
       "5999               1      7     2  \n",
       "\n",
       "[6000 rows x 12 columns]"
      ]
     },
     "execution_count": 81,
     "metadata": {},
     "output_type": "execute_result"
    }
   ],
   "source": [
    "s"
   ]
  },
  {
   "cell_type": "code",
   "execution_count": 82,
   "id": "b8c75a0e",
   "metadata": {
    "execution": {
     "iopub.execute_input": "2023-09-26T16:14:17.453669Z",
     "iopub.status.busy": "2023-09-26T16:14:17.452918Z",
     "iopub.status.idle": "2023-09-26T16:14:17.478778Z",
     "shell.execute_reply": "2023-09-26T16:14:17.477723Z"
    },
    "papermill": {
     "duration": 0.06738,
     "end_time": "2023-09-26T16:14:17.481044",
     "exception": false,
     "start_time": "2023-09-26T16:14:17.413664",
     "status": "completed"
    },
    "tags": []
   },
   "outputs": [
    {
     "data": {
      "text/html": [
       "<div>\n",
       "<style scoped>\n",
       "    .dataframe tbody tr th:only-of-type {\n",
       "        vertical-align: middle;\n",
       "    }\n",
       "\n",
       "    .dataframe tbody tr th {\n",
       "        vertical-align: top;\n",
       "    }\n",
       "\n",
       "    .dataframe thead th {\n",
       "        text-align: right;\n",
       "    }\n",
       "</style>\n",
       "<table border=\"1\" class=\"dataframe\">\n",
       "  <thead>\n",
       "    <tr style=\"text-align: right;\">\n",
       "      <th></th>\n",
       "      <th>Attachments</th>\n",
       "      <th>Link Count</th>\n",
       "      <th>Word Count</th>\n",
       "      <th>Uppercase Count</th>\n",
       "      <th>Exclamation Count</th>\n",
       "      <th>Question Count</th>\n",
       "      <th>Dollar Count</th>\n",
       "      <th>Punctuation Count</th>\n",
       "      <th>HTML Tags Count</th>\n",
       "      <th>Spam Indicator</th>\n",
       "      <th>...</th>\n",
       "      <th>word_embd91</th>\n",
       "      <th>word_embd92</th>\n",
       "      <th>word_embd93</th>\n",
       "      <th>word_embd94</th>\n",
       "      <th>word_embd95</th>\n",
       "      <th>word_embd96</th>\n",
       "      <th>word_embd97</th>\n",
       "      <th>word_embd98</th>\n",
       "      <th>word_embd99</th>\n",
       "      <th>word_embd100</th>\n",
       "    </tr>\n",
       "  </thead>\n",
       "  <tbody>\n",
       "    <tr>\n",
       "      <th>0</th>\n",
       "      <td>3</td>\n",
       "      <td>0</td>\n",
       "      <td>191</td>\n",
       "      <td>32</td>\n",
       "      <td>3</td>\n",
       "      <td>3</td>\n",
       "      <td>0</td>\n",
       "      <td>11</td>\n",
       "      <td>1</td>\n",
       "      <td>1</td>\n",
       "      <td>...</td>\n",
       "      <td>0.096423</td>\n",
       "      <td>-0.019065</td>\n",
       "      <td>-0.045890</td>\n",
       "      <td>-0.045267</td>\n",
       "      <td>0.172792</td>\n",
       "      <td>0.216901</td>\n",
       "      <td>0.117153</td>\n",
       "      <td>-0.270527</td>\n",
       "      <td>0.116663</td>\n",
       "      <td>0.013846</td>\n",
       "    </tr>\n",
       "    <tr>\n",
       "      <th>1</th>\n",
       "      <td>3</td>\n",
       "      <td>9</td>\n",
       "      <td>45</td>\n",
       "      <td>1</td>\n",
       "      <td>2</td>\n",
       "      <td>1</td>\n",
       "      <td>2</td>\n",
       "      <td>8</td>\n",
       "      <td>2</td>\n",
       "      <td>1</td>\n",
       "      <td>...</td>\n",
       "      <td>0.119615</td>\n",
       "      <td>-0.016585</td>\n",
       "      <td>-0.063109</td>\n",
       "      <td>-0.052814</td>\n",
       "      <td>0.218529</td>\n",
       "      <td>0.267444</td>\n",
       "      <td>0.145444</td>\n",
       "      <td>-0.331372</td>\n",
       "      <td>0.145474</td>\n",
       "      <td>0.020428</td>\n",
       "    </tr>\n",
       "    <tr>\n",
       "      <th>2</th>\n",
       "      <td>3</td>\n",
       "      <td>9</td>\n",
       "      <td>52</td>\n",
       "      <td>1</td>\n",
       "      <td>4</td>\n",
       "      <td>0</td>\n",
       "      <td>2</td>\n",
       "      <td>10</td>\n",
       "      <td>1</td>\n",
       "      <td>1</td>\n",
       "      <td>...</td>\n",
       "      <td>0.102404</td>\n",
       "      <td>-0.019609</td>\n",
       "      <td>-0.048995</td>\n",
       "      <td>-0.047884</td>\n",
       "      <td>0.194819</td>\n",
       "      <td>0.240549</td>\n",
       "      <td>0.122888</td>\n",
       "      <td>-0.295701</td>\n",
       "      <td>0.133466</td>\n",
       "      <td>0.024850</td>\n",
       "    </tr>\n",
       "    <tr>\n",
       "      <th>3</th>\n",
       "      <td>2</td>\n",
       "      <td>3</td>\n",
       "      <td>75</td>\n",
       "      <td>6</td>\n",
       "      <td>0</td>\n",
       "      <td>2</td>\n",
       "      <td>0</td>\n",
       "      <td>8</td>\n",
       "      <td>2</td>\n",
       "      <td>0</td>\n",
       "      <td>...</td>\n",
       "      <td>0.107906</td>\n",
       "      <td>-0.019989</td>\n",
       "      <td>-0.056005</td>\n",
       "      <td>-0.044948</td>\n",
       "      <td>0.194784</td>\n",
       "      <td>0.243371</td>\n",
       "      <td>0.125679</td>\n",
       "      <td>-0.300108</td>\n",
       "      <td>0.131054</td>\n",
       "      <td>0.017979</td>\n",
       "    </tr>\n",
       "    <tr>\n",
       "      <th>4</th>\n",
       "      <td>3</td>\n",
       "      <td>5</td>\n",
       "      <td>299</td>\n",
       "      <td>279</td>\n",
       "      <td>0</td>\n",
       "      <td>2</td>\n",
       "      <td>0</td>\n",
       "      <td>6</td>\n",
       "      <td>1</td>\n",
       "      <td>1</td>\n",
       "      <td>...</td>\n",
       "      <td>0.107701</td>\n",
       "      <td>-0.017496</td>\n",
       "      <td>-0.056957</td>\n",
       "      <td>-0.045794</td>\n",
       "      <td>0.187642</td>\n",
       "      <td>0.243975</td>\n",
       "      <td>0.119535</td>\n",
       "      <td>-0.289327</td>\n",
       "      <td>0.121270</td>\n",
       "      <td>0.017045</td>\n",
       "    </tr>\n",
       "    <tr>\n",
       "      <th>...</th>\n",
       "      <td>...</td>\n",
       "      <td>...</td>\n",
       "      <td>...</td>\n",
       "      <td>...</td>\n",
       "      <td>...</td>\n",
       "      <td>...</td>\n",
       "      <td>...</td>\n",
       "      <td>...</td>\n",
       "      <td>...</td>\n",
       "      <td>...</td>\n",
       "      <td>...</td>\n",
       "      <td>...</td>\n",
       "      <td>...</td>\n",
       "      <td>...</td>\n",
       "      <td>...</td>\n",
       "      <td>...</td>\n",
       "      <td>...</td>\n",
       "      <td>...</td>\n",
       "      <td>...</td>\n",
       "      <td>...</td>\n",
       "      <td>...</td>\n",
       "    </tr>\n",
       "    <tr>\n",
       "      <th>5995</th>\n",
       "      <td>1</td>\n",
       "      <td>7</td>\n",
       "      <td>114</td>\n",
       "      <td>83</td>\n",
       "      <td>0</td>\n",
       "      <td>3</td>\n",
       "      <td>2</td>\n",
       "      <td>0</td>\n",
       "      <td>5</td>\n",
       "      <td>0</td>\n",
       "      <td>...</td>\n",
       "      <td>0.114354</td>\n",
       "      <td>-0.019981</td>\n",
       "      <td>-0.057858</td>\n",
       "      <td>-0.049893</td>\n",
       "      <td>0.212476</td>\n",
       "      <td>0.258307</td>\n",
       "      <td>0.137682</td>\n",
       "      <td>-0.321650</td>\n",
       "      <td>0.133152</td>\n",
       "      <td>0.018473</td>\n",
       "    </tr>\n",
       "    <tr>\n",
       "      <th>5996</th>\n",
       "      <td>1</td>\n",
       "      <td>5</td>\n",
       "      <td>19</td>\n",
       "      <td>10</td>\n",
       "      <td>0</td>\n",
       "      <td>0</td>\n",
       "      <td>1</td>\n",
       "      <td>7</td>\n",
       "      <td>0</td>\n",
       "      <td>0</td>\n",
       "      <td>...</td>\n",
       "      <td>0.114933</td>\n",
       "      <td>-0.019503</td>\n",
       "      <td>-0.057773</td>\n",
       "      <td>-0.045261</td>\n",
       "      <td>0.203949</td>\n",
       "      <td>0.256139</td>\n",
       "      <td>0.135150</td>\n",
       "      <td>-0.307904</td>\n",
       "      <td>0.131626</td>\n",
       "      <td>0.019215</td>\n",
       "    </tr>\n",
       "    <tr>\n",
       "      <th>5997</th>\n",
       "      <td>2</td>\n",
       "      <td>10</td>\n",
       "      <td>52</td>\n",
       "      <td>45</td>\n",
       "      <td>5</td>\n",
       "      <td>3</td>\n",
       "      <td>0</td>\n",
       "      <td>10</td>\n",
       "      <td>4</td>\n",
       "      <td>0</td>\n",
       "      <td>...</td>\n",
       "      <td>0.120842</td>\n",
       "      <td>-0.017044</td>\n",
       "      <td>-0.065351</td>\n",
       "      <td>-0.055208</td>\n",
       "      <td>0.216737</td>\n",
       "      <td>0.277439</td>\n",
       "      <td>0.140653</td>\n",
       "      <td>-0.334649</td>\n",
       "      <td>0.146658</td>\n",
       "      <td>0.019712</td>\n",
       "    </tr>\n",
       "    <tr>\n",
       "      <th>5998</th>\n",
       "      <td>3</td>\n",
       "      <td>2</td>\n",
       "      <td>178</td>\n",
       "      <td>76</td>\n",
       "      <td>0</td>\n",
       "      <td>1</td>\n",
       "      <td>2</td>\n",
       "      <td>11</td>\n",
       "      <td>1</td>\n",
       "      <td>1</td>\n",
       "      <td>...</td>\n",
       "      <td>0.070882</td>\n",
       "      <td>-0.012330</td>\n",
       "      <td>-0.038507</td>\n",
       "      <td>-0.026567</td>\n",
       "      <td>0.125336</td>\n",
       "      <td>0.161282</td>\n",
       "      <td>0.080636</td>\n",
       "      <td>-0.194492</td>\n",
       "      <td>0.081361</td>\n",
       "      <td>0.009901</td>\n",
       "    </tr>\n",
       "    <tr>\n",
       "      <th>5999</th>\n",
       "      <td>0</td>\n",
       "      <td>6</td>\n",
       "      <td>218</td>\n",
       "      <td>130</td>\n",
       "      <td>3</td>\n",
       "      <td>0</td>\n",
       "      <td>0</td>\n",
       "      <td>11</td>\n",
       "      <td>2</td>\n",
       "      <td>1</td>\n",
       "      <td>...</td>\n",
       "      <td>0.120092</td>\n",
       "      <td>-0.020038</td>\n",
       "      <td>-0.061751</td>\n",
       "      <td>-0.052126</td>\n",
       "      <td>0.210951</td>\n",
       "      <td>0.262715</td>\n",
       "      <td>0.142418</td>\n",
       "      <td>-0.325936</td>\n",
       "      <td>0.144806</td>\n",
       "      <td>0.016355</td>\n",
       "    </tr>\n",
       "  </tbody>\n",
       "</table>\n",
       "<p>6000 rows × 112 columns</p>\n",
       "</div>"
      ],
      "text/plain": [
       "      Attachments  Link Count  Word Count  Uppercase Count  Exclamation Count  \\\n",
       "0               3           0         191               32                  3   \n",
       "1               3           9          45                1                  2   \n",
       "2               3           9          52                1                  4   \n",
       "3               2           3          75                6                  0   \n",
       "4               3           5         299              279                  0   \n",
       "...           ...         ...         ...              ...                ...   \n",
       "5995            1           7         114               83                  0   \n",
       "5996            1           5          19               10                  0   \n",
       "5997            2          10          52               45                  5   \n",
       "5998            3           2         178               76                  0   \n",
       "5999            0           6         218              130                  3   \n",
       "\n",
       "      Question Count  Dollar Count  Punctuation Count  HTML Tags Count  \\\n",
       "0                  3             0                 11                1   \n",
       "1                  1             2                  8                2   \n",
       "2                  0             2                 10                1   \n",
       "3                  2             0                  8                2   \n",
       "4                  2             0                  6                1   \n",
       "...              ...           ...                ...              ...   \n",
       "5995               3             2                  0                5   \n",
       "5996               0             1                  7                0   \n",
       "5997               3             0                 10                4   \n",
       "5998               1             2                 11                1   \n",
       "5999               0             0                 11                2   \n",
       "\n",
       "      Spam Indicator  ...  word_embd91  word_embd92  word_embd93  word_embd94  \\\n",
       "0                  1  ...     0.096423    -0.019065    -0.045890    -0.045267   \n",
       "1                  1  ...     0.119615    -0.016585    -0.063109    -0.052814   \n",
       "2                  1  ...     0.102404    -0.019609    -0.048995    -0.047884   \n",
       "3                  0  ...     0.107906    -0.019989    -0.056005    -0.044948   \n",
       "4                  1  ...     0.107701    -0.017496    -0.056957    -0.045794   \n",
       "...              ...  ...          ...          ...          ...          ...   \n",
       "5995               0  ...     0.114354    -0.019981    -0.057858    -0.049893   \n",
       "5996               0  ...     0.114933    -0.019503    -0.057773    -0.045261   \n",
       "5997               0  ...     0.120842    -0.017044    -0.065351    -0.055208   \n",
       "5998               1  ...     0.070882    -0.012330    -0.038507    -0.026567   \n",
       "5999               1  ...     0.120092    -0.020038    -0.061751    -0.052126   \n",
       "\n",
       "      word_embd95  word_embd96  word_embd97  word_embd98  word_embd99  \\\n",
       "0        0.172792     0.216901     0.117153    -0.270527     0.116663   \n",
       "1        0.218529     0.267444     0.145444    -0.331372     0.145474   \n",
       "2        0.194819     0.240549     0.122888    -0.295701     0.133466   \n",
       "3        0.194784     0.243371     0.125679    -0.300108     0.131054   \n",
       "4        0.187642     0.243975     0.119535    -0.289327     0.121270   \n",
       "...           ...          ...          ...          ...          ...   \n",
       "5995     0.212476     0.258307     0.137682    -0.321650     0.133152   \n",
       "5996     0.203949     0.256139     0.135150    -0.307904     0.131626   \n",
       "5997     0.216737     0.277439     0.140653    -0.334649     0.146658   \n",
       "5998     0.125336     0.161282     0.080636    -0.194492     0.081361   \n",
       "5999     0.210951     0.262715     0.142418    -0.325936     0.144806   \n",
       "\n",
       "      word_embd100  \n",
       "0         0.013846  \n",
       "1         0.020428  \n",
       "2         0.024850  \n",
       "3         0.017979  \n",
       "4         0.017045  \n",
       "...            ...  \n",
       "5995      0.018473  \n",
       "5996      0.019215  \n",
       "5997      0.019712  \n",
       "5998      0.009901  \n",
       "5999      0.016355  \n",
       "\n",
       "[6000 rows x 112 columns]"
      ]
     },
     "execution_count": 82,
     "metadata": {},
     "output_type": "execute_result"
    }
   ],
   "source": [
    "s = pd.concat([s,result_df],axis = 1)\n",
    "s"
   ]
  },
  {
   "cell_type": "code",
   "execution_count": 83,
   "id": "a67fe773",
   "metadata": {
    "execution": {
     "iopub.execute_input": "2023-09-26T16:14:17.559157Z",
     "iopub.status.busy": "2023-09-26T16:14:17.558409Z",
     "iopub.status.idle": "2023-09-26T16:14:17.565130Z",
     "shell.execute_reply": "2023-09-26T16:14:17.564225Z"
    },
    "papermill": {
     "duration": 0.048372,
     "end_time": "2023-09-26T16:14:17.567340",
     "exception": false,
     "start_time": "2023-09-26T16:14:17.518968",
     "status": "completed"
    },
    "tags": []
   },
   "outputs": [],
   "source": [
    "X = s.drop('Spam Indicator',axis = 1)\n",
    "y = s['Spam Indicator']"
   ]
  },
  {
   "cell_type": "code",
   "execution_count": 84,
   "id": "cbef11d6",
   "metadata": {
    "execution": {
     "iopub.execute_input": "2023-09-26T16:14:17.648340Z",
     "iopub.status.busy": "2023-09-26T16:14:17.647470Z",
     "iopub.status.idle": "2023-09-26T16:14:17.662103Z",
     "shell.execute_reply": "2023-09-26T16:14:17.660811Z"
    },
    "papermill": {
     "duration": 0.058117,
     "end_time": "2023-09-26T16:14:17.664512",
     "exception": false,
     "start_time": "2023-09-26T16:14:17.606395",
     "status": "completed"
    },
    "tags": []
   },
   "outputs": [
    {
     "name": "stdout",
     "output_type": "stream",
     "text": [
      "<class 'pandas.core.frame.DataFrame'>\n",
      "RangeIndex: 6000 entries, 0 to 5999\n",
      "Columns: 111 entries, Attachments to word_embd100\n",
      "dtypes: float32(100), int32(2), int64(9)\n",
      "memory usage: 2.7 MB\n"
     ]
    }
   ],
   "source": [
    "X.info()"
   ]
  },
  {
   "cell_type": "code",
   "execution_count": 85,
   "id": "5258d1ab",
   "metadata": {
    "execution": {
     "iopub.execute_input": "2023-09-26T16:14:17.743441Z",
     "iopub.status.busy": "2023-09-26T16:14:17.743048Z",
     "iopub.status.idle": "2023-09-26T16:14:17.752875Z",
     "shell.execute_reply": "2023-09-26T16:14:17.751835Z"
    },
    "papermill": {
     "duration": 0.052118,
     "end_time": "2023-09-26T16:14:17.755445",
     "exception": false,
     "start_time": "2023-09-26T16:14:17.703327",
     "status": "completed"
    },
    "tags": []
   },
   "outputs": [],
   "source": [
    "from sklearn.model_selection import train_test_split\n",
    "X_train,X_test,y_train,y_test = train_test_split(X,y,test_size = 0.25,random_state = 2)\n"
   ]
  },
  {
   "cell_type": "code",
   "execution_count": 86,
   "id": "2d6499f7",
   "metadata": {
    "execution": {
     "iopub.execute_input": "2023-09-26T16:14:17.835790Z",
     "iopub.status.busy": "2023-09-26T16:14:17.835386Z",
     "iopub.status.idle": "2023-09-26T16:14:17.891438Z",
     "shell.execute_reply": "2023-09-26T16:14:17.890464Z"
    },
    "papermill": {
     "duration": 0.099417,
     "end_time": "2023-09-26T16:14:17.894064",
     "exception": false,
     "start_time": "2023-09-26T16:14:17.794647",
     "status": "completed"
    },
    "tags": []
   },
   "outputs": [],
   "source": [
    "from sklearn.preprocessing import RobustScaler\n",
    "\n",
    "\n",
    "rrs =RobustScaler()\n",
    "X_train= rrs.fit_transform(X_train)\n",
    "X_test = rrs.transform(X_test)"
   ]
  },
  {
   "cell_type": "code",
   "execution_count": 87,
   "id": "482a0d09",
   "metadata": {
    "execution": {
     "iopub.execute_input": "2023-09-26T16:14:17.973179Z",
     "iopub.status.busy": "2023-09-26T16:14:17.972817Z",
     "iopub.status.idle": "2023-09-26T16:14:17.980425Z",
     "shell.execute_reply": "2023-09-26T16:14:17.979363Z"
    },
    "papermill": {
     "duration": 0.049649,
     "end_time": "2023-09-26T16:14:17.982579",
     "exception": false,
     "start_time": "2023-09-26T16:14:17.932930",
     "status": "completed"
    },
    "tags": []
   },
   "outputs": [
    {
     "data": {
      "text/plain": [
       "3240    0\n",
       "84      0\n",
       "222     1\n",
       "1559    0\n",
       "5789    1\n",
       "       ..\n",
       "1099    1\n",
       "2514    1\n",
       "3606    0\n",
       "5704    0\n",
       "2575    1\n",
       "Name: Spam Indicator, Length: 4500, dtype: int64"
      ]
     },
     "execution_count": 87,
     "metadata": {},
     "output_type": "execute_result"
    }
   ],
   "source": [
    "y_train"
   ]
  },
  {
   "cell_type": "code",
   "execution_count": 88,
   "id": "ba148502",
   "metadata": {
    "execution": {
     "iopub.execute_input": "2023-09-26T16:14:18.064851Z",
     "iopub.status.busy": "2023-09-26T16:14:18.064467Z",
     "iopub.status.idle": "2023-09-26T16:14:18.175558Z",
     "shell.execute_reply": "2023-09-26T16:14:18.174431Z"
    },
    "papermill": {
     "duration": 0.153889,
     "end_time": "2023-09-26T16:14:18.178295",
     "exception": false,
     "start_time": "2023-09-26T16:14:18.024406",
     "status": "completed"
    },
    "tags": []
   },
   "outputs": [
    {
     "data": {
      "text/html": [
       "<style>#sk-container-id-2 {color: black;background-color: white;}#sk-container-id-2 pre{padding: 0;}#sk-container-id-2 div.sk-toggleable {background-color: white;}#sk-container-id-2 label.sk-toggleable__label {cursor: pointer;display: block;width: 100%;margin-bottom: 0;padding: 0.3em;box-sizing: border-box;text-align: center;}#sk-container-id-2 label.sk-toggleable__label-arrow:before {content: \"▸\";float: left;margin-right: 0.25em;color: #696969;}#sk-container-id-2 label.sk-toggleable__label-arrow:hover:before {color: black;}#sk-container-id-2 div.sk-estimator:hover label.sk-toggleable__label-arrow:before {color: black;}#sk-container-id-2 div.sk-toggleable__content {max-height: 0;max-width: 0;overflow: hidden;text-align: left;background-color: #f0f8ff;}#sk-container-id-2 div.sk-toggleable__content pre {margin: 0.2em;color: black;border-radius: 0.25em;background-color: #f0f8ff;}#sk-container-id-2 input.sk-toggleable__control:checked~div.sk-toggleable__content {max-height: 200px;max-width: 100%;overflow: auto;}#sk-container-id-2 input.sk-toggleable__control:checked~label.sk-toggleable__label-arrow:before {content: \"▾\";}#sk-container-id-2 div.sk-estimator input.sk-toggleable__control:checked~label.sk-toggleable__label {background-color: #d4ebff;}#sk-container-id-2 div.sk-label input.sk-toggleable__control:checked~label.sk-toggleable__label {background-color: #d4ebff;}#sk-container-id-2 input.sk-hidden--visually {border: 0;clip: rect(1px 1px 1px 1px);clip: rect(1px, 1px, 1px, 1px);height: 1px;margin: -1px;overflow: hidden;padding: 0;position: absolute;width: 1px;}#sk-container-id-2 div.sk-estimator {font-family: monospace;background-color: #f0f8ff;border: 1px dotted black;border-radius: 0.25em;box-sizing: border-box;margin-bottom: 0.5em;}#sk-container-id-2 div.sk-estimator:hover {background-color: #d4ebff;}#sk-container-id-2 div.sk-parallel-item::after {content: \"\";width: 100%;border-bottom: 1px solid gray;flex-grow: 1;}#sk-container-id-2 div.sk-label:hover label.sk-toggleable__label {background-color: #d4ebff;}#sk-container-id-2 div.sk-serial::before {content: \"\";position: absolute;border-left: 1px solid gray;box-sizing: border-box;top: 0;bottom: 0;left: 50%;z-index: 0;}#sk-container-id-2 div.sk-serial {display: flex;flex-direction: column;align-items: center;background-color: white;padding-right: 0.2em;padding-left: 0.2em;position: relative;}#sk-container-id-2 div.sk-item {position: relative;z-index: 1;}#sk-container-id-2 div.sk-parallel {display: flex;align-items: stretch;justify-content: center;background-color: white;position: relative;}#sk-container-id-2 div.sk-item::before, #sk-container-id-2 div.sk-parallel-item::before {content: \"\";position: absolute;border-left: 1px solid gray;box-sizing: border-box;top: 0;bottom: 0;left: 50%;z-index: -1;}#sk-container-id-2 div.sk-parallel-item {display: flex;flex-direction: column;z-index: 1;position: relative;background-color: white;}#sk-container-id-2 div.sk-parallel-item:first-child::after {align-self: flex-end;width: 50%;}#sk-container-id-2 div.sk-parallel-item:last-child::after {align-self: flex-start;width: 50%;}#sk-container-id-2 div.sk-parallel-item:only-child::after {width: 0;}#sk-container-id-2 div.sk-dashed-wrapped {border: 1px dashed gray;margin: 0 0.4em 0.5em 0.4em;box-sizing: border-box;padding-bottom: 0.4em;background-color: white;}#sk-container-id-2 div.sk-label label {font-family: monospace;font-weight: bold;display: inline-block;line-height: 1.2em;}#sk-container-id-2 div.sk-label-container {text-align: center;}#sk-container-id-2 div.sk-container {/* jupyter's `normalize.less` sets `[hidden] { display: none; }` but bootstrap.min.css set `[hidden] { display: none !important; }` so we also need the `!important` here to be able to override the default hidden behavior on the sphinx rendered scikit-learn.org. See: https://github.com/scikit-learn/scikit-learn/issues/21755 */display: inline-block !important;position: relative;}#sk-container-id-2 div.sk-text-repr-fallback {display: none;}</style><div id=\"sk-container-id-2\" class=\"sk-top-container\"><div class=\"sk-text-repr-fallback\"><pre>LogisticRegression()</pre><b>In a Jupyter environment, please rerun this cell to show the HTML representation or trust the notebook. <br />On GitHub, the HTML representation is unable to render, please try loading this page with nbviewer.org.</b></div><div class=\"sk-container\" hidden><div class=\"sk-item\"><div class=\"sk-estimator sk-toggleable\"><input class=\"sk-toggleable__control sk-hidden--visually\" id=\"sk-estimator-id-2\" type=\"checkbox\" checked><label for=\"sk-estimator-id-2\" class=\"sk-toggleable__label sk-toggleable__label-arrow\">LogisticRegression</label><div class=\"sk-toggleable__content\"><pre>LogisticRegression()</pre></div></div></div></div></div>"
      ],
      "text/plain": [
       "LogisticRegression()"
      ]
     },
     "execution_count": 88,
     "metadata": {},
     "output_type": "execute_result"
    }
   ],
   "source": [
    "from sklearn.linear_model import LogisticRegression \n",
    "from sklearn.metrics import accuracy_score\n",
    "log = LogisticRegression()\n",
    "log.fit(X_train,y_train)"
   ]
  },
  {
   "cell_type": "code",
   "execution_count": 89,
   "id": "f5228227",
   "metadata": {
    "execution": {
     "iopub.execute_input": "2023-09-26T16:14:18.303842Z",
     "iopub.status.busy": "2023-09-26T16:14:18.302939Z",
     "iopub.status.idle": "2023-09-26T16:14:18.314452Z",
     "shell.execute_reply": "2023-09-26T16:14:18.313389Z"
    },
    "papermill": {
     "duration": 0.072809,
     "end_time": "2023-09-26T16:14:18.317160",
     "exception": false,
     "start_time": "2023-09-26T16:14:18.244351",
     "status": "completed"
    },
    "tags": []
   },
   "outputs": [
    {
     "data": {
      "text/plain": [
       "56.666666666666664"
      ]
     },
     "execution_count": 89,
     "metadata": {},
     "output_type": "execute_result"
    }
   ],
   "source": [
    "log.score(X_train,y_train)*100"
   ]
  },
  {
   "cell_type": "code",
   "execution_count": 90,
   "id": "13cfaf32",
   "metadata": {
    "execution": {
     "iopub.execute_input": "2023-09-26T16:14:18.442394Z",
     "iopub.status.busy": "2023-09-26T16:14:18.442041Z",
     "iopub.status.idle": "2023-09-26T16:14:18.449311Z",
     "shell.execute_reply": "2023-09-26T16:14:18.448251Z"
    },
    "papermill": {
     "duration": 0.06881,
     "end_time": "2023-09-26T16:14:18.452112",
     "exception": false,
     "start_time": "2023-09-26T16:14:18.383302",
     "status": "completed"
    },
    "tags": []
   },
   "outputs": [],
   "source": [
    "pred = log.predict(X_test)"
   ]
  },
  {
   "cell_type": "code",
   "execution_count": 91,
   "id": "cc740e1e",
   "metadata": {
    "execution": {
     "iopub.execute_input": "2023-09-26T16:14:18.579455Z",
     "iopub.status.busy": "2023-09-26T16:14:18.579092Z",
     "iopub.status.idle": "2023-09-26T16:14:18.590806Z",
     "shell.execute_reply": "2023-09-26T16:14:18.589713Z"
    },
    "papermill": {
     "duration": 0.075115,
     "end_time": "2023-09-26T16:14:18.593594",
     "exception": false,
     "start_time": "2023-09-26T16:14:18.518479",
     "status": "completed"
    },
    "tags": []
   },
   "outputs": [
    {
     "data": {
      "text/plain": [
       "46.86666666666667"
      ]
     },
     "execution_count": 91,
     "metadata": {},
     "output_type": "execute_result"
    }
   ],
   "source": [
    "log.score(X_test,y_test)*100"
   ]
  },
  {
   "cell_type": "code",
   "execution_count": 92,
   "id": "bfc85db8",
   "metadata": {
    "execution": {
     "iopub.execute_input": "2023-09-26T16:14:18.720630Z",
     "iopub.status.busy": "2023-09-26T16:14:18.720237Z",
     "iopub.status.idle": "2023-09-26T16:14:18.729951Z",
     "shell.execute_reply": "2023-09-26T16:14:18.728769Z"
    },
    "papermill": {
     "duration": 0.071242,
     "end_time": "2023-09-26T16:14:18.732092",
     "exception": false,
     "start_time": "2023-09-26T16:14:18.660850",
     "status": "completed"
    },
    "tags": []
   },
   "outputs": [
    {
     "data": {
      "text/plain": [
       "array([[381, 365],\n",
       "       [432, 322]])"
      ]
     },
     "execution_count": 92,
     "metadata": {},
     "output_type": "execute_result"
    }
   ],
   "source": [
    "from sklearn.metrics import confusion_matrix, classification_report\n",
    "cm = confusion_matrix(y_test, pred)\n",
    "cm"
   ]
  },
  {
   "cell_type": "code",
   "execution_count": null,
   "id": "5d13fef6",
   "metadata": {
    "papermill": {
     "duration": 0.039023,
     "end_time": "2023-09-26T16:14:18.811616",
     "exception": false,
     "start_time": "2023-09-26T16:14:18.772593",
     "status": "completed"
    },
    "tags": []
   },
   "outputs": [],
   "source": []
  },
  {
   "cell_type": "code",
   "execution_count": null,
   "id": "a39785a0",
   "metadata": {
    "papermill": {
     "duration": 0.038864,
     "end_time": "2023-09-26T16:14:18.889609",
     "exception": false,
     "start_time": "2023-09-26T16:14:18.850745",
     "status": "completed"
    },
    "tags": []
   },
   "outputs": [],
   "source": []
  }
 ],
 "metadata": {
  "kernelspec": {
   "display_name": "Python 3",
   "language": "python",
   "name": "python3"
  },
  "language_info": {
   "codemirror_mode": {
    "name": "ipython",
    "version": 3
   },
   "file_extension": ".py",
   "mimetype": "text/x-python",
   "name": "python",
   "nbconvert_exporter": "python",
   "pygments_lexer": "ipython3",
   "version": "3.10.12"
  },
  "papermill": {
   "default_parameters": {},
   "duration": 37.400353,
   "end_time": "2023-09-26T16:14:19.950800",
   "environment_variables": {},
   "exception": null,
   "input_path": "__notebook__.ipynb",
   "output_path": "__notebook__.ipynb",
   "parameters": {},
   "start_time": "2023-09-26T16:13:42.550447",
   "version": "2.4.0"
  }
 },
 "nbformat": 4,
 "nbformat_minor": 5
}
